{
 "cells": [
  {
   "cell_type": "code",
   "execution_count": 1,
   "metadata": {},
   "outputs": [],
   "source": [
    "import numpy as np\n",
    "import matplotlib.pyplot as plt\n",
    "import pandas as pd\n",
    "from tqdm import tqdm\n",
    "from typing import List, Tuple\n",
    "import os\n",
    "import csv\n",
    "from matplotlib.colors import LinearSegmentedColormap\n",
    "from sklearn.metrics import accuracy_score\n",
    "\n",
    "%load_ext autoreload\n",
    "%autoreload 2"
   ]
  },
  {
   "cell_type": "code",
   "execution_count": 2,
   "metadata": {},
   "outputs": [],
   "source": [
    "import matplotlib.pyplot as plt # visual from MS-TCN and diffact https://github.com/Finspire13/DiffAct/blob/main/utils.py\n",
    "def plot_barcode(gt=None, pred=None, show=True, save_file=None):\n",
    "\n",
    "    # red = np.array([1, 0, 0, 1])\n",
    "    red = [0.47, 0.11, 0.2, 1]  # RGB values for #c81c34\n",
    "    red = np.append(np.array([200, 28, 52])/255, np.array([1]))\n",
    "    # green = np.array([0, 1, 0, 1])\n",
    "    green = [0.43, 0.76, 0.46, 1]  # RGB values for #6fc276\n",
    "    green = np.append(np.array([38,140,47])/255, np.array([1]))\n",
    "    colors = [red, green]\n",
    "    color_map = LinearSegmentedColormap.from_list(\"Custom\", colors, N=2)\n",
    "\n",
    "    axprops = dict(xticks=[], yticks=[], frameon=False)\n",
    "    barprops = dict(aspect='auto', cmap=color_map, \n",
    "                interpolation='nearest', vmin=0, vmax=1)\n",
    "\n",
    "    # axprops = dict(xticks=[], yticks=[], frameon=False)\n",
    "    # barprops = dict(aspect='auto', cmap=color_map, \n",
    "    #             interpolation='nearest', vmin=0, vmax=class_num-1)\n",
    "\n",
    "    fig = plt.figure(figsize=(18, 4))\n",
    "\n",
    "    # a horizontal barcode\n",
    "    if gt is not None:\n",
    "        ax1 = fig.add_axes([0, 0.45, 1, 0.2], **axprops)\n",
    "        ax1.set_title('Ground Truth')\n",
    "        ax1.imshow(gt.reshape((1, -1)), **barprops)\n",
    "\n",
    "    if pred is not None:\n",
    "        ax2 = fig.add_axes([0, 0.15, 1, 0.2], **axprops)\n",
    "        ax2.set_title('Predicted')\n",
    "        ax2.imshow(pred.reshape((1, -1)), **barprops)\n",
    "\n",
    "    if save_file is not None:\n",
    "        fig.savefig(save_file, dpi=400)\n",
    "    if show:\n",
    "        plt.show()\n",
    "    plt.close()\n"
   ]
  },
  {
   "cell_type": "code",
   "execution_count": 3,
   "metadata": {},
   "outputs": [],
   "source": [
    "def condense_dataframe(df: pd.DataFrame, priority: dict = None) -> pd.DataFrame:\n",
    "    \"\"\"\n",
    "    deals with duplicate images which have multiple contact states\n",
    "    \n",
    "    Condenses a pandas DataFrame by ensuring each 'image' entry is unique and retains\n",
    "    the most relevant 'contact_label_pred' based on a set priority.\n",
    "\n",
    "    The function operates under the rule that if multiple entries exist for the same 'image',\n",
    "    it prioritizes keeping the entry with 'contact_label_pred' as \"Portable Object Contact\" over\n",
    "    \"Stationary Object Contact\", and \"Stationary Object Contact\" over \"No Contact\". This is\n",
    "    done by sorting the DataFrame according to the 'image' and a custom priority assigned to\n",
    "    'contact_label_pred', then removing duplicate 'image' entries while keeping the entry with the\n",
    "    highest-priority 'contact_label_pred'.\n",
    "    \"\"\"\n",
    "    if priority is None:\n",
    "        priority = {\n",
    "            \"Portable Object\": 1,\n",
    "            \"Portable Object Contact\": 1,\n",
    "            \"Stationary Object Contact\": 2,\n",
    "            \"No Contact\": 3\n",
    "        }\n",
    "\n",
    "    # Sort the DataFrame based on 'image' and the custom priority of 'contact_label_pred'\n",
    "\n",
    "    df['priority'] = df['contact_label_pred'].map(priority)\n",
    "\n",
    "    df = df.sort_values(by=['frame_id', 'priority'])\n",
    "\n",
    "    # Drop the 'priority' column as it's no longer needed after sorting\n",
    "    df.drop('priority', axis=1, inplace=True)\n",
    "\n",
    "    # Remove duplicates, keeping the first occurrence\n",
    "    df = df.drop_duplicates(subset='frame_id', keep='first')\n",
    "\n",
    "    return df.iloc[df['frame_id'].map(lambda x: int(x.split('_')[0])).argsort()].reset_index(drop=True)\n",
    "\n",
    "def get_last_indices_of_consecutive_labels2(df, transformation_dict):\n",
    "    last_indices = {}\n",
    "    last_label = None\n",
    "\n",
    "    for index, row in df.iterrows():\n",
    "        current_label = row['contact_label_pred']\n",
    "        # If the current label is different from the last one, update the dictionary\n",
    "        if current_label != last_label:\n",
    "            if last_label is not None:  # to skip the very first label\n",
    "                # Transform the label using the transformation_dict\n",
    "                transformed_label = transformation_dict.get(last_label, last_label)\n",
    "                last_indices[last_index] = transformed_label\n",
    "            last_label = current_label\n",
    "        last_index = index  # keep track of the last index\n",
    "    \n",
    "    # Add the last label and index after the loop\n",
    "    # Transform the label using the transformation_dict\n",
    "    transformed_label = transformation_dict.get(current_label, current_label)\n",
    "    last_indices[last_index] = transformed_label\n",
    "    return last_indices\n",
    "\n",
    "def csv_to_tuples(filename):\n",
    "    data = []\n",
    "    with open(filename, 'r') as csvfile:\n",
    "        reader = csv.reader(csvfile)\n",
    "        next(reader)  # Skip header row if it exists\n",
    "        for row in reader:\n",
    "            # Skip the first column and convert the rest to integers\n",
    "            holding_transitions, not_holding_transitions = map(int, row[1:])\n",
    "            data.append((holding_transitions, not_holding_transitions))\n",
    "    return data\n",
    "\n",
    "def comparison_dicts(gt_transitions: List[tuple], max_len) -> Tuple[dict]:\n",
    "    \"\"\"\n",
    "    Args:\n",
    "        gt_transitions: List of tuples of ground truth transition frames in form [(start1, end1), (start2, end2) ...]\n",
    "    \"\"\"\n",
    "\n",
    "    def transition_to_dict(trns: List[Tuple[int, int]]) -> dict:\n",
    "        output_dict = {}\n",
    "        for bound in trns:\n",
    "            output_dict[bound[0]] = \"red\"\n",
    "            output_dict[bound[1]] = \"green\"\n",
    "        return output_dict\n",
    "    \n",
    "    trans_dict_gt = transition_to_dict(gt_transitions)\n",
    "    trans_dict_gt[max_len] = \"red\"  # need to make remaining frames without contact red\n",
    "    return trans_dict_gt\n",
    "\n",
    "\n",
    "def plot_colored_horizontal_lines(col_dict1, col_dict2, line_height=1, label_offset=0.5, x_ticks_interval=None):\n",
    "    \"\"\"\n",
    "    Plot two colored horizontal lines with labels to the left of them.\n",
    "\n",
    "    :param col_dict1: Dictionary for the first line with keys as the end index of the color and values as the colors\n",
    "    :param col_dict2: Dictionary for the second line with keys as the end index of the color and values as the colors\n",
    "    :param line_height: Height of the lines\n",
    "    :param label_offset: Offset to control the distance between lines and labels\n",
    "    :param x_ticks_interval: Interval for x-axis ticks (set to None for automatic ticks)\n",
    "\n",
    "    Example:\n",
    "        col_dict1 = {15: 'blue', 20: 'red', 200: 'pink'}\n",
    "        col_dict2 = {10: 'green', 30: 'purple', 90: 'orange', 120: \"green\"}\n",
    "        plot_colored_horizontal_lines(col_dict1, col_dict2, line_height=1, label_offset=0.5, x_ticks_interval=50)\n",
    "    \"\"\"\n",
    "    line_width = 10\n",
    "\n",
    "    # Calculate figure height based on line_height and x_ticks_interval\n",
    "    figure_height = line_height * 1.25 if x_ticks_interval else line_height\n",
    "\n",
    "    # Create a figure and a set of subplots\n",
    "    fig, ax = plt.subplots(figsize=(line_width, figure_height))\n",
    "\n",
    "    # Initial start position for the first line\n",
    "    start1 = 0\n",
    "    for end, color in sorted(col_dict1.items()):\n",
    "        ax.plot([start1, end], [0, 0], color=color, lw=line_width, solid_capstyle='butt')\n",
    "        start1 = end\n",
    "\n",
    "    # Initial start position for the second line\n",
    "    start2 = 0\n",
    "    for end, color in sorted(col_dict2.items()):\n",
    "        ax.plot([start2, end], [-line_height, -line_height], color=color, lw=line_width, solid_capstyle='butt')\n",
    "        start2 = end\n",
    "\n",
    "    # Set the limits for the x-axis and y-axis\n",
    "    max_x = max(max(col_dict1.keys()), max(col_dict2.keys()))\n",
    "    ax.set_xlim(0, max_x)\n",
    "    ax.set_ylim(-2 * line_height, line_height)\n",
    "\n",
    "    # Remove the y-axis\n",
    "    ax.yaxis.set_visible(False)\n",
    "\n",
    "    # Remove the spines of the plot\n",
    "    for spine in ax.spines.values():\n",
    "        spine.set_visible(False)\n",
    "\n",
    "    # Add labels to the left of the lines with appropriate offset\n",
    "    ax.text(-label_offset, 0, \"Pred:\", va='center', ha='right', fontsize=12, color='black')\n",
    "    ax.text(-label_offset, -line_height, \"GT:\", va='center', ha='right', fontsize=12, color='black')\n",
    "\n",
    "    # Set x-axis ticks every x_ticks_interval units if specified\n",
    "    if x_ticks_interval is not None:\n",
    "        ax.set_xticks(range(0, int(max_x) + 1, x_ticks_interval))\n",
    "        ax.tick_params(axis='x', rotation=45)  # Rotate x-axis ticks by 45 degrees\n",
    "\n",
    "    # Show the plot\n",
    "    plt.tight_layout()\n",
    "    plt.show()\n",
    "\n",
    "transformation_dict = {\"Portable Object Contact\": \"green\", \"Portable Object\": \"green\", \"Stationary Object Contact\": \"red\", \"No Contact\": \"red\", \"Self Contact\": \"red\"}"
   ]
  },
  {
   "cell_type": "markdown",
   "metadata": {},
   "source": [
    "# prettier version"
   ]
  },
  {
   "cell_type": "code",
   "execution_count": 4,
   "metadata": {},
   "outputs": [
    {
     "name": "stdout",
     "output_type": "stream",
     "text": [
      "0.9223956966675413\n"
     ]
    },
    {
     "data": {
      "image/png": "[encoded data removed]",
      "text/plain": [
       "<Figure size 1800x400 with 2 Axes>"
      ]
     },
     "metadata": {},
     "output_type": "display_data"
    },
    {
     "name": "stdout",
     "output_type": "stream",
     "text": [
      "0.9262529213191378\n"
     ]
    },
    {
     "data": {
      "image/png": "[encoded data removed]",
      "text/plain": [
       "<Figure size 1800x400 with 2 Axes>"
      ]
     },
     "metadata": {},
     "output_type": "display_data"
    },
    {
     "name": "stdout",
     "output_type": "stream",
     "text": [
      "0.9130516080777861\n"
     ]
    },
    {
     "data": {
      "image/png": "[encoded data removed]",
      "text/plain": [
       "<Figure size 1800x400 with 2 Axes>"
      ]
     },
     "metadata": {},
     "output_type": "display_data"
    },
    {
     "name": "stdout",
     "output_type": "stream",
     "text": [
      "0.922426154287353\n"
     ]
    },
    {
     "data": {
      "image/png": "[encoded data removed]",
      "text/plain": [
       "<Figure size 1800x400 with 2 Axes>"
      ]
     },
     "metadata": {},
     "output_type": "display_data"
    },
    {
     "name": "stdout",
     "output_type": "stream",
     "text": [
      "0.9237971391417426\n"
     ]
    },
    {
     "data": {
      "image/png": "[encoded data removed]",
      "text/plain": [
       "<Figure size 1800x400 with 2 Axes>"
      ]
     },
     "metadata": {},
     "output_type": "display_data"
    }
   ],
   "source": [
    "transformation_dict = {\"Portable Object Contact\": \"green\", \"Portable Object\": \"green\", \"Stationary Object Contact\": \"red\", \"No Contact\": \"red\", \"Self Contact\": \"red\"}\n",
    "\n",
    "def display_bars_from_file(dir_: str, gt_dir: str):\n",
    "    \"\"\"uses old priority\"\"\"\n",
    "    if dir_[-1] != \"/\":\n",
    "        raise ValueError(\"NOAH! DIR NEEDS TO END IN '/'\")\n",
    "\n",
    "    raw_preds = pd.read_csv(dir_ + \"pred_every_obj.csv\")\n",
    "\n",
    "    gt = pd.read_csv(dir_ + gt_dir)\n",
    "\n",
    "    preds_cond = condense_dataframe(raw_preds, priority_old)\n",
    "    pred_bin = preds_cond[\"contact_label_pred\"].map({\"Portable Object\": 1, \"No Contact\": 0 , \"Stationary Object Contact\": 0, \"Self Contact\": 0}).to_numpy().astype(np.int8)\n",
    "    gt_bin = gt[\"label\"].map({\"not_holding\": 0, \"holding\": 1}).to_numpy().astype(np.int8)\n",
    "\n",
    "    if len(gt_bin) < len(pred_bin):\n",
    "        padding_length = len(pred_bin) - len(gt_bin)\n",
    "        padding = np.zeros(padding_length)\n",
    "        gt_bin = np.concatenate((gt_bin, padding))\n",
    "\n",
    "    print(accuracy_score(gt_bin, pred_bin))\n",
    "    plot_barcode(gt_bin, pred_bin)\n",
    "\n",
    "    \n",
    "\n",
    "sv_base = '/home/nripstein/Documents/thesis data/thesis labels/sv labels/'\n",
    "\n",
    "directories = [sv_base + f'sv{i}_frames/' for i in (1, 2, 3, 4, 5)]\n",
    "\n",
    "shrunks = [f\"sv{i}_shrunk\" for i in (1, 2, 3, 4, 5)]\n",
    "\n",
    "gts = [f\"sv{i}_frames_labels.csv\" for i in (1, 2, 3, 4, 5)]\n",
    "\n",
    "\n",
    "priority_old = {\n",
    "            \"Portable Object\": 3,\n",
    "            \"Portable Object Contact\": 3,\n",
    "            \"Stationary Object Contact\": 2,\n",
    "            \"No Contact\": 1\n",
    "        }\n",
    "\n",
    "for i in range(len(directories)):\n",
    "    display_bars_from_file(directories[i], gts[i])\n"
   ]
  },
  {
   "cell_type": "code",
   "execution_count": 5,
   "metadata": {},
   "outputs": [
    {
     "name": "stdout",
     "output_type": "stream",
     "text": [
      "Accuracy: 0.92\n"
     ]
    },
    {
     "data": {
      "image/png": "[encoded data removed]",
      "text/plain": [
       "<Figure size 1800x400 with 2 Axes>"
      ]
     },
     "metadata": {},
     "output_type": "display_data"
    },
    {
     "name": "stdout",
     "output_type": "stream",
     "text": [
      "Accuracy: 0.93\n"
     ]
    },
    {
     "data": {
      "image/png": "[encoded data removed]",
      "text/plain": [
       "<Figure size 1800x400 with 2 Axes>"
      ]
     },
     "metadata": {},
     "output_type": "display_data"
    },
    {
     "name": "stdout",
     "output_type": "stream",
     "text": [
      "Accuracy: 0.91\n"
     ]
    },
    {
     "data": {
      "image/png": "[encoded data removed]",
      "text/plain": [
       "<Figure size 1800x400 with 2 Axes>"
      ]
     },
     "metadata": {},
     "output_type": "display_data"
    },
    {
     "name": "stdout",
     "output_type": "stream",
     "text": [
      "Accuracy: 0.92\n"
     ]
    },
    {
     "data": {
      "image/png": "[encoded data removed]",
      "text/plain": [
       "<Figure size 1800x400 with 2 Axes>"
      ]
     },
     "metadata": {},
     "output_type": "display_data"
    },
    {
     "name": "stdout",
     "output_type": "stream",
     "text": [
      "Accuracy: 0.92\n"
     ]
    },
    {
     "data": {
      "image/png": "[encoded data removed]",
      "text/plain": [
       "<Figure size 1800x400 with 2 Axes>"
      ]
     },
     "metadata": {},
     "output_type": "display_data"
    },
    {
     "name": "stdout",
     "output_type": "stream",
     "text": [
      "Overall Accuracy: 0.92\n"
     ]
    }
   ],
   "source": [
    "import numpy as np\n",
    "import pandas as pd\n",
    "from sklearn.metrics import accuracy_score\n",
    "\n",
    "\n",
    "def extract_binary_arrays(dir_: str, gt_dir: str, priority_dict):\n",
    "    \"\"\"Extract binary arrays from ground truth and prediction CSV files.\"\"\"\n",
    "    if dir_[-1] != \"/\":\n",
    "        raise ValueError(\"Directory path must end with '/'\")\n",
    "    \n",
    "    # Read predictions and ground truth CSV files\n",
    "    raw_preds = pd.read_csv(dir_ + \"pred_every_obj.csv\")\n",
    "    gt = pd.read_csv(dir_ + gt_dir)\n",
    "\n",
    "    # Transform labels according to specified mappings and priorities\n",
    "    preds_cond = condense_dataframe(raw_preds, priority_dict)\n",
    "    pred_bin = preds_cond[\"contact_label_pred\"].map({\"Portable Object\": 1, \"No Contact\": 0, \"Stationary Object Contact\": 0, \"Self Contact\": 0}).to_numpy().astype(np.int8)\n",
    "    gt_bin = gt[\"label\"].map({\"not_holding\": 0, \"holding\": 1}).to_numpy().astype(np.int8)\n",
    "\n",
    "    # Pad ground truth array if necessary\n",
    "    if len(gt_bin) < len(pred_bin):\n",
    "        padding_length = len(pred_bin) - len(gt_bin)\n",
    "        padding = np.zeros(padding_length, dtype=np.int8)\n",
    "        gt_bin = np.concatenate((gt_bin, padding))\n",
    "    \n",
    "    return gt_bin, pred_bin\n",
    "\n",
    "def display_results(gt_bin, pred_bin):\n",
    "    \"\"\"Display accuracy and barcode plots for the given binary arrays.\"\"\"\n",
    "    # Calculate and print accuracy\n",
    "    accuracy = accuracy_score(gt_bin, pred_bin)\n",
    "    print(f\"Accuracy: {accuracy:.2f}\")\n",
    "\n",
    "    # Display barcode plot\n",
    "    plot_barcode(gt_bin, pred_bin)\n",
    "\n",
    "# Base directory and file names setup\n",
    "sv_base = '/home/nripstein/Documents/thesis data/thesis labels/sv labels/'\n",
    "directories = [sv_base + f'sv{i}_frames/' for i in range(1, 6)]\n",
    "gts = [f\"sv{i}_frames_labels.csv\" for i in range(1, 6)]\n",
    "priority_old = {\n",
    "    \"Portable Object\": 3,\n",
    "    \"Portable Object Contact\": 3,\n",
    "    \"Stationary Object Contact\": 2,\n",
    "    \"No Contact\": 1\n",
    "}\n",
    "\n",
    "\n",
    "all_gt_bins = []\n",
    "all_pred_bins = []\n",
    "\n",
    "# Iterate through directories and process each\n",
    "for dir_, gt_dir in zip(directories, gts):\n",
    "    gt_bin, pred_bin = extract_binary_arrays(dir_, gt_dir, priority_old)\n",
    "    display_results(gt_bin, pred_bin)\n",
    "    all_gt_bins.append(gt_bin)\n",
    "    all_pred_bins.append(pred_bin)\n",
    "\n",
    "# Concatenate all arrays into single 1D arrays\n",
    "all_gt_bin_sv = np.concatenate(all_gt_bins)\n",
    "all_pred_bin_sv = np.concatenate(all_pred_bins)\n",
    "print(f\"Overall Accuracy: {accuracy_score(all_gt_bin_sv, all_pred_bin_sv):.2f}\")\n"
   ]
  },
  {
   "cell_type": "markdown",
   "metadata": {},
   "source": [
    "# SR"
   ]
  },
  {
   "cell_type": "code",
   "execution_count": 6,
   "metadata": {},
   "outputs": [
    {
     "name": "stdout",
     "output_type": "stream",
     "text": [
      "Accuracy: 0.87\n"
     ]
    },
    {
     "data": {
      "image/png": "[encoded data removed]",
      "text/plain": [
       "<Figure size 1800x400 with 2 Axes>"
      ]
     },
     "metadata": {},
     "output_type": "display_data"
    },
    {
     "name": "stdout",
     "output_type": "stream",
     "text": [
      "Accuracy: 0.91\n"
     ]
    },
    {
     "data": {
      "image/png": "[encoded data removed]",
      "text/plain": [
       "<Figure size 1800x400 with 2 Axes>"
      ]
     },
     "metadata": {},
     "output_type": "display_data"
    },
    {
     "name": "stdout",
     "output_type": "stream",
     "text": [
      "Accuracy: 0.90\n"
     ]
    },
    {
     "data": {
      "image/png": "[encoded data removed]",
      "text/plain": [
       "<Figure size 1800x400 with 2 Axes>"
      ]
     },
     "metadata": {},
     "output_type": "display_data"
    },
    {
     "name": "stdout",
     "output_type": "stream",
     "text": [
      "Accuracy: 0.92\n"
     ]
    },
    {
     "data": {
      "image/png": "[encoded data removed]",
      "text/plain": [
       "<Figure size 1800x400 with 2 Axes>"
      ]
     },
     "metadata": {},
     "output_type": "display_data"
    },
    {
     "name": "stdout",
     "output_type": "stream",
     "text": [
      "Overall Accuracy: 0.89\n"
     ]
    }
   ],
   "source": [
    "import numpy as np\n",
    "import pandas as pd\n",
    "from sklearn.metrics import accuracy_score\n",
    "\n",
    "\n",
    "def extract_binary_arrays(dir_: str, gt_dir: str, priority_dict):\n",
    "    \"\"\"Extract binary arrays from ground truth and prediction CSV files.\"\"\"\n",
    "    if dir_[-1] != \"/\":\n",
    "        raise ValueError(\"Directory path must end with '/'\")\n",
    "    \n",
    "    # Read predictions and ground truth CSV files\n",
    "    raw_preds = pd.read_csv(dir_ + \"pred_every_obj.csv\")\n",
    "    gt = pd.read_csv(dir_ + gt_dir)\n",
    "\n",
    "    # Transform labels according to specified mappings and priorities\n",
    "    preds_cond = condense_dataframe(raw_preds, priority_dict)\n",
    "    pred_bin = preds_cond[\"contact_label_pred\"].map({\"Portable Object\": 1, \"No Contact\": 0, \"Stationary Object Contact\": 0, \"Self Contact\": 0}).to_numpy().astype(np.int8)\n",
    "    gt_bin = gt[\"label\"].map({\"not_holding\": 0, \"holding\": 1}).to_numpy().astype(np.int8)\n",
    "\n",
    "    # Pad ground truth array if necessary\n",
    "    if len(gt_bin) < len(pred_bin):\n",
    "        padding_length = len(pred_bin) - len(gt_bin)\n",
    "        padding = np.zeros(padding_length, dtype=np.int8)\n",
    "        gt_bin = np.concatenate((gt_bin, padding))\n",
    "    \n",
    "    return gt_bin, pred_bin\n",
    "\n",
    "def display_results(gt_bin, pred_bin):\n",
    "    \"\"\"Display accuracy and barcode plots for the given binary arrays.\"\"\"\n",
    "    # Calculate and print accuracy\n",
    "    accuracy = accuracy_score(gt_bin, pred_bin)\n",
    "    print(f\"Accuracy: {accuracy:.2f}\")\n",
    "\n",
    "    # Display barcode plot\n",
    "    plot_barcode(gt_bin, pred_bin)\n",
    "\n",
    "# Base directory and file names setup\n",
    "sr_base = '/home/nripstein/Documents/thesis data/thesis labels/sr labels/'\n",
    "directories = [sr_base + f'sr{i}/' for i in range(1, 5)]\n",
    "gts = [f\"sr{i}_labels.csv\" for i in range(1, 5)]\n",
    "priority_old = {\n",
    "    \"Portable Object\": 3,\n",
    "    \"Portable Object Contact\": 3,\n",
    "    \"Stationary Object Contact\": 2,\n",
    "    \"No Contact\": 1\n",
    "}\n",
    "\n",
    "all_gt_bins = []\n",
    "all_pred_bins = []\n",
    "\n",
    "# Iterate through directories and process each\n",
    "for dir_, gt_dir in zip(directories, gts):\n",
    "    gt_bin, pred_bin = extract_binary_arrays(dir_, gt_dir, priority_old)\n",
    "    display_results(gt_bin, pred_bin)\n",
    "    all_gt_bins.append(gt_bin)\n",
    "    all_pred_bins.append(pred_bin)\n",
    "\n",
    "# Concatenate all arrays into single 1D arrays\n",
    "all_gt_bin_sr = np.concatenate(all_gt_bins)\n",
    "all_pred_bin_sr = np.concatenate(all_pred_bins)\n",
    "print(f\"Overall Accuracy: {accuracy_score(all_gt_bin_sr, all_pred_bin_sr):.2f}\")"
   ]
  },
  {
   "cell_type": "markdown",
   "metadata": {},
   "source": [
    "# NR"
   ]
  },
  {
   "cell_type": "code",
   "execution_count": 7,
   "metadata": {},
   "outputs": [
    {
     "name": "stdout",
     "output_type": "stream",
     "text": [
      "Accuracy: 0.69\n"
     ]
    },
    {
     "data": {
      "image/png": "[encoded data removed]",
      "text/plain": [
       "<Figure size 1800x400 with 2 Axes>"
      ]
     },
     "metadata": {},
     "output_type": "display_data"
    },
    {
     "name": "stdout",
     "output_type": "stream",
     "text": [
      "Overall Accuracy: 0.69\n"
     ]
    }
   ],
   "source": [
    "import numpy as np\n",
    "import pandas as pd\n",
    "from sklearn.metrics import accuracy_score\n",
    "\n",
    "\n",
    "def extract_binary_arrays(dir_: str, gt_dir: str, priority_dict):\n",
    "    \"\"\"Extract binary arrays from ground truth and prediction CSV files.\"\"\"\n",
    "    if dir_[-1] != \"/\":\n",
    "        raise ValueError(\"Directory path must end with '/'\")\n",
    "    \n",
    "    # Read predictions and ground truth CSV files\n",
    "    raw_preds = pd.read_csv(dir_ + \"pred_every_obj.csv\")\n",
    "    gt = pd.read_csv(dir_ + gt_dir)\n",
    "\n",
    "    # Transform labels according to specified mappings and priorities\n",
    "    preds_cond = condense_dataframe(raw_preds, priority_dict)\n",
    "    pred_bin = preds_cond[\"contact_label_pred\"].map({\"Portable Object\": 1, \"No Contact\": 0, \"Stationary Object Contact\": 0, \"Self Contact\": 0}).to_numpy().astype(np.int8)\n",
    "    gt_bin = gt[\"label\"].map({\"not_holding\": 0, \"holding\": 1}).to_numpy().astype(np.int8)\n",
    "\n",
    "    # Pad ground truth array if necessary\n",
    "    if len(gt_bin) < len(pred_bin):\n",
    "        padding_length = len(pred_bin) - len(gt_bin)\n",
    "        padding = np.zeros(padding_length, dtype=np.int8)\n",
    "        gt_bin = np.concatenate((gt_bin, padding))\n",
    "    \n",
    "    return gt_bin, pred_bin\n",
    "\n",
    "def display_results(gt_bin, pred_bin):\n",
    "    \"\"\"Display accuracy and barcode plots for the given binary arrays.\"\"\"\n",
    "    # Calculate and print accuracy\n",
    "    accuracy = accuracy_score(gt_bin, pred_bin)\n",
    "    print(f\"Accuracy: {accuracy:.2f}\")\n",
    "\n",
    "    # Display barcode plot\n",
    "    plot_barcode(gt_bin, pred_bin)\n",
    "\n",
    "# Base directory and file names setup\n",
    "nr_base = '/home/nripstein/Documents/thesis data/thesis labels/nr labels/'\n",
    "directories = [nr_base + \"all_nr/\"]\n",
    "gts = [\"all_nr_labels.csv\"]\n",
    "priority_old = {\n",
    "    \"Portable Object\": 3,\n",
    "    \"Portable Object Contact\": 3,\n",
    "    \"Stationary Object Contact\": 2,\n",
    "    \"No Contact\": 1\n",
    "}\n",
    "\n",
    "all_gt_bins = []\n",
    "all_pred_bins = []\n",
    "\n",
    "# Iterate through directories and process each\n",
    "for dir_, gt_dir in zip(directories, gts):\n",
    "    gt_bin, pred_bin = extract_binary_arrays(dir_, gt_dir, priority_old)\n",
    "    display_results(gt_bin, pred_bin)\n",
    "    all_gt_bins.append(gt_bin)\n",
    "    all_pred_bins.append(pred_bin)\n",
    "\n",
    "# Concatenate all arrays into single 1D arrays\n",
    "all_gt_bin_nr = np.concatenate(all_gt_bins)\n",
    "all_pred_bin_nr = np.concatenate(all_pred_bins)\n",
    "print(f\"Overall Accuracy: {accuracy_score(all_gt_bin_nr, all_pred_bin_nr):.2f}\")"
   ]
  },
  {
   "cell_type": "markdown",
   "metadata": {},
   "source": [
    "# Accuracy for everyone"
   ]
  },
  {
   "cell_type": "code",
   "execution_count": 10,
   "metadata": {},
   "outputs": [
    {
     "name": "stdout",
     "output_type": "stream",
     "text": [
      "Overall Accuracy: 0.87\n"
     ]
    }
   ],
   "source": [
    "all_gt_bin = np.concatenate([all_gt_bin_sv, all_gt_bin_sr, all_gt_bin_nr])\n",
    "all_pred_bin = np.concatenate([all_pred_bin_sv, all_pred_bin_sr, all_pred_bin_nr])\n",
    "print(f\"Overall Accuracy: {accuracy_score(all_gt_bin, all_pred_bin):.2f}\")"
   ]
  },
  {
   "cell_type": "markdown",
   "metadata": {},
   "source": [
    "# F score"
   ]
  },
  {
   "cell_type": "code",
   "execution_count": 27,
   "metadata": {},
   "outputs": [
    {
     "name": "stdout",
     "output_type": "stream",
     "text": [
      "F1@10: 22\n",
      "F1@25: 22\n",
      "F1@50: 19\n"
     ]
    }
   ],
   "source": [
    "import numpy as np\n",
    "\n",
    "def get_labels_start_end_time(frame_wise_labels, bg_class=[\"background\"]):\n",
    "    labels = []\n",
    "    starts = []\n",
    "    ends = []\n",
    "    last_label = frame_wise_labels[0]\n",
    "    if frame_wise_labels[0] not in bg_class:\n",
    "        labels.append(frame_wise_labels[0])\n",
    "        starts.append(0)\n",
    "    for i, label in enumerate(frame_wise_labels):\n",
    "        if label != last_label:\n",
    "            if label not in bg_class:\n",
    "                labels.append(label)\n",
    "                starts.append(i)\n",
    "            if last_label not in bg_class:\n",
    "                ends.append(i)\n",
    "            last_label = label\n",
    "    if last_label not in bg_class:\n",
    "        ends.append(i + 1)\n",
    "    return labels, starts, ends\n",
    "\n",
    "def f_score(recognized, ground_truth, overlap, bg_class=[\"background\"]):\n",
    "    p_label, p_start, p_end = get_labels_start_end_time(recognized, bg_class)\n",
    "    y_label, y_start, y_end = get_labels_start_end_time(ground_truth, bg_class)\n",
    "\n",
    "    tp = 0\n",
    "    fp = 0\n",
    "\n",
    "    hits = np.zeros(len(y_label))\n",
    "\n",
    "    for j in range(len(p_label)):\n",
    "        intersection = np.minimum(p_end[j], y_end) - np.maximum(p_start[j], y_start)\n",
    "        union = np.maximum(p_end[j], y_end) - np.minimum(p_start[j], y_start)\n",
    "        IoU = (1.0 * intersection / union) * np.array([p_label[j] == y_label[x] for x in range(len(y_label))])\n",
    "        idx = np.argmax(IoU)\n",
    "\n",
    "        if IoU[idx] >= overlap and not hits[idx]:\n",
    "            tp += 1\n",
    "            hits[idx] = 1\n",
    "        else:\n",
    "            fp += 1\n",
    "\n",
    "    fn = len(y_label) - np.sum(hits)\n",
    "    precision = tp / (tp + fp) if tp + fp > 0 else 0\n",
    "    recall = tp / (tp + fn) if tp + fn > 0 else 0\n",
    "    f1 = 2 * (precision * recall) / (precision + recall) if precision + recall > 0 else 0\n",
    "\n",
    "    return f1 * 100  # Return F1 score as a percentage\n",
    "\n",
    "overlap_thresholds = [0.1, 0.25, 0.5] \n",
    "f1_scores = []\n",
    "for overlap in overlap_thresholds:\n",
    "    f1 = f_score(all_pred_bin_sv, all_gt_bin_sv, overlap)\n",
    "    f1_scores.append(f1)\n",
    "    print(f'F1@{int(overlap*100)}: {f1:.0f}')\n"
   ]
  },
  {
   "cell_type": "code",
   "execution_count": 26,
   "metadata": {},
   "outputs": [
    {
     "name": "stdout",
     "output_type": "stream",
     "text": [
      "F1@10: 13\n",
      "F1@25: 11\n",
      "F1@50: 9\n"
     ]
    }
   ],
   "source": [
    "overlap_thresholds = [0.1, 0.25, 0.5] \n",
    "f1_scores = []\n",
    "for overlap in overlap_thresholds:\n",
    "    f1 = f_score(all_pred_bin_sr, all_gt_bin_sr, overlap)\n",
    "    f1_scores.append(f1)\n",
    "    print(f'F1@{int(overlap*100)}: {f1:.0f}')"
   ]
  },
  {
   "cell_type": "code",
   "execution_count": 25,
   "metadata": {},
   "outputs": [
    {
     "name": "stdout",
     "output_type": "stream",
     "text": [
      "F1@10: 24\n",
      "F1@25: 23\n",
      "F1@50: 16\n"
     ]
    }
   ],
   "source": [
    "overlap_thresholds = [0.1, 0.25, 0.5] \n",
    "f1_scores = []\n",
    "for overlap in overlap_thresholds:\n",
    "    f1 = f_score(all_pred_bin_nr, all_gt_bin_nr, overlap)\n",
    "    f1_scores.append(f1)\n",
    "    print(f'F1@{int(overlap*100)}: {f1:.0f}')"
   ]
  },
  {
   "cell_type": "markdown",
   "metadata": {},
   "source": [
    "# Edit score"
   ]
  },
  {
   "cell_type": "code",
   "execution_count": 28,
   "metadata": {},
   "outputs": [
    {
     "name": "stdout",
     "output_type": "stream",
     "text": [
      "SV: 12\n",
      "SR: 7\n",
      "NR: 18\n"
     ]
    }
   ],
   "source": [
    "import numpy as np\n",
    "\n",
    "def levenshtein(p, y, norm=False):\n",
    "    m, n = len(p), len(y)\n",
    "    D = np.zeros((m + 1, n + 1), dtype=np.float64)\n",
    "\n",
    "    for i in range(m + 1):\n",
    "        D[i, 0] = i\n",
    "    for j in range(n + 1):\n",
    "        D[0, j] = j\n",
    "\n",
    "    for i in range(1, m + 1):\n",
    "        for j in range(1, n + 1):\n",
    "            if p[i - 1] == y[j - 1]:\n",
    "                D[i, j] = D[i - 1, j - 1]\n",
    "            else:\n",
    "                D[i, j] = min(D[i - 1, j] + 1, D[i, j - 1] + 1, D[i - 1, j - 1] + 1)\n",
    "\n",
    "    if norm:\n",
    "        return (1 - D[m, n] / max(m, n)) * 100  # Return normalized score as a percentage\n",
    "    else:\n",
    "        return D[m, n]\n",
    "\n",
    "def edit_score(recognized, ground_truth, bg_class=[\"background\"], norm=True):\n",
    "    P, _, _ = get_labels_start_end_time(recognized, bg_class)\n",
    "    Y, _, _ = get_labels_start_end_time(ground_truth, bg_class)\n",
    "    return levenshtein(P, Y, norm)\n",
    "\n",
    "print(f\"SV: {edit_score(all_pred_bin_sv, all_gt_bin_sv):.0f}\")\n",
    "print(f\"SR: {edit_score(all_pred_bin_sr, all_gt_bin_sr):.0f}\")\n",
    "print(f\"NR: {edit_score(all_pred_bin_nr, all_gt_bin_nr):.0f}\")\n"
   ]
  },
  {
   "cell_type": "markdown",
   "metadata": {},
   "source": [
    "# Iterative smoothing:"
   ]
  },
  {
   "cell_type": "code",
   "execution_count": 32,
   "metadata": {},
   "outputs": [
    {
     "data": {
      "image/png": "[encoded data removed]",
      "text/plain": [
       "<Figure size 1800x160 with 4 Axes>"
      ]
     },
     "metadata": {},
     "output_type": "display_data"
    },
    {
     "name": "stdout",
     "output_type": "stream",
     "text": [
      "SV refined edit score: 100\n",
      "F1@10: 100\n",
      "F1@25: 100\n",
      "F1@50: 99\n"
     ]
    }
   ],
   "source": [
    "def plot_iterative_barcodes(data_list, titles=None, show=True, save_file=None):\n",
    "    if not data_list:  # If the list is empty\n",
    "        print(\"No data provided.\")\n",
    "        return\n",
    "\n",
    "    red = np.append(np.array([200, 28, 52])/255, np.array([1]))\n",
    "    green = np.append(np.array([38,140,47])/255, np.array([1]))\n",
    "    colors = [red, green]\n",
    "    color_map = LinearSegmentedColormap.from_list(\"Custom\", colors, N=2)\n",
    "\n",
    "    axprops = dict(xticks=[], yticks=[], frameon=False)\n",
    "    barprops = dict(aspect='auto', cmap=color_map, interpolation='nearest', vmin=0, vmax=1)\n",
    "    \n",
    "    # Adjust figure size dynamically based on number of barcodes\n",
    "    fig_height_per_barcode = 0.4  # Adjust this based on desired spacing and size\n",
    "    fig_height = len(data_list) * fig_height_per_barcode\n",
    "    fig = plt.figure(figsize=(18, fig_height))\n",
    "\n",
    "    for idx, data in enumerate(data_list):\n",
    "        ax_position = [0, 1 - (idx + 1) * fig_height_per_barcode, 1, fig_height_per_barcode * 0.8]  # Adjust this based on desired layout\n",
    "        ax = fig.add_axes(ax_position, **axprops)\n",
    "        if titles and idx < len(titles):\n",
    "            ax.set_ylabel(titles[idx])\n",
    "        ax.imshow(data.reshape((1, -1)), **barprops)\n",
    "\n",
    "    if save_file is not None:\n",
    "        fig.savefig(save_file, dpi=400)\n",
    "    if show:\n",
    "        plt.show()\n",
    "    plt.close()\n",
    "\n",
    "def fill_gaps(input_array, max_gap: int = 15):\n",
    "    # Convert input array to a numpy array to ensure numpy functionality\n",
    "    array = np.array(input_array)\n",
    "    length = len(array)\n",
    "    i = 0\n",
    "    \n",
    "    # Iterate over the array to find sequences of zeros\n",
    "    while i < length:\n",
    "        if array[i] == 1:\n",
    "            start = i\n",
    "            while i < length and array[i] == 1:\n",
    "                i += 1\n",
    "            end = i\n",
    "            # Check if the sequence of zeros is flanked by ones and shorter than or equal to max_gap\n",
    "            if (start == 0 or array[start - 1] == 0) and (end == length or array[end] == 0) and (end - start) <= max_gap:\n",
    "                array[start:end] = 0 # Fill the gap with ones\n",
    "        i += 1\n",
    "    \n",
    "    return array\n",
    "\n",
    "def fill_gaps_0(input_array: np.ndarray, max_gap: int = 5):\n",
    "    # Convert input array to a numpy array to ensure numpy functionality\n",
    "    array = np.array(input_array)\n",
    "    length = len(array)\n",
    "    i = 0\n",
    "    \n",
    "    # Iterate over the array to find sequences of zeros\n",
    "    while i < length:\n",
    "        if array[i] == 0:\n",
    "            start = i\n",
    "            while i < length and array[i] == 0:\n",
    "                i += 1\n",
    "            end = i\n",
    "            # Check if the sequence of zeros is flanked by ones and shorter than or equal to max_gap\n",
    "            if (start == 0 or array[start - 1] == 1) and (end == length or array[end] == 1) and (end - start) <= max_gap:\n",
    "                array[start:end] = 1 # Fill the gap with ones\n",
    "        i += 1\n",
    "    \n",
    "    return array\n",
    "\n",
    "\n",
    "original = all_pred_bin_sv\n",
    "refine1 = fill_gaps(all_pred_bin_sv, 90)\n",
    "refine2 = fill_gaps_0(fill_gaps(all_pred_bin_sv, 90), 90)\n",
    "plot_iterative_barcodes([original, refine1, refine2, all_gt_bin_sv], titles=[\"pred\", \"refine 1\", \"refine 2\", \"gt\"])\n",
    "\n",
    "print(f\"SV refined edit score: {edit_score(refine2, all_gt_bin_sv):.0f}\")\n",
    "\n",
    "overlap_thresholds = [0.1, 0.25, 0.5] \n",
    "f1_scores = []\n",
    "for overlap in overlap_thresholds:\n",
    "    f1 = f_score(refine2, all_gt_bin_sv, overlap)\n",
    "    f1_scores.append(f1)\n",
    "    print(f'F1@{int(overlap*100)}: {f1:.0f}')"
   ]
  },
  {
   "cell_type": "code",
   "execution_count": 35,
   "metadata": {},
   "outputs": [],
   "source": [
    "def print_all_metrics(pred, gt):\n",
    "    print(f\"MoF: {accuracy_score(pred, gt):.2f}\")\n",
    "    print(f\"Edit Score: {edit_score(pred, gt):.0f}\")\n",
    "    print(\"F1 Scores:\")\n",
    "    overlap_thresholds = [0.1, 0.25, 0.5, 0.75] \n",
    "    f1_scores = []\n",
    "    for overlap in overlap_thresholds:\n",
    "        f1 = f_score(pred, gt, overlap)\n",
    "        f1_scores.append(f1)\n",
    "        print(f'F1@{int(overlap*100)}: {f1:.0f}')"
   ]
  },
  {
   "cell_type": "code",
   "execution_count": 36,
   "metadata": {},
   "outputs": [
    {
     "data": {
      "image/png": "[encoded data removed]",
      "text/plain": [
       "<Figure size 1800x160 with 4 Axes>"
      ]
     },
     "metadata": {},
     "output_type": "display_data"
    },
    {
     "name": "stdout",
     "output_type": "stream",
     "text": [
      "MoF: 0.89\n",
      "Edit Score: 100\n",
      "F1 Scores:\n",
      "F1@10: 100\n",
      "F1@25: 100\n",
      "F1@50: 99\n",
      "F1@75: 84\n"
     ]
    }
   ],
   "source": [
    "refine1_sv = fill_gaps(all_pred_bin_sv, 90)\n",
    "refine2_sv = fill_gaps_0(fill_gaps(all_pred_bin_sv, 90), 90)\n",
    "plot_iterative_barcodes([all_pred_bin_sv, refine1_sv, refine2_sv, all_gt_bin_sv], titles=[\"pred\", \"refine 1\", \"refine 2\", \"gt\"])\n",
    "\n",
    "print_all_metrics(refine2_sv, all_gt_bin_sv)"
   ]
  },
  {
   "cell_type": "code",
   "execution_count": 38,
   "metadata": {},
   "outputs": [
    {
     "data": {
      "image/png": "[encoded data removed]",
      "text/plain": [
       "<Figure size 1800x160 with 4 Axes>"
      ]
     },
     "metadata": {},
     "output_type": "display_data"
    },
    {
     "name": "stdout",
     "output_type": "stream",
     "text": [
      "MoF: 0.92\n",
      "Edit Score: 96\n",
      "F1 Scores:\n",
      "F1@10: 96\n",
      "F1@25: 96\n",
      "F1@50: 93\n",
      "F1@75: 78\n"
     ]
    }
   ],
   "source": [
    "refine1_sr = fill_gaps(all_pred_bin_sr, 90)\n",
    "refine2_sr = fill_gaps_0(fill_gaps(all_pred_bin_sr, 90), 90)\n",
    "plot_iterative_barcodes([all_pred_bin_sr, refine1_sr, refine2_sr, all_gt_bin_sr], titles=[\"pred\", \"refine 1\", \"refine 2\", \"gt\"])\n",
    "\n",
    "print_all_metrics(refine2_sr, all_gt_bin_sr)"
   ]
  },
  {
   "cell_type": "code",
   "execution_count": 40,
   "metadata": {},
   "outputs": [
    {
     "data": {
      "image/png": "[encoded data removed]",
      "text/plain": [
       "<Figure size 1800x160 with 4 Axes>"
      ]
     },
     "metadata": {},
     "output_type": "display_data"
    },
    {
     "name": "stdout",
     "output_type": "stream",
     "text": [
      "MoF: 0.73\n",
      "Edit Score: 97\n",
      "F1 Scores:\n",
      "F1@10: 81\n",
      "F1@25: 78\n",
      "F1@50: 57\n",
      "F1@75: 52\n"
     ]
    }
   ],
   "source": [
    "refine1_nr = fill_gaps(all_pred_bin_sr, 45)\n",
    "refine2_nr = fill_gaps_0(fill_gaps(all_pred_bin_nr, 45), 45)\n",
    "plot_iterative_barcodes([all_pred_bin_sr, refine1_nr, refine2_nr, all_gt_bin_sr], titles=[\"pred\", \"refine 1\", \"refine 2\", \"gt\"])\n",
    "\n",
    "print_all_metrics(refine2_nr, all_gt_bin_nr)"
   ]
  }
 ],
 "metadata": {
  "kernelspec": {
   "display_name": "shan_et_al2",
   "language": "python",
   "name": "python3"
  },
  "language_info": {
   "codemirror_mode": {
    "name": "ipython",
    "version": 3
   },
   "file_extension": ".py",
   "mimetype": "text/x-python",
   "name": "python",
   "nbconvert_exporter": "python",
   "pygments_lexer": "ipython3",
   "version": "3.8.18"
  }
 },
 "nbformat": 4,
 "nbformat_minor": 2
}
