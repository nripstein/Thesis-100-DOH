{
 "cells": [
  {
   "cell_type": "code",
   "execution_count": 433,
   "id": "initial_id",
   "metadata": {
    "collapsed": true,
    "ExecuteTime": {
     "end_time": "2024-02-19T17:46:41.204309Z",
     "start_time": "2024-02-19T17:46:41.186007Z"
    }
   },
   "outputs": [],
   "source": [
    "import numpy as np\n",
    "import pandas as pd\n",
    "import matplotlib.pyplot as plt\n",
    "import os\n",
    "import csv\n",
    "from matplotlib.colors import LinearSegmentedColormap\n",
    "from numpy.typing import ArrayLike\n",
    "from typing import List, Tuple"
   ]
  },
  {
   "cell_type": "code",
   "outputs": [],
   "source": [
    "def generate_bin_list(data_dir: str) -> list[int]:\n",
    "    \"\"\"\n",
    "    loads changepoint csv into 0 and 1 list \n",
    "    \"\"\"\n",
    "    # load data\n",
    "    data = pd.read_csv(data_dir)\n",
    "    data = data.drop(data.filter(regex=\"Unname\") ,axis=1)  # accidentally added index col which I should drop\n",
    "    \n",
    "    # Initialize variables\n",
    "    holding_list = []\n",
    "    current_index = 0\n",
    "    last_holding_index = 0\n",
    "    last_not_holding_index = 0\n",
    "\n",
    "    # Iterate through each row in the data\n",
    "    for index, row in data.iterrows():\n",
    "        holding_transitions, not_holding_transitions = row\n",
    "\n",
    "        # Add \"not_holding\" (0) entries until the current holding transition point\n",
    "        for _ in range(last_not_holding_index, holding_transitions):\n",
    "            holding_list.append(0)\n",
    "            last_not_holding_index += 1\n",
    "\n",
    "        # Add \"holding\" (1) entries from the current holding transition point to the not holding transition point\n",
    "        for _ in range(holding_transitions, not_holding_transitions):\n",
    "            holding_list.append(1)\n",
    "            last_holding_index += 1\n",
    "\n",
    "        # Update last indices\n",
    "        last_not_holding_index = not_holding_transitions\n",
    "\n",
    "    return holding_list\n",
    "\n",
    "def plot_barcode(class_num, gt=None, pred=None, show=True, save_file=None):\n",
    "\n",
    "    if class_num <= 10:\n",
    "        color_map = plt.cm.tab10\n",
    "    elif class_num > 20:\n",
    "        color_map = plt.cm.gist_ncar\n",
    "    else:\n",
    "        color_map = plt.cm.tab20\n",
    "\n",
    "    # red = np.array([1, 0, 0, 1])\n",
    "    red = [0.47, 0.11, 0.2, 1]  # RGB values for #c81c34\n",
    "    red = np.append(np.array([200, 28, 52])/255, np.array([1]))\n",
    "    # green = np.array([0, 1, 0, 1])\n",
    "    green = [0.43, 0.76, 0.46, 1]  # RGB values for #6fc276\n",
    "    green = np.append(np.array([38,140,47])/255, np.array([1]))\n",
    "    colors = [red, green]\n",
    "    color_map = LinearSegmentedColormap.from_list(\"Custom\", colors, N=2)\n",
    "\n",
    "    axprops = dict(xticks=[], yticks=[], frameon=False)\n",
    "    barprops = dict(aspect='auto', cmap=color_map, \n",
    "                interpolation='nearest', vmin=0, vmax=1)\n",
    "\n",
    "    # axprops = dict(xticks=[], yticks=[], frameon=False)\n",
    "    # barprops = dict(aspect='auto', cmap=color_map, \n",
    "    #             interpolation='nearest', vmin=0, vmax=class_num-1)\n",
    "\n",
    "    fig = plt.figure(figsize=(18, 4))\n",
    "\n",
    "    # a horizontal barcode\n",
    "    if gt is not None:\n",
    "        ax1 = fig.add_axes([0, 0.45, 1, 0.2], **axprops)\n",
    "        ax1.set_title('Ground Truth')\n",
    "        ax1.imshow(gt.reshape((1, -1)), **barprops)\n",
    "\n",
    "    if pred is not None:\n",
    "        ax2 = fig.add_axes([0, 0.15, 1, 0.2], **axprops)\n",
    "        ax2.set_title('Predicted')\n",
    "        ax2.imshow(pred.reshape((1, -1)), **barprops)\n",
    "\n",
    "    if save_file is not None:\n",
    "        fig.savefig(save_file, dpi=400)\n",
    "    if show:\n",
    "        plt.show()\n",
    "    plt.close()\n",
    "    \n",
    "    \n",
    "def plot_iterative_barcodes(data_list, titles=None, show=True, save_file=None):\n",
    "    if not data_list:  # If the list is empty\n",
    "        print(\"No data provided.\")\n",
    "        return\n",
    "\n",
    "    # red = np.array([1, 0, 0, 1])\n",
    "    # green = np.array([0, 1, 0, 1])\n",
    "    red = np.append(np.array([200, 28, 52])/255, np.array([1]))\n",
    "    green = np.append(np.array([38,140,47])/255, np.array([1]))\n",
    "    colors = [red, green]\n",
    "    color_map = LinearSegmentedColormap.from_list(\"Custom\", colors, N=2)\n",
    "\n",
    "    axprops = dict(xticks=[], yticks=[], frameon=False)\n",
    "    barprops = dict(aspect='auto', cmap=color_map, \n",
    "                interpolation='nearest', vmin=0, vmax=1)\n",
    "    \n",
    "    # Adjust figure size dynamically based on number of barcodes\n",
    "    fig_height_per_barcode = 0.4  # Adjust this based on desired spacing and size\n",
    "    fig_height = len(data_list) * fig_height_per_barcode\n",
    "    fig = plt.figure(figsize=(18, fig_height))\n",
    "\n",
    "    for idx, data in enumerate(data_list):\n",
    "        ax_position = [0, 1 - (idx + 1) * fig_height_per_barcode, 1, fig_height_per_barcode * 0.8]  # Adjust this based on desired layout\n",
    "        ax = fig.add_axes(ax_position, **axprops)\n",
    "        if titles and idx < len(titles):\n",
    "            ax.set_ylabel(titles[idx])\n",
    "        ax.imshow(data.reshape((1, -1)), **barprops)\n",
    "\n",
    "    if save_file is not None:\n",
    "        fig.savefig(save_file, dpi=400)\n",
    "    if show:\n",
    "        plt.show()\n",
    "    plt.close()\n",
    "    \n",
    "def condense_dataframe(df: pd.DataFrame, priority: dict = None) -> pd.DataFrame:\n",
    "    \"\"\"\n",
    "    deals with duplicate images which have multiple contact states\n",
    "    \n",
    "    Condenses a pandas DataFrame by ensuring each 'image' entry is unique and retains\n",
    "    the most relevant 'contact_label_pred' based on a set priority.\n",
    "\n",
    "    The function operates under the rule that if multiple entries exist for the same 'image',\n",
    "    it prioritizes keeping the entry with 'contact_label_pred' as \"Portable Object Contact\" over\n",
    "    \"Stationary Object Contact\", and \"Stationary Object Contact\" over \"No Contact\". This is\n",
    "    done by sorting the DataFrame according to the 'image' and a custom priority assigned to\n",
    "    'contact_label_pred', then removing duplicate 'image' entries while keeping the entry with the\n",
    "    highest-priority 'contact_label_pred'.\n",
    "    \"\"\"\n",
    "    # df = df.loc[df['probability'] > 95].copy()\n",
    "    # plt.hist(df[\"probability\"], bins=50)\n",
    "    # plt.show()\n",
    "    if priority is None:\n",
    "        priority = {\n",
    "            \"Portable Object\": 1,\n",
    "            \"Portable Object Contact\": 1,\n",
    "            \"Stationary Object Contact\": 2,\n",
    "            \"No Contact\": 3\n",
    "        }\n",
    "\n",
    "    # Sort the DataFrame based on 'image' and the custom priority of 'contact_label_pred'\n",
    "\n",
    "    df['priority'] = df['contact_label_pred'].map(priority)\n",
    "\n",
    "    df = df.sort_values(by=['frame_id', 'priority'])\n",
    "\n",
    "    # Drop the 'priority' column as it's no longer needed after sorting\n",
    "    df.drop('priority', axis=1, inplace=True)\n",
    "\n",
    "    # Remove duplicates, keeping the first occurrence\n",
    "    df = df.drop_duplicates(subset='frame_id', keep='first')\n",
    "\n",
    "    return df.iloc[df['frame_id'].map(lambda x: int(x.split('_')[0])).argsort()].reset_index(drop=True)\n",
    "\n",
    "def load_arrays(true_dir: str, pred_dir: str, single_priority = True) -> Tuple[np.ndarray, np.ndarray]:\n",
    "    \"\"\"\n",
    "    return: (true_labels, pred_labels)\n",
    "    \"\"\"\n",
    "    true_labels = np.asarray(generate_bin_list(true_dir))\n",
    "    \n",
    "    pred_df = pd.read_csv(pred_dir)\n",
    "    pred_df[\"bbox\"] = pred_df[\"bbox\"].apply(eval) # converts bbox string into list\n",
    "    \n",
    "    if single_priority:\n",
    "        priority = {\n",
    "                \"Portable Object\": 3,\n",
    "                \"Portable Object Contact\": 3,\n",
    "                \"Stationary Object Contact\": 1,\n",
    "                \"No Contact\": 2\n",
    "            }\n",
    "    else:\n",
    "        priority = None\n",
    "    \n",
    "    pred_cond_df = condense_dataframe(pred_df, priority=priority)\n",
    "\n",
    "    # pad true with 0's at the end (bc only goes up to last changepoint)\n",
    "    true_labels = np.pad(true_labels, (0, (len(pred_cond_df) - len(true_labels))), mode='constant')\n",
    "    \n",
    "    mapping = {\"Portable Object\": 1,\n",
    "               \"Portable Object Contact\": 1,\n",
    "               \"No Contact\": 0 ,\n",
    "               \"Stationary Object Contact\": 0,\n",
    "               \"Self Contact\": 0}\n",
    "    pred_labels = pred_cond_df[\"contact_label_pred\"].map(mapping).to_numpy().astype(np.int8)\n",
    "    return true_labels, pred_labels\n",
    "\n",
    "def continuous_sequence_indices(arr: ArrayLike, n: int, target: int = 1, pad_percent: int = 5) -> List[tuple]:\n",
    "    \"\"\"\n",
    "    Finds indices of all uninterrupted sequences of 1's of at least length n.\n",
    "\n",
    "    Parameters:\n",
    "        arr: numpy array of 1's and 0's.\n",
    "        n: minimum length of the sequence to find.\n",
    "        target: the target number we search for\n",
    "        pad_percent: removes pad_percent% of sequences from BOTH sides: a result of (100, 200) becomes (105, 195) with pad_percent=5\n",
    "\n",
    "    Returns:\n",
    "    - A list of tuples, where each tuple contains the start and end indices of each sequence found.\n",
    "    \n",
    "    Example:\n",
    "        arr = np.array([0, 1, 1, 1, 0, 1, 1, 1, 1, 1, 1, 1, 1, 0, 1, 1])\n",
    "        continuous_sequence_indices(arr, 5)\n",
    "        returns: [(5, 12)]\n",
    "    \"\"\"\n",
    "    # Convert the array to a string to easily find sequences\n",
    "    arr_str = ''.join(arr.astype(str))\n",
    "    \n",
    "    # Find sequences of '1' of at least length n\n",
    "    sequences = []\n",
    "    start = 0\n",
    "    while start < len(arr_str):\n",
    "        # Find the start of the next sequence of 1's\n",
    "        start = arr_str.find(str(target) * n, start)\n",
    "        if start == -1:\n",
    "            # No more sequences found\n",
    "            break\n",
    "        # Find the end of this sequence\n",
    "        end = start + n\n",
    "        while end < len(arr_str) and arr_str[end] == str(target):\n",
    "            end += 1\n",
    "        # Add the sequence to the list\n",
    "        seq_len = end - 1 - start\n",
    "        to_trim = int(pad_percent / 100 * seq_len)\n",
    "\n",
    "        sequences.append((start + to_trim, end - 1 - to_trim))\n",
    "        # Move past this sequence\n",
    "        start = end\n",
    "    return sequences\n",
    "\n",
    "def extract_values_from_indices(source_array, index_ranges):\n",
    "    \"\"\"Extracts segments from source_array based on start/end indices in index_ranges.\"\"\"\n",
    "    extracted_values = []\n",
    "    for start, end in index_ranges:\n",
    "        # Extract values between start and end indices (inclusive)\n",
    "        extracted_values.append(source_array[start:end + 1])\n",
    "    return extracted_values"
   ],
   "metadata": {
    "collapsed": false,
    "ExecuteTime": {
     "end_time": "2024-02-19T17:46:41.232724Z",
     "start_time": "2024-02-19T17:46:41.229083Z"
    }
   },
   "id": "c6a516b44d90876a",
   "execution_count": 434
  },
  {
   "cell_type": "code",
   "outputs": [
    {
     "name": "stdout",
     "output_type": "stream",
     "text": [
      "663 1621\n",
      "(0.9532428355957768, 1.0)\n"
     ]
    }
   ],
   "source": [
    "from sklearn.metrics import confusion_matrix\n",
    "\n",
    "class Labeler:\n",
    "    def __init__(self, all_preds_dir: str, fps: int = 60, gt_dir = None) -> None:\n",
    "        self.all_preds_dir = all_preds_dir\n",
    "        self.fps = fps\n",
    "        self.gt_dir = gt_dir\n",
    "        # Need multiple hands with portable object detection for frame to be labeled as such (maximize sensitivity for contact)\n",
    "        self.priority_multi_mapping = {\"Portable Object\": 4,\n",
    "                                       \"Portable Object Contact\": 4,\n",
    "                                       \"Stationary Object Contact\": 1,\n",
    "                                       \"No Contact\": 2,\n",
    "                                       \"Self Contact\": 3}\n",
    "        # Need 1 hand with portable object detection for frame to be labeled as such (maximize sensitivity for non-contact)\n",
    "        self.priority_single_mapping = {\"Portable Object\": 1,\n",
    "                                        \"Portable Object Contact\": 1,\n",
    "                                        \"Stationary Object Contact\": 2,\n",
    "                                        \"No Contact\": 3,\n",
    "                                        \"Self Contact\": 4}\n",
    "        # results to binary: portable object contact is a \"yes\", everything else is a \"no\"\n",
    "        self.binary_mapping = {\"Portable Object\": 1,  \n",
    "                               \"Portable Object Contact\": 1,\n",
    "                               \"No Contact\": 0 ,\n",
    "                               \"Stationary Object Contact\": 0,\n",
    "                               \"Self Contact\": 0}\n",
    "        \n",
    "    def __call__(self, *args, **kwargs):\n",
    "        return self._get_labels()\n",
    "        \n",
    "    def _get_labels(self) -> Tuple[np.ndarray, np.ndarray]:        \n",
    "        pred_df = pd.read_csv(self.all_preds_dir)\n",
    "        pred_df[\"bbox\"] = pred_df[\"bbox\"].apply(eval) # converts bbox string into list\n",
    "        \n",
    "        priority_single_pred = condense_dataframe(pred_df, priority=self.priority_single_mapping)\n",
    "        priority_multi_pred = condense_dataframe(pred_df, priority=self.priority_multi_mapping)\n",
    "    \n",
    "        # arrays of 0 and 1 for each priority type\n",
    "        priority_single_binary = priority_single_pred[\"contact_label_pred\"].map(self.binary_mapping).to_numpy().astype(np.int8)  # confident in 0's\n",
    "        priority_multi_binary = priority_multi_pred[\"contact_label_pred\"].map(self.binary_mapping).to_numpy().astype(np.int8)  # confident in 1's\n",
    "        \n",
    "        non_contact_indices = np.where(priority_single_binary == 0)[0]  # ready to return\n",
    "        \n",
    "        # we get lots of false positives (predicts contact when there isn't, so we can be selective in which labels we use with single priority, thus improving sensitivity)\n",
    "        # for single detection priority, we want to only include regions which are at least 1 second long, pad them by 10% on each side\n",
    "        refined_ones_intervals = continuous_sequence_indices(priority_multi_binary, n=self.fps, target=1, pad_percent=10)\n",
    "        \n",
    "        contact_indices = []\n",
    "        for interval_start, interval_end in refined_ones_intervals:\n",
    "            contact_indices.extend(list(range(interval_start, interval_end + 1)))\n",
    "        contact_indices = np.asarray(contact_indices)  # ready to return\n",
    "        \n",
    "        return non_contact_indices, contact_indices\n",
    "        \n",
    "    def tp_fp(self) -> Tuple[Tuple[int, int], Tuple[int, int]]:\n",
    "        \"\"\"\n",
    "        find true positives and false positives\n",
    "        :return: ((non-contact tp, non-contact fp), (contact tp, contact fp))\n",
    "        \"\"\"\n",
    "        # note: we care about precision, not recall because recall tells us how many of the actual positive instances were captured by the model. It is a measure of completeness. We aren't trying to get all the labels\n",
    "        if self.gt_dir is None:\n",
    "            raise Exception(\"No GT dir is provided in object initialization, can't evaluate predictions\")\n",
    "        \n",
    "        true_labels_full = np.asarray(generate_bin_list(self.gt_dir))\n",
    "    \n",
    "        # only doing this to get the correct length, the way it's condensed into the correct length and doesn't matter here\n",
    "        pred_df = pd.read_csv(self.all_preds_dir)        \n",
    "        pred_cond_df = condense_dataframe(pred_df)\n",
    "    \n",
    "        # pad true with 0's at the end (bc only goes up to last changepoint)\n",
    "        true_labels_full = np.pad(true_labels_full, (0, (len(pred_cond_df) - len(true_labels_full))), mode='constant')\n",
    "    \n",
    "        # now that we have the true labels, let's get the predictions:    \n",
    "        non_contact_indices, contact_indices = self._get_labels()\n",
    "        \n",
    "        # non contact true labels\n",
    "        true_labels_non_contact = true_labels_full[non_contact_indices]\n",
    "        \n",
    "        if np.all(true_labels_non_contact == 1):  # handle edge case for all predictions are right\n",
    "            tp_non_contact = len(true_labels_non_contact)\n",
    "            fp_non_contact = 0\n",
    "        else:\n",
    "            # we do 1 - because it assumes 1 is the positive class, but we treat 0 as positive class for non-contact evaluation\n",
    "            cm_non_contact = confusion_matrix(1 - true_labels_non_contact, [1] * len(true_labels_non_contact))\n",
    "        \n",
    "            fp_non_contact = cm_non_contact[0][1]\n",
    "            tp_non_contact = cm_non_contact[1][1]\n",
    "        tp_fp_non_contact = (tp_non_contact, fp_non_contact)  # ready to return\n",
    "        \n",
    "        # contact true labels\n",
    "        true_labels_contact = true_labels_full[contact_indices]\n",
    "        \n",
    "        if np.all(true_labels_contact == 1):  # handle edge case for all predictions are right\n",
    "            tp_contact = len(true_labels_contact)\n",
    "            fp_contact = 0\n",
    "        else:\n",
    "            # we don't 1 - because it assumes 1 is the positive class\n",
    "            cm_contact = confusion_matrix(true_labels_contact, [1] * len(true_labels_contact))\n",
    "            print(cm_contact)\n",
    "            fp_contact = cm_contact[0][1]\n",
    "            tp_contact = cm_contact[1][1]\n",
    "        tp_fp_contact = (tp_contact, fp_contact)  # ready to return\n",
    "        \n",
    "        return tp_fp_non_contact, tp_fp_contact\n",
    "        \n",
    "    def get_precision(self) -> Tuple[float, float]:\n",
    "        \"\"\"returns: (non contact precision, contact precision)\"\"\"\n",
    "        (tp_non_contact, fp_non_contact), (tp_contact, fp_contact) = self.tp_fp()\n",
    "        return tp_non_contact / (tp_non_contact + fp_non_contact), tp_contact / (tp_contact + fp_contact)\n",
    "        \n",
    "    \n",
    "sr2_gt_dir = \"/Users/NoahRipstein/Downloads/shafee group stuff/sr labels/sr2/changepoints.csv\"\n",
    "sr2_pred_dir = \"/Users/NoahRipstein/Downloads/pred csvs thesis/sr2/pred_every_obj.csv\"\n",
    "\n",
    "my_labeler = Labeler(sr2_pred_dir, fps=60, gt_dir=sr2_gt_dir)\n",
    "non_contact_indices, contact_indices = my_labeler()\n",
    "print(len(non_contact_indices), len(contact_indices))\n",
    "print(my_labeler.get_precision())"
   ],
   "metadata": {
    "collapsed": false,
    "ExecuteTime": {
     "end_time": "2024-02-19T17:55:36.950791Z",
     "start_time": "2024-02-19T17:55:36.732235Z"
    }
   },
   "id": "d3b39c5664ab3c9f",
   "execution_count": 445
  },
  {
   "cell_type": "markdown",
   "source": [
    "# Experimenting to get it to work (nothing below here is needed now that I have the class)"
   ],
   "metadata": {
    "collapsed": false
   },
   "id": "d74fff9f6ca3155c"
  },
  {
   "cell_type": "code",
   "outputs": [
    {
     "data": {
      "text/plain": "    frame_id         contact_label_pred  probability                  bbox  \\\n0  0_sh2.jpg            Portable Object           99  [338, 177, 444, 299]   \n1  0_sh2.jpg  Stationary Object Contact           99  [168, 173, 307, 314]   \n2  1_sh2.jpg            Portable Object           99  [338, 177, 444, 301]   \n3  1_sh2.jpg  Stationary Object Contact           99  [169, 170, 308, 314]   \n4  2_sh2.jpg            Portable Object           99  [338, 177, 444, 300]   \n\n   type  which other_detail  \n0  hand  Right          NaN  \n1  hand   Left          NaN  \n2  hand  Right          NaN  \n3  hand   Left          NaN  \n4  hand  Right          NaN  ",
      "text/html": "<div>\n<style scoped>\n    .dataframe tbody tr th:only-of-type {\n        vertical-align: middle;\n    }\n\n    .dataframe tbody tr th {\n        vertical-align: top;\n    }\n\n    .dataframe thead th {\n        text-align: right;\n    }\n</style>\n<table border=\"1\" class=\"dataframe\">\n  <thead>\n    <tr style=\"text-align: right;\">\n      <th></th>\n      <th>frame_id</th>\n      <th>contact_label_pred</th>\n      <th>probability</th>\n      <th>bbox</th>\n      <th>type</th>\n      <th>which</th>\n      <th>other_detail</th>\n    </tr>\n  </thead>\n  <tbody>\n    <tr>\n      <th>0</th>\n      <td>0_sh2.jpg</td>\n      <td>Portable Object</td>\n      <td>99</td>\n      <td>[338, 177, 444, 299]</td>\n      <td>hand</td>\n      <td>Right</td>\n      <td>NaN</td>\n    </tr>\n    <tr>\n      <th>1</th>\n      <td>0_sh2.jpg</td>\n      <td>Stationary Object Contact</td>\n      <td>99</td>\n      <td>[168, 173, 307, 314]</td>\n      <td>hand</td>\n      <td>Left</td>\n      <td>NaN</td>\n    </tr>\n    <tr>\n      <th>2</th>\n      <td>1_sh2.jpg</td>\n      <td>Portable Object</td>\n      <td>99</td>\n      <td>[338, 177, 444, 301]</td>\n      <td>hand</td>\n      <td>Right</td>\n      <td>NaN</td>\n    </tr>\n    <tr>\n      <th>3</th>\n      <td>1_sh2.jpg</td>\n      <td>Stationary Object Contact</td>\n      <td>99</td>\n      <td>[169, 170, 308, 314]</td>\n      <td>hand</td>\n      <td>Left</td>\n      <td>NaN</td>\n    </tr>\n    <tr>\n      <th>4</th>\n      <td>2_sh2.jpg</td>\n      <td>Portable Object</td>\n      <td>99</td>\n      <td>[338, 177, 444, 300]</td>\n      <td>hand</td>\n      <td>Right</td>\n      <td>NaN</td>\n    </tr>\n  </tbody>\n</table>\n</div>"
     },
     "metadata": {},
     "output_type": "display_data"
    }
   ],
   "source": [
    "sv2_true = generate_bin_list(\"/Users/NoahRipstein/Downloads/shafee group stuff/sr labels/sr2/changepoints.csv\")\n",
    "\n",
    "sv2_pred = pd.read_csv(\"/Users/NoahRipstein/Downloads/pred csvs thesis/sr2/pred_every_obj.csv\")\n",
    "sv2_pred[\"bbox\"] = sv2_pred[\"bbox\"].apply(eval) # converts bbox string into list\n",
    "\n",
    "display(sv2_pred.iloc[sv2_pred['frame_id'].map(lambda x: int(x.split('_')[0])).argsort()].reset_index(drop=True).head())\n",
    "# display(sv2_pred.head())\n",
    "sv2_pred_cond = condense_dataframe(sv2_pred)\n",
    "# display(sv2_pred_cond.head())\n",
    "\n",
    "\n",
    "sv2_pred = np.array(sv2_pred)\n",
    "sv2_true = np.array(sv2_true)\n",
    "\n",
    "sv2_true = np.pad(sv2_true, (0, (len(sv2_pred_cond) - len(sv2_true))), mode='constant')\n",
    "\n",
    "# print(len(sv2_pred_cond), len(sv2_true))"
   ],
   "metadata": {
    "collapsed": false,
    "ExecuteTime": {
     "end_time": "2024-02-19T17:46:41.339476Z",
     "start_time": "2024-02-19T17:46:41.234638Z"
    }
   },
   "id": "7a030227a907f06",
   "execution_count": 435
  },
  {
   "cell_type": "code",
   "outputs": [
    {
     "data": {
      "text/plain": "<Figure size 1800x400 with 2 Axes>",
      "image/png": "[encoded data removed]"
     },
     "metadata": {},
     "output_type": "display_data"
    }
   ],
   "source": [
    "mapping = {\"Portable Object\": 1,\n",
    "               \"Portable Object Contact\": 1,\n",
    "               \"No Contact\": 0 ,\n",
    "               \"Stationary Object Contact\": 0,\n",
    "               \"Self Contact\": 0}\n",
    "plot_barcode(class_num=50,\n",
    "             gt=sv2_true,\n",
    "             pred=sv2_pred_cond[\"contact_label_pred\"].map(mapping).to_numpy().astype(np.int8),\n",
    "             save_file=None)\n",
    "\n",
    "# predictions.map({\"Portable Object\": 1, \"No Contact\": 0 , \"Stationary Object Contact\": 0}).to_numpy().astype(np.int8),"
   ],
   "metadata": {
    "collapsed": false,
    "ExecuteTime": {
     "end_time": "2024-02-19T17:46:41.416363Z",
     "start_time": "2024-02-19T17:46:41.346746Z"
    }
   },
   "id": "7443ad4fed26b42f",
   "execution_count": 436
  },
  {
   "cell_type": "code",
   "outputs": [
    {
     "data": {
      "text/plain": "<Figure size 1800x400 with 2 Axes>",
      "image/png": "[encoded data removed]"
     },
     "metadata": {},
     "output_type": "display_data"
    }
   ],
   "source": [
    "true, pred = load_arrays(\"/Users/NoahRipstein/Downloads/shafee group stuff/sr labels/sr2/changepoints.csv\",\n",
    "                         \"/Users/NoahRipstein/Downloads/pred csvs thesis/sr2/pred_every_obj.csv\")\n",
    "\n",
    "plot_barcode(class_num=50,\n",
    "             gt=true,\n",
    "             pred=pred,\n",
    "             save_file=None)"
   ],
   "metadata": {
    "collapsed": false,
    "ExecuteTime": {
     "end_time": "2024-02-19T17:46:41.563731Z",
     "start_time": "2024-02-19T17:46:41.416509Z"
    }
   },
   "id": "4faaee968d750b9",
   "execution_count": 437
  },
  {
   "cell_type": "markdown",
   "source": [
    "# Metrics:"
   ],
   "metadata": {
    "collapsed": false
   },
   "id": "908fde01d90e593"
  },
  {
   "cell_type": "code",
   "outputs": [
    {
     "data": {
      "text/plain": "<Figure size 1800x400 with 2 Axes>",
      "image/png": "[encoded data removed]"
     },
     "metadata": {},
     "output_type": "display_data"
    },
    {
     "name": "stdout",
     "output_type": "stream",
     "text": [
      "[1 1 1 ... 1 1 1]\n",
      "[1 1 1 ... 1 1 1]\n",
      "1.0\n"
     ]
    }
   ],
   "source": [
    "from sklearn.metrics import confusion_matrix, precision_score\n",
    "def accuracy_false(true_arr, pred_arr):\n",
    "    cm = confusion_matrix(1- true_arr, 1 -pred_arr)\n",
    "    \n",
    "    # tn = cm[0][0]\n",
    "    # fp = cm[0][1]\n",
    "    # fn = cm[1][0]\n",
    "    # tp = cm[1][1]\n",
    "    # \n",
    "    # print(tp, tn, fp, fn)\n",
    "    \n",
    "    # print(accuracy_score(true_arr, pred_arr))\n",
    "    # precision, recall, fscore, support = precision_recall_fscore_support(true_arr, pred_arr)\n",
    "    precision = precision_score(true_arr, pred_arr)\n",
    "    print(precision)\n",
    "    # print(recall)\n",
    "    # print(fscore)\n",
    "    \n",
    "sr2 = load_arrays(\"/Users/NoahRipstein/Downloads/shafee group stuff/sr labels/sr2/changepoints.csv\",\n",
    "                         \"/Users/NoahRipstein/Downloads/pred csvs thesis/sr2/pred_every_obj.csv\",\n",
    "                  single_priority=True)\n",
    "\n",
    "plot_barcode(class_num=50,\n",
    "             gt=sr2[0],\n",
    "             pred=sr2[1],\n",
    "             save_file=None)\n",
    "\n",
    "# for getting positives\n",
    "positive_indices = continuous_sequence_indices(sr2[1], n=60, target=1, pad_percent=10)\n",
    "# positive_indices\n",
    "print(np.concatenate(extract_values_from_indices(sr2[1], positive_indices)))\n",
    "print(np.concatenate(extract_values_from_indices(sr2[0], positive_indices)))\n",
    "accuracy_false(np.concatenate(extract_values_from_indices(sr2[0], positive_indices)), np.concatenate(extract_values_from_indices(sr2[1], positive_indices)))"
   ],
   "metadata": {
    "collapsed": false,
    "ExecuteTime": {
     "end_time": "2024-02-19T17:46:41.706859Z",
     "start_time": "2024-02-19T17:46:41.561356Z"
    }
   },
   "id": "1c9b5c1b410257d0",
   "execution_count": 438
  },
  {
   "cell_type": "code",
   "outputs": [
    {
     "data": {
      "text/plain": "<Figure size 1800x400 with 2 Axes>",
      "image/png": "[encoded data removed]"
     },
     "metadata": {},
     "output_type": "display_data"
    },
    {
     "name": "stdout",
     "output_type": "stream",
     "text": [
      "0.9532428355957768\n"
     ]
    }
   ],
   "source": [
    "from sklearn.metrics import confusion_matrix, precision_score\n",
    "def accuracy_false(true_arr, pred_arr):\n",
    "    cm = confusion_matrix(1- true_arr, 1 -pred_arr)\n",
    "    \n",
    "    # tn = cm[0][0]\n",
    "    # fp = cm[0][1]\n",
    "    # fn = cm[1][0]\n",
    "    # tp = cm[1][1]\n",
    "    # \n",
    "    # print(tp, tn, fp, fn)\n",
    "    \n",
    "    # print(accuracy_score(true_arr, pred_arr))\n",
    "    # precision, recall, fscore, support = precision_recall_fscore_support(true_arr, pred_arr)\n",
    "    precision = precision_score(1 - true_arr, 1 - pred_arr)\n",
    "    print(precision)\n",
    "    # print(recall)\n",
    "    # print(fscore)\n",
    "    \n",
    "sr2 = load_arrays(\"/Users/NoahRipstein/Downloads/shafee group stuff/sr labels/sr2/changepoints.csv\",\n",
    "                         \"/Users/NoahRipstein/Downloads/pred csvs thesis/sr2/pred_every_obj.csv\",\n",
    "                  single_priority=False)\n",
    "\n",
    "plot_barcode(class_num=50,\n",
    "             gt=sr2[0],\n",
    "             pred=sr2[1],\n",
    "             save_file=None)\n",
    "\n",
    "\n",
    "accuracy_false(sr2[0], sr2[1])"
   ],
   "metadata": {
    "collapsed": false,
    "ExecuteTime": {
     "end_time": "2024-02-19T17:46:41.878367Z",
     "start_time": "2024-02-19T17:46:41.710562Z"
    }
   },
   "id": "aa2d1cf0e98a5212",
   "execution_count": 439
  },
  {
   "cell_type": "markdown",
   "source": [
    "# Automating precision checks:"
   ],
   "metadata": {
    "collapsed": false
   },
   "id": "16afccafd1c64872"
  },
  {
   "cell_type": "code",
   "outputs": [],
   "source": [
    "arr = np.array([1, 0, 3, 0, 0, 5, 0])\n",
    "\n",
    "# Find indices where value 0 occurs\n",
    "indices = np.where(arr == 0)\n",
    "\n",
    "print(indices)"
   ],
   "metadata": {
    "collapsed": false,
    "ExecuteTime": {
     "start_time": "2024-02-19T17:46:41.943510Z"
    }
   },
   "id": "7a23b243aa364432",
   "execution_count": null
  }
 ],
 "metadata": {
  "kernelspec": {
   "display_name": "Python 3",
   "language": "python",
   "name": "python3"
  },
  "language_info": {
   "codemirror_mode": {
    "name": "ipython",
    "version": 2
   },
   "file_extension": ".py",
   "mimetype": "text/x-python",
   "name": "python",
   "nbconvert_exporter": "python",
   "pygments_lexer": "ipython2",
   "version": "2.7.6"
  }
 },
 "nbformat": 4,
 "nbformat_minor": 5
}
