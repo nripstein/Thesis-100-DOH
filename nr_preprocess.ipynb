{
 "cells": [
  {
   "cell_type": "code",
   "execution_count": 14,
   "metadata": {},
   "outputs": [],
   "source": [
    "import cv2\n",
    "from tqdm import tqdm\n",
    "import os"
   ]
  },
  {
   "cell_type": "code",
   "execution_count": 20,
   "metadata": {},
   "outputs": [],
   "source": [
    "def process_and_save_image(image_directory, save_directory, square_size):\n",
    "    # Read the image\n",
    "    image = cv2.imread(image_directory)\n",
    "    \n",
    "    if image is None:\n",
    "        # print(f\"No image found in {image_directory}\")\n",
    "        return\n",
    "    \n",
    "    # Get dimensions of the image\n",
    "    height, width, _ = image.shape\n",
    "    \n",
    "    # Crop the image to a square size\n",
    "    # Determine the center to crop the image around\n",
    "    center_x, center_y = width // 2, height // 2\n",
    "    x_start = max(center_x - square_size // 2, 0)\n",
    "    y_start = max(center_y - square_size // 2, 0)\n",
    "    \n",
    "    # Ensuring the square doesn't exceed image dimensions\n",
    "    cropped_image = image[y_start:y_start+square_size, x_start:x_start+square_size]\n",
    "    \n",
    "    # Flip the image vertically\n",
    "    flipped_image = cv2.flip(cropped_image, 0)\n",
    "    \n",
    "    # Check if save directory exists, if not create it\n",
    "    if not os.path.exists(save_directory):\n",
    "        os.makedirs(save_directory)\n",
    "    \n",
    "    # Save the image\n",
    "    filename = os.path.basename(image_directory)\n",
    "    save_path = os.path.join(save_directory, filename)\n",
    "    cv2.imwrite(save_path, flipped_image)\n",
    "    # print(f\"Processed image saved to {save_path}\")\n",
    "\n",
    "\n",
    "\n",
    "# sv_dirs = [f'/home/nripstein/Documents/thesis data/thesis labels/sv labels/sv{i}_frames/frames' for i in (1, 2, 3, 4)]\n",
    "\n",
    "# for dir in (sv_dirs):\n",
    "#     for file in ([file for file in os.listdir(dir) if not file.startswith('.')]):\n",
    "#         print(file, os.path.dirname(dir) + \"/\" + os.path.dirname(dir).split(\"/\")[-1].split(\"_\")[0] + \"_shrunk\")\n",
    "        # process_and_save_image(dir + file, os.path.dirname(dir) + \"/\" + os.path.dirname(dir).split(\"/\")[-1].split(\"_\")[0] + \"_shrunk\", 480)\n",
    "\n",
    "dir = '/home/nripstein/Documents/thesis data/thesis labels/sv labels/sv1_frames/frames/'\n",
    "\n",
    "\n",
    "for file in ([file for file in os.listdir(dir) if not file.startswith('.')]):\n",
    "    process_and_save_image(dir + file, \"/home/nripstein/Documents/thesis data/thesis labels/sv labels/sv1_frames/sv1_shrunk/\", 480)"
   ]
  },
  {
   "cell_type": "code",
   "execution_count": 12,
   "metadata": {},
   "outputs": [
    {
     "data": {
      "text/plain": [
       "'/home/nripstein/Documents/thesis data/thesis labels/sv labels/sv2_frames/sv2_shrunk'"
      ]
     },
     "execution_count": 12,
     "metadata": {},
     "output_type": "execute_result"
    }
   ],
   "source": [
    "import os\n",
    "tmp = \"/home/nripstein/Documents/thesis data/thesis labels/sv labels/sv2_frames/frames\"\n",
    "os.path.dirname(tmp) + \"/\" + os.path.dirname(tmp).split(\"/\")[-1].split(\"_\")[0] + \"_shrunk\""
   ]
  }
 ],
 "metadata": {
  "kernelspec": {
   "display_name": "shan_et_al2",
   "language": "python",
   "name": "python3"
  },
  "language_info": {
   "codemirror_mode": {
    "name": "ipython",
    "version": 3
   },
   "file_extension": ".py",
   "mimetype": "text/x-python",
   "name": "python",
   "nbconvert_exporter": "python",
   "pygments_lexer": "ipython3",
   "version": "3.8.18"
  }
 },
 "nbformat": 4,
 "nbformat_minor": 2
}
