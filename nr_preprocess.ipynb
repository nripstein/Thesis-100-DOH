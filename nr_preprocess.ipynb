{
 "cells": [
  {
   "cell_type": "code",
   "execution_count": 2,
   "metadata": {},
   "outputs": [],
   "source": [
    "import cv2\n",
    "from tqdm import tqdm\n",
    "import os"
   ]
  },
  {
   "cell_type": "code",
   "execution_count": 4,
   "metadata": {},
   "outputs": [],
   "source": [
    "def process_and_save_image(image_directory, save_directory, square_size):\n",
    "    # Read the image\n",
    "    image = cv2.imread(image_directory)\n",
    "    \n",
    "    if image is None:\n",
    "        # print(f\"No image found in {image_directory}\")\n",
    "        return\n",
    "    \n",
    "    # Get dimensions of the image\n",
    "    height, width, _ = image.shape\n",
    "    \n",
    "    # Crop the image to a square size\n",
    "    # Determine the center to crop the image around\n",
    "    center_x, center_y = width // 2, height // 2\n",
    "    x_start = max(center_x - square_size // 2, 0)\n",
    "    y_start = max(center_y - square_size // 2, 0)\n",
    "    \n",
    "    # Ensuring the square doesn't exceed image dimensions\n",
    "    cropped_image = image[y_start:y_start+square_size, x_start:x_start+square_size]\n",
    "    \n",
    "    # Flip the image vertically\n",
    "    flipped_image = cv2.flip(cropped_image, 0)\n",
    "    \n",
    "    # Check if save directory exists, if not create it\n",
    "    if not os.path.exists(save_directory):\n",
    "        os.makedirs(save_directory)\n",
    "    \n",
    "    # Save the image\n",
    "    filename = os.path.basename(image_directory)\n",
    "    save_path = os.path.join(save_directory, filename)\n",
    "    cv2.imwrite(save_path, flipped_image)\n",
    "    # print(f\"Processed image saved to {save_path}\")\n",
    "\n",
    "def process_directories(directories, square_size):\n",
    "    for dir in directories:\n",
    "        # Extract the prefix from the directory name\n",
    "        parent_dir = os.path.abspath(os.path.join(dir, os.pardir))\n",
    "        prefix = os.path.basename(parent_dir.rstrip('/')).split('_')[0]\n",
    "        \n",
    "        shrunk_dir_name = f\"{prefix}_shrunk\"\n",
    "        shrunk_dir_path = os.path.join(parent_dir, shrunk_dir_name)\n",
    "\n",
    "        # Process each file in the directory\n",
    "        for file in tqdm([file for file in os.listdir(dir) if not file.startswith('.')], desc=prefix):\n",
    "            process_and_save_image(os.path.join(dir, file), shrunk_dir_path, square_size)\n",
    "\n",
    "\n",
    "# dir = '/home/nripstein/Documents/thesis data/thesis labels/sv labels/sv1_frames/frames/'\n",
    "\n",
    "\n",
    "# for file in tqdm([file for file in os.listdir(dir) if not file.startswith('.')]):\n",
    "#     process_and_save_image(dir + file, \"/home/nripstein/Documents/thesis data/thesis labels/sv labels/sv1_frames/sv1_shrunk/\", 480)"
   ]
  },
  {
   "cell_type": "code",
   "execution_count": 37,
   "metadata": {},
   "outputs": [
    {
     "name": "stdout",
     "output_type": "stream",
     "text": [
      "sv3\n"
     ]
    },
    {
     "name": "stderr",
     "output_type": "stream",
     "text": [
      "sv3: 100%|██████████| 5348/5348 [00:24<00:00, 215.57it/s]\n"
     ]
    },
    {
     "name": "stdout",
     "output_type": "stream",
     "text": [
      "sv4\n"
     ]
    },
    {
     "name": "stderr",
     "output_type": "stream",
     "text": [
      "sv4: 100%|██████████| 6974/6974 [00:32<00:00, 215.49it/s]\n"
     ]
    },
    {
     "name": "stdout",
     "output_type": "stream",
     "text": [
      "sv5\n"
     ]
    },
    {
     "name": "stderr",
     "output_type": "stream",
     "text": [
      "sv5: 100%|██████████| 3845/3845 [00:17<00:00, 213.92it/s]\n"
     ]
    },
    {
     "name": "stdout",
     "output_type": "stream",
     "text": [
      "sv\n"
     ]
    },
    {
     "name": "stderr",
     "output_type": "stream",
     "text": [
      "sv: 100%|██████████| 1875/1875 [00:08<00:00, 212.83it/s]\n"
     ]
    }
   ],
   "source": [
    "directories = [\n",
    "    # '/home/nripstein/Documents/thesis data/thesis labels/sv labels/sv1_frames/frames/',\n",
    "    '/home/nripstein/Documents/thesis data/thesis labels/sv labels/sv3_frames/frames/',\n",
    "    '/home/nripstein/Documents/thesis data/thesis labels/sv labels/sv4_frames/frames/',\n",
    "    '/home/nripstein/Documents/thesis data/thesis labels/sv labels/sv5_frames/frames/',\n",
    "    '/home/nripstein/Documents/thesis data/thesis labels/sv labels/sv_extra_frames/frames/',\n",
    "]\n",
    "\n",
    "square_size = 480\n",
    "process_directories(directories, square_size)"
   ]
  },
  {
   "cell_type": "code",
   "execution_count": 6,
   "metadata": {},
   "outputs": [
    {
     "name": "stderr",
     "output_type": "stream",
     "text": [
      "all: 100%|██████████| 14337/14337 [01:12<00:00, 197.64it/s]\n"
     ]
    }
   ],
   "source": [
    "# directories = [\n",
    "#     '/home/nripstein/Documents/thesis data/thesis labels/sr labels/sr1/frames/',\n",
    "#     '/home/nripstein/Documents/thesis data/thesis labels/sr labels/sr3/frames/',\n",
    "#     '/home/nripstein/Documents/thesis data/thesis labels/sr labels/sr4/frames/',\n",
    "#     '/home/nripstein/Documents/thesis data/thesis labels/sr labels/sr_extra1/frames/',\n",
    "#     '/home/nripstein/Documents/thesis data/thesis labels/sr labels/sr_extra2/frames/',\n",
    "# ]\n",
    "\n",
    "directories = [\"/home/nripstein/Documents/thesis data/thesis labels/nr labels/all_nr/frames\"]\n",
    "\n",
    "square_size = 480\n",
    "process_directories(directories, square_size)"
   ]
  },
  {
   "cell_type": "markdown",
   "metadata": {},
   "source": [
    "# Make vid from predicted frames"
   ]
  },
  {
   "cell_type": "code",
   "execution_count": 21,
   "metadata": {},
   "outputs": [
    {
     "name": "stderr",
     "output_type": "stream",
     "text": [
      "  0%|          | 0/4278 [00:00<?, ?it/s]"
     ]
    },
    {
     "name": "stderr",
     "output_type": "stream",
     "text": [
      "100%|██████████| 4278/4278 [00:13<00:00, 328.96it/s]\n"
     ]
    }
   ],
   "source": [
    "import cv2\n",
    "import os\n",
    "import numpy as np\n",
    "from numpy.typing import ArrayLike\n",
    "from tqdm import tqdm\n",
    "import pandas as pd\n",
    "\n",
    "def sorting_fn(filename):\n",
    "    return int(filename.split(\"_\")[0])\n",
    "\n",
    "\n",
    "def images_to_video(input_dir: str, output_file: str, fps = 60, labels: ArrayLike = None):\n",
    "\n",
    "    red = [52, 28, 200]\n",
    " \n",
    "    green = [47, 140, 38] # in\n",
    "    label_color_map = {0: red, 1: green}\n",
    "\n",
    "    all_images = [f for f in os.listdir(input_dir) if f[0] != \".\"]\n",
    "    sorted_images = sorted(all_images, key=lambda filename: int(filename.split(\"_\")[0]))\n",
    "\n",
    "    if labels is not None and len(labels) != len(sorted_images):\n",
    "        raise IndexError(\"Label array must be same length as number of frames\")\n",
    "\n",
    "    # Read the first image to get its resolution\n",
    "    first_image_path = os.path.join(input_dir, sorted_images[0])\n",
    "    first_image = cv2.imread(first_image_path)\n",
    "    height, width, _ = first_image.shape\n",
    "\n",
    "    # Define the codec and create VideoWriter object\n",
    "    fourcc = cv2.VideoWriter_fourcc(*'mp4v')\n",
    "    video_out = cv2.VideoWriter(output_file, fourcc, fps, (480, 480))  # Change resolution if necessary\n",
    "\n",
    "    for idx, image_file in enumerate(tqdm(sorted_images)):\n",
    "        # Extract frame number from the image filename\n",
    "        frame_number = int(image_file.split('_')[0])\n",
    "\n",
    "        # Read the image\n",
    "        img = cv2.imread(os.path.join(input_dir, image_file))\n",
    "\n",
    "        if labels is not None:\n",
    "            label = labels[idx]  # label of current frame\n",
    "            cv2.rectangle(img, (0, 0), (80, 80), label_color_map[label], -1)\n",
    "\n",
    "        # Write the frame to the video\n",
    "        video_out.write(img)\n",
    "\n",
    "    # Release video writer and close any open windows\n",
    "    video_out.release()\n",
    "    cv2.destroyAllWindows()\n",
    "\n",
    "# # Example usage:\n",
    "base = '/home/nripstein/code/thesis git clones/hand_object_detector/'\n",
    "input_dir = base + 'images_det/'\n",
    "output_file = base + 'output_video1.mp4'\n",
    "\n",
    "\n",
    "GOPR4366_pred = pd.read_csv('/home/nripstein/Documents/thesis data/lab participants/p6/GOPR4366_pred.csv' )\n",
    "GOPR4366_pred_bin = GOPR4366_pred[\"contact_label_pred\"].map({\"Portable Object\": 1, \"No Contact\": 0 , \"Stationary Object Contact\": 0, \"Self Contact\": 0}).to_numpy().astype(np.int8)\n",
    "\n",
    "sv2_con1 = pd.read_csv(\"/home/nripstein/Documents/thesis data/thesis labels/sr labels/sr2/sr2_pred_con1.csv\")\n",
    "sv2_con1_pred_bin = sv2_con1[\"contact_label_pred\"].map({\"Portable Object\": 1, \"No Contact\": 0 , \"Stationary Object Contact\": 0, \"Self Contact\": 0}).to_numpy().astype(np.int8)\n",
    "\n",
    "\n",
    "# images_to_video(input_dir, output_file, 60, sv2_con1_pred_bin)\n",
    "\n",
    "sv2_con1_og = pd.read_csv(\"/home/nripstein/Documents/thesis data/thesis labels/sr labels/sr2/sr2_pred.csv\")\n",
    "sv2_con1_pred_bin = sv2_con1[\"contact_label_pred\"].map({\"Portable Object\": 1, \"No Contact\": 0 , \"Stationary Object Contact\": 0, \"Self Contact\": 0}).to_numpy().astype(np.int8)\n",
    "\n",
    "images_to_video(input_dir, output_file, 60, sv2_con1_pred_bin)\n"
   ]
  }
 ],
 "metadata": {
  "kernelspec": {
   "display_name": "shan_et_al2",
   "language": "python",
   "name": "python3"
  },
  "language_info": {
   "codemirror_mode": {
    "name": "ipython",
    "version": 3
   },
   "file_extension": ".py",
   "mimetype": "text/x-python",
   "name": "python",
   "nbconvert_exporter": "python",
   "pygments_lexer": "ipython3",
   "version": "3.8.18"
  }
 },
 "nbformat": 4,
 "nbformat_minor": 2
}
