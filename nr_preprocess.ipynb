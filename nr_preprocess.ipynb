{
 "cells": [
  {
   "cell_type": "code",
   "execution_count": 1,
   "metadata": {},
   "outputs": [],
   "source": [
    "import cv2\n",
    "from tqdm import tqdm\n",
    "import os"
   ]
  },
  {
   "cell_type": "code",
   "execution_count": 8,
   "metadata": {},
   "outputs": [
    {
     "name": "stdout",
     "output_type": "stream",
     "text": [
      "doesnt exist\n"
     ]
    }
   ],
   "source": [
    "def process_and_save_image(image_directory, save_directory, square_size):\n",
    "    # Read the image\n",
    "    image = cv2.imread(image_directory)\n",
    "    \n",
    "    if image is None:\n",
    "        # print(f\"No image found in {image_directory}\")\n",
    "        return\n",
    "    \n",
    "    # Get dimensions of the image\n",
    "    height, width, _ = image.shape\n",
    "    \n",
    "    # Crop the image to a square size\n",
    "    # Determine the center to crop the image around\n",
    "    center_x, center_y = width // 2, height // 2\n",
    "    x_start = max(center_x - square_size // 2, 0)\n",
    "    y_start = max(center_y - square_size // 2, 0)\n",
    "    \n",
    "    # Ensuring the square doesn't exceed image dimensions\n",
    "    cropped_image = image[y_start:y_start+square_size, x_start:x_start+square_size]\n",
    "    \n",
    "    # Flip the image vertically\n",
    "    flipped_image = cv2.flip(cropped_image, 0)\n",
    "    \n",
    "    # Check if save directory exists, if not create it\n",
    "    if not os.path.exists(save_directory):\n",
    "        os.makedirs(save_directory)\n",
    "    \n",
    "    # Save the image\n",
    "    filename = os.path.basename(image_directory)\n",
    "    save_path = os.path.join(save_directory, filename)\n",
    "    cv2.imwrite(save_path, flipped_image)\n",
    "    # print(f\"Processed image saved to {save_path}\")\n",
    "\n",
    "\n",
    "\n",
    "\n",
    "sr2_dir = '/home/nripstein/Documents/thesis data/thesis labels/sv labels/sv2_frames/frames/'\n",
    "# os.makedirs(\"/home/nripstein/Documents/thesis data/thesis labels/sv labels/sv2_frames/shrunk\", exist_ok=True)\n",
    "for file in tqdm([file for file in os.listdir(sr2_dir) if not file.startswith('.')]):\n",
    "    \n",
    "    process_and_save_image(sr2_dir + file, '/home/nripstein/Documents/thesis data/thesis labels/sv labels/sv2_frames/shrunk', 480)\n"
   ]
  }
 ],
 "metadata": {
  "kernelspec": {
   "display_name": "shan_et_al2",
   "language": "python",
   "name": "python3"
  },
  "language_info": {
   "name": "python",
   "version": "3.8.18"
  }
 },
 "nbformat": 4,
 "nbformat_minor": 2
}
