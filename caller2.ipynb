{
 "cells": [
  {
   "cell_type": "code",
   "execution_count": 1,
   "metadata": {},
   "outputs": [
    {
     "name": "stderr",
     "output_type": "stream",
     "text": [
      "/home/nripstein/miniconda3/envs/shan_et_al2/lib/python3.8/site-packages/tqdm/auto.py:21: TqdmWarning: IProgress not found. Please update jupyter and ipywidgets. See https://ipywidgets.readthedocs.io/en/stable/user_install.html\n",
      "  from .autonotebook import tqdm as notebook_tqdm\n"
     ]
    }
   ],
   "source": [
    "from my_demo_fn import main\n",
    "import numpy as np\n",
    "import matplotlib.pyplot as plt\n",
    "import pandas as pd\n",
    "from tqdm import tqdm\n",
    "from typing import List, Tuple\n",
    "import os\n",
    "import csv\n",
    "\n",
    "%load_ext autoreload\n",
    "%autoreload 2"
   ]
  },
  {
   "cell_type": "code",
   "execution_count": 2,
   "metadata": {},
   "outputs": [],
   "source": [
    "def condense_dataframe(df: pd.DataFrame, priority: dict = None):\n",
    "    \"\"\"\n",
    "    deals with duplicate images which have multiple contact states\n",
    "    \n",
    "    Condenses a pandas DataFrame by ensuring each 'image' entry is unique and retains\n",
    "    the most relevant 'contact_label_pred' based on a set priority.\n",
    "\n",
    "    The function operates under the rule that if multiple entries exist for the same 'image',\n",
    "    it prioritizes keeping the entry with 'contact_label_pred' as \"Portable Object Contact\" over\n",
    "    \"Stationary Object Contact\", and \"Stationary Object Contact\" over \"No Contact\". This is\n",
    "    done by sorting the DataFrame according to the 'image' and a custom priority assigned to\n",
    "    'contact_label_pred', then removing duplicate 'image' entries while keeping the entry with the\n",
    "    highest-priority 'contact_label_pred'.\n",
    "    \"\"\"\n",
    "    if priority is None:\n",
    "        priority = {\n",
    "            \"Portable Object\": 1,\n",
    "            \"Portable Object Contact\": 1,\n",
    "            \"Stationary Object Contact\": 2,\n",
    "            \"No Contact\": 3\n",
    "        }\n",
    "\n",
    "    # Sort the DataFrame based on 'image' and the custom priority of 'contact_label_pred'\n",
    "\n",
    "    df['priority'] = df['contact_label_pred'].map(priority)\n",
    "\n",
    "    df = df.sort_values(by=['frame_id', 'priority'])\n",
    "\n",
    "    # Drop the 'priority' column as it's no longer needed after sorting\n",
    "    df.drop('priority', axis=1, inplace=True)\n",
    "\n",
    "    # Remove duplicates, keeping the first occurrence\n",
    "    df = df.drop_duplicates(subset='frame_id', keep='first')\n",
    "\n",
    "    return df.iloc[df['frame_id'].map(lambda x: int(x.split('_')[0])).argsort()].reset_index(drop=True)\n",
    "\n",
    "def get_last_indices_of_consecutive_labels2(df, transformation_dict):\n",
    "    last_indices = {}\n",
    "    last_label = None\n",
    "\n",
    "    for index, row in df.iterrows():\n",
    "        current_label = row['contact_label_pred']\n",
    "        # If the current label is different from the last one, update the dictionary\n",
    "        if current_label != last_label:\n",
    "            if last_label is not None:  # to skip the very first label\n",
    "                # Transform the label using the transformation_dict\n",
    "                transformed_label = transformation_dict.get(last_label, last_label)\n",
    "                last_indices[last_index] = transformed_label\n",
    "            last_label = current_label\n",
    "        last_index = index  # keep track of the last index\n",
    "    \n",
    "    # Add the last label and index after the loop\n",
    "    # Transform the label using the transformation_dict\n",
    "    transformed_label = transformation_dict.get(current_label, current_label)\n",
    "    last_indices[last_index] = transformed_label\n",
    "    return last_indices\n",
    "\n",
    "def csv_to_tuples(filename):\n",
    "    data = []\n",
    "    with open(filename, 'r') as csvfile:\n",
    "        reader = csv.reader(csvfile)\n",
    "        next(reader)  # Skip header row if it exists\n",
    "        for row in reader:\n",
    "            # Skip the first column and convert the rest to integers\n",
    "            holding_transitions, not_holding_transitions = map(int, row[1:])\n",
    "            data.append((holding_transitions, not_holding_transitions))\n",
    "    return data\n",
    "\n",
    "def comparison_dicts(gt_transitions: List[tuple], max_len) -> Tuple[dict]:\n",
    "    \"\"\"\n",
    "    Args:\n",
    "        gt_transitions: List of tuples of ground truth transition frames in form [(start1, end1), (start2, end2) ...]\n",
    "    \"\"\"\n",
    "\n",
    "    def transition_to_dict(trns: List[Tuple[int, int]]) -> dict:\n",
    "        output_dict = {}\n",
    "        for bound in trns:\n",
    "            output_dict[bound[0]] = \"red\"\n",
    "            output_dict[bound[1]] = \"green\"\n",
    "        return output_dict\n",
    "    \n",
    "    trans_dict_gt = transition_to_dict(gt_transitions)\n",
    "    trans_dict_gt[max_len] = \"red\"  # need to make remaining frames without contact red\n",
    "    return trans_dict_gt\n",
    "\n",
    "\n",
    "def plot_colored_horizontal_lines(col_dict1, col_dict2, line_height=1, label_offset=0.5, x_ticks_interval=None):\n",
    "    \"\"\"\n",
    "    Plot two colored horizontal lines with labels to the left of them.\n",
    "\n",
    "    :param col_dict1: Dictionary for the first line with keys as the end index of the color and values as the colors\n",
    "    :param col_dict2: Dictionary for the second line with keys as the end index of the color and values as the colors\n",
    "    :param line_height: Height of the lines\n",
    "    :param label_offset: Offset to control the distance between lines and labels\n",
    "    :param x_ticks_interval: Interval for x-axis ticks (set to None for automatic ticks)\n",
    "\n",
    "    Example:\n",
    "        col_dict1 = {15: 'blue', 20: 'red', 200: 'pink'}\n",
    "        col_dict2 = {10: 'green', 30: 'purple', 90: 'orange', 120: \"green\"}\n",
    "        plot_colored_horizontal_lines(col_dict1, col_dict2, line_height=1, label_offset=0.5, x_ticks_interval=50)\n",
    "    \"\"\"\n",
    "    line_width = 10\n",
    "\n",
    "    # Calculate figure height based on line_height and x_ticks_interval\n",
    "    figure_height = line_height * 1.25 if x_ticks_interval else line_height\n",
    "\n",
    "    # Create a figure and a set of subplots\n",
    "    fig, ax = plt.subplots(figsize=(line_width, figure_height))\n",
    "\n",
    "    # Initial start position for the first line\n",
    "    start1 = 0\n",
    "    for end, color in sorted(col_dict1.items()):\n",
    "        ax.plot([start1, end], [0, 0], color=color, lw=line_width, solid_capstyle='butt')\n",
    "        start1 = end\n",
    "\n",
    "    # Initial start position for the second line\n",
    "    start2 = 0\n",
    "    for end, color in sorted(col_dict2.items()):\n",
    "        ax.plot([start2, end], [-line_height, -line_height], color=color, lw=line_width, solid_capstyle='butt')\n",
    "        start2 = end\n",
    "\n",
    "    # Set the limits for the x-axis and y-axis\n",
    "    max_x = max(max(col_dict1.keys()), max(col_dict2.keys()))\n",
    "    ax.set_xlim(0, max_x)\n",
    "    ax.set_ylim(-2 * line_height, line_height)\n",
    "\n",
    "    # Remove the y-axis\n",
    "    ax.yaxis.set_visible(False)\n",
    "\n",
    "    # Remove the spines of the plot\n",
    "    for spine in ax.spines.values():\n",
    "        spine.set_visible(False)\n",
    "\n",
    "    # Add labels to the left of the lines with appropriate offset\n",
    "    ax.text(-label_offset, 0, \"Pred:\", va='center', ha='right', fontsize=12, color='black')\n",
    "    ax.text(-label_offset, -line_height, \"GT:\", va='center', ha='right', fontsize=12, color='black')\n",
    "\n",
    "    # Set x-axis ticks every x_ticks_interval units if specified\n",
    "    if x_ticks_interval is not None:\n",
    "        ax.set_xticks(range(0, int(max_x) + 1, x_ticks_interval))\n",
    "        ax.tick_params(axis='x', rotation=45)  # Rotate x-axis ticks by 45 degrees\n",
    "\n",
    "    # Show the plot\n",
    "    plt.tight_layout()\n",
    "    plt.show()\n",
    "\n",
    "transformation_dict = {\"Portable Object Contact\": \"green\", \"Portable Object\": \"green\", \"Stationary Object Contact\": \"red\", \"No Contact\": \"yellow\", \"Self Contact\": \"red\"}"
   ]
  },
  {
   "cell_type": "code",
   "execution_count": 2,
   "metadata": {},
   "outputs": [
    {
     "name": "stderr",
     "output_type": "stream",
     "text": [
      "Extracting frames from GOPR4366c.mp4: 100%|██████████| 1740/1740 [00:06<00:00, 287.05it/s]\n",
      "Processing Images: 100%|██████████| 1740/1740 [01:11<00:00, 24.49it/s]\n"
     ]
    }
   ],
   "source": [
    "GOPR4366_dir = '/home/nripstein/Documents/thesis data/lab participants/p6/'\n",
    "\n",
    "GOPR4366_results = main(save_imgs=False, img_dir=GOPR4366_dir + 'GOPR4366c.mp4', blue_refine=True)\n",
    "GOPR4366_results.to_csv(GOPR4366_dir + \"GOPR4366c_full_pred.csv\")"
   ]
  },
  {
   "cell_type": "code",
   "execution_count": 3,
   "metadata": {},
   "outputs": [
    {
     "name": "stderr",
     "output_type": "stream",
     "text": [
      "Processing Images: 100%|██████████| 14337/14337 [09:57<00:00, 24.00it/s]\n"
     ]
    }
   ],
   "source": [
    "nr_dir = '/home/nripstein/Documents/thesis data/thesis labels/nr labels/all_nr/'\n",
    "\n",
    "nr_results = main(save_imgs=False, img_dir=nr_dir + 'nr_shrunk/', blue_refine=True)\n",
    "nr_results.to_csv(nr_dir + \"pred_every_obj.csv\", index=False)"
   ]
  },
  {
   "cell_type": "markdown",
   "metadata": {},
   "source": [
    "### SR"
   ]
  },
  {
   "cell_type": "code",
   "execution_count": 5,
   "metadata": {},
   "outputs": [
    {
     "name": "stdout",
     "output_type": "stream",
     "text": [
      "/home/nripstein/Documents/thesis data/thesis labels/sr labels/sr1/sr1_shrunk\n"
     ]
    },
    {
     "name": "stderr",
     "output_type": "stream",
     "text": [
      "Processing Images: 100%|██████████| 15432/15432 [10:36<00:00, 24.25it/s]\n"
     ]
    },
    {
     "data": {
      "image/png": "[encoded data removed]",
      "text/plain": [
       "<Figure size 1000x100 with 1 Axes>"
      ]
     },
     "metadata": {},
     "output_type": "display_data"
    }
   ],
   "source": [
    "transformation_dict = {\"Portable Object Contact\": \"green\", \"Portable Object\": \"green\", \"Stationary Object Contact\": \"red\", \"No Contact\": \"yellow\", \"Self Contact\": \"red\"}\n",
    "\n",
    "def pred_imgs(dir_: str, shrunk_add: str):\n",
    "    if dir_[-1] != \"/\":\n",
    "        raise ValueError(\"NOAH! DIR NEEDS TO END IN '/'\")\n",
    "\n",
    "    print(dir_ + shrunk_add)\n",
    "    raw_preds = main(save_imgs=False, img_dir=dir_ + shrunk_add, blue_refine=True)\n",
    "    raw_preds.to_csv(dir_ + \"pred_every_obj.csv\", index=False)\n",
    "    preds_cond = condense_dataframe(raw_preds)\n",
    "    pred_dict = get_last_indices_of_consecutive_labels2(preds_cond, transformation_dict)\n",
    "\n",
    "\n",
    "    gt = csv_to_tuples(dir_ + \"changepoints.csv\")\n",
    "    gt_dict = comparison_dicts(gt, len(preds_cond))\n",
    "\n",
    "    plot_colored_horizontal_lines(pred_dict, gt_dict)\n",
    "\n",
    "sr_base = '/home/nripstein/Documents/thesis data/thesis labels/sr labels/'\n",
    "\n",
    "# directories = [\n",
    "#     sr_base + 'sr1/',\n",
    "#     sr_base + 'sr2/',\n",
    "#     sr_base + 'sr3/',\n",
    "#     sr_base + 'sr4/',\n",
    "# ]\n",
    "\n",
    "# shrunks = [f\"sr{i}_shrunk\" for i in (1, 2, 3, 4)]\n",
    "\n",
    "directories = [\n",
    "    sr_base + 'sr1/',\n",
    "    # sr_base + 'sr2/',\n",
    "    # sr_base + 'sr3/',\n",
    "    # sr_base + 'sr4/',\n",
    "]\n",
    "\n",
    "shrunks = [f\"sr{i}_shrunk\" for i in (1, )]\n",
    "\n",
    "for dir, shrunk in zip(directories, shrunks):\n",
    "    pred_imgs(dir, shrunk)"
   ]
  },
  {
   "cell_type": "markdown",
   "metadata": {},
   "source": [
    "### SV"
   ]
  },
  {
   "cell_type": "code",
   "execution_count": 11,
   "metadata": {},
   "outputs": [
    {
     "name": "stdout",
     "output_type": "stream",
     "text": [
      "/home/nripstein/Documents/thesis data/thesis labels/sv labels/sv1_frames/\n"
     ]
    },
    {
     "name": "stderr",
     "output_type": "stream",
     "text": [
      "Processing Images: 100%|██████████| 15244/15244 [10:33<00:00, 24.07it/s]\n"
     ]
    },
    {
     "data": {
      "image/png": "[encoded data removed]",
      "text/plain": [
       "<Figure size 1000x100 with 1 Axes>"
      ]
     },
     "metadata": {},
     "output_type": "display_data"
    },
    {
     "data": {
      "image/png": "[encoded data removed]",
      "text/plain": [
       "<Figure size 1000x100 with 1 Axes>"
      ]
     },
     "metadata": {},
     "output_type": "display_data"
    },
    {
     "name": "stdout",
     "output_type": "stream",
     "text": [
      "/home/nripstein/Documents/thesis data/thesis labels/sv labels/sv2_frames/\n"
     ]
    },
    {
     "name": "stderr",
     "output_type": "stream",
     "text": [
      "Processing Images: 100%|██████████| 3851/3851 [02:41<00:00, 23.87it/s]\n"
     ]
    },
    {
     "data": {
      "image/png": "[encoded data removed]",
      "text/plain": [
       "<Figure size 1000x100 with 1 Axes>"
      ]
     },
     "metadata": {},
     "output_type": "display_data"
    },
    {
     "data": {
      "image/png": "[encoded data removed]",
      "text/plain": [
       "<Figure size 1000x100 with 1 Axes>"
      ]
     },
     "metadata": {},
     "output_type": "display_data"
    },
    {
     "name": "stdout",
     "output_type": "stream",
     "text": [
      "/home/nripstein/Documents/thesis data/thesis labels/sv labels/sv3_frames/\n"
     ]
    },
    {
     "name": "stderr",
     "output_type": "stream",
     "text": [
      "Processing Images: 100%|██████████| 5348/5348 [03:38<00:00, 24.43it/s]\n"
     ]
    },
    {
     "data": {
      "image/png": "[encoded data removed]",
      "text/plain": [
       "<Figure size 1000x100 with 1 Axes>"
      ]
     },
     "metadata": {},
     "output_type": "display_data"
    },
    {
     "data": {
      "image/png": "[encoded data removed]",
      "text/plain": [
       "<Figure size 1000x100 with 1 Axes>"
      ]
     },
     "metadata": {},
     "output_type": "display_data"
    },
    {
     "name": "stdout",
     "output_type": "stream",
     "text": [
      "/home/nripstein/Documents/thesis data/thesis labels/sv labels/sv4_frames/\n"
     ]
    },
    {
     "name": "stderr",
     "output_type": "stream",
     "text": [
      "Processing Images: 100%|██████████| 6974/6974 [04:29<00:00, 25.84it/s]\n"
     ]
    },
    {
     "data": {
      "image/png": "[encoded data removed]",
      "text/plain": [
       "<Figure size 1000x100 with 1 Axes>"
      ]
     },
     "metadata": {},
     "output_type": "display_data"
    },
    {
     "data": {
      "image/png": "[encoded data removed]",
      "text/plain": [
       "<Figure size 1000x100 with 1 Axes>"
      ]
     },
     "metadata": {},
     "output_type": "display_data"
    },
    {
     "name": "stdout",
     "output_type": "stream",
     "text": [
      "/home/nripstein/Documents/thesis data/thesis labels/sv labels/sv5_frames/\n"
     ]
    },
    {
     "name": "stderr",
     "output_type": "stream",
     "text": [
      "Processing Images: 100%|██████████| 3845/3845 [02:28<00:00, 25.89it/s]\n"
     ]
    },
    {
     "data": {
      "image/png": "[encoded data removed]",
      "text/plain": [
       "<Figure size 1000x100 with 1 Axes>"
      ]
     },
     "metadata": {},
     "output_type": "display_data"
    },
    {
     "data": {
      "image/png": "[encoded data removed]",
      "text/plain": [
       "<Figure size 1000x100 with 1 Axes>"
      ]
     },
     "metadata": {},
     "output_type": "display_data"
    }
   ],
   "source": [
    "transformation_dict = {\"Portable Object Contact\": \"green\", \"Portable Object\": \"green\", \"Stationary Object Contact\": \"red\", \"No Contact\": \"yellow\", \"Self Contact\": \"red\"}\n",
    "\n",
    "def pred_imgs(dir_: str, shrunk_add: str):\n",
    "    if dir_[-1] != \"/\":\n",
    "        raise ValueError(\"NOAH! DIR NEEDS TO END IN '/'\")\n",
    "    print(dir_)\n",
    "    raw_preds = main(save_imgs=True, img_dir=dir_ + shrunk_add, blue_refine=True)\n",
    "    raw_preds.to_csv(dir_ + \"pred_every_obj.csv\", index=False)\n",
    "    preds_cond = condense_dataframe(raw_preds)\n",
    "    pred_dict = get_last_indices_of_consecutive_labels2(preds_cond, transformation_dict)\n",
    "\n",
    "\n",
    "    gt = csv_to_tuples(dir_ + \"changepoints.csv\")\n",
    "    gt_dict = comparison_dicts(gt, len(preds_cond))\n",
    "\n",
    "    plot_colored_horizontal_lines(pred_dict, gt_dict)\n",
    "    plot_colored_horizontal_lines(get_last_indices_of_consecutive_labels2(condense_dataframe(raw_preds, priority_old),transformation_dict), \n",
    "                                    gt_dict)\n",
    "\n",
    "sv_base = '/home/nripstein/Documents/thesis data/thesis labels/sv labels/'\n",
    "\n",
    "directories = [sv_base + f'sv{i}_frames/' for i in (1, 2, 3, 4, 5)]\n",
    "\n",
    "shrunks = [f\"sv{i}_shrunk\" for i in (1, 2, 3, 4, 5)]\n",
    "\n",
    "priority_old = {\n",
    "            \"Portable Object\": 3,\n",
    "            \"Portable Object Contact\": 3,\n",
    "            \"Stationary Object Contact\": 2,\n",
    "            \"No Contact\": 1\n",
    "        }\n",
    "\n",
    "for dir, shrunk in zip(directories, shrunks):\n",
    "    pred_imgs(dir, shrunk)"
   ]
  }
 ],
 "metadata": {
  "kernelspec": {
   "display_name": "shan_et_al2",
   "language": "python",
   "name": "python3"
  },
  "language_info": {
   "codemirror_mode": {
    "name": "ipython",
    "version": 3
   },
   "file_extension": ".py",
   "mimetype": "text/x-python",
   "name": "python",
   "nbconvert_exporter": "python",
   "pygments_lexer": "ipython3",
   "version": "3.8.18"
  }
 },
 "nbformat": 4,
 "nbformat_minor": 2
}
