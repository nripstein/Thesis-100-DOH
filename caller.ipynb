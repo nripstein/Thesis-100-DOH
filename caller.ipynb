{
 "cells": [
  {
   "cell_type": "code",
   "execution_count": 1,
   "metadata": {},
   "outputs": [
    {
     "name": "stderr",
     "output_type": "stream",
     "text": [
      "/home/nripstein/miniconda3/envs/shan_et_al2/lib/python3.8/site-packages/tqdm/auto.py:21: TqdmWarning: IProgress not found. Please update jupyter and ipywidgets. See https://ipywidgets.readthedocs.io/en/stable/user_install.html\n",
      "  from .autonotebook import tqdm as notebook_tqdm\n"
     ]
    }
   ],
   "source": [
    "from my_demo_fn import main\n",
    "import numpy as np\n",
    "import matplotlib.pyplot as plt\n",
    "import pandas as pd\n",
    "from tqdm import tqdm\n",
    "\n",
    "%load_ext autoreload\n",
    "%autoreload 2"
   ]
  },
  {
   "cell_type": "code",
   "execution_count": 2,
   "metadata": {},
   "outputs": [],
   "source": [
    "# def plot_colored_horizontal_lines(col_dict1, col_dict2):\n",
    "#     \"\"\"\n",
    "#     Plot two colored horizontal lines with labels to the left of them.\n",
    "\n",
    "#     :param col_dict1: Dictionary for the first line with keys as the end index of the color and values as the colors\n",
    "#     :param col_dict2: Dictionary for the second line with keys as the end index of the color and values as the colors\n",
    "#     :param line_height: Height of the lines\n",
    "#     :param label_offset: Offset to control the distance between lines and labels\n",
    "\n",
    "#     Example:\n",
    "#         col_dict1 = {15: 'blue', 20: 'red', 200: 'pink'}\n",
    "#         col_dict2 = {10: 'green', 30: 'purple', 90: 'orange', 120: \"green\"}\n",
    "#         plot_colored_horizontal_lines(col_dict1, col_dict2)\n",
    "#     \"\"\"\n",
    "#     line_width = 10\n",
    "#     line_height=1\n",
    "#     label_offset=0.5\n",
    "#     # Create a figure and a set of subplots\n",
    "#     fig, ax = plt.subplots(figsize=(line_width, line_height))\n",
    "\n",
    "#     # Initial start position for the first line\n",
    "#     start1 = 0\n",
    "#     for end, color in sorted(col_dict1.items()):\n",
    "#         ax.plot([start1, end], [0, 0], color=color, lw=line_width, solid_capstyle='butt')\n",
    "#         start1 = end\n",
    "\n",
    "#     # Initial start position for the second line\n",
    "#     start2 = 0\n",
    "#     for end, color in sorted(col_dict2.items()):\n",
    "#         print(color)\n",
    "#         ax.plot([start2, end], [-line_height, -line_height], color=color, lw=line_width, solid_capstyle='butt')\n",
    "#         start2 = end\n",
    "\n",
    "#     # Set the limits for the x-axis and y-axis\n",
    "#     max_x = max(max(col_dict1.keys()), max(col_dict2.keys()))\n",
    "#     ax.set_xlim(0, max_x)\n",
    "#     ax.set_ylim(-2 * line_height, line_height)\n",
    "\n",
    "#     # Remove the y-axis\n",
    "#     ax.yaxis.set_visible(False)\n",
    "\n",
    "#     # Remove the spines of the plot\n",
    "#     for spine in ax.spines.values():\n",
    "#         spine.set_visible(False)\n",
    "\n",
    "#     # Add labels to the left of the lines with appropriate offset\n",
    "#     ax.text(-label_offset, 0, \"Pred:\", va='center', ha='right', fontsize=12, color='black')\n",
    "#     ax.text(-label_offset, -line_height, \"GT:\", va='center', ha='right', fontsize=12, color='black')\n",
    "\n",
    "#     # Show the plot\n",
    "#     plt.tight_layout()\n",
    "#     plt.show()\n",
    "\n",
    "def get_last_indices_of_consecutive_labels(df):\n",
    "    last_indices = {}\n",
    "    last_label = None\n",
    "\n",
    "    for index, row in df.iterrows():\n",
    "        current_label = row['contact_label']\n",
    "        # If the current label is different from the last one, update the dictionary\n",
    "        if current_label != last_label:\n",
    "            if last_label is not None:  # to skip the very first label\n",
    "                last_indices[last_index] = last_label\n",
    "            last_label = current_label\n",
    "        last_index = index  # keep track of the last index\n",
    "    \n",
    "    # Add the last label and index after the loop\n",
    "    last_indices[last_index] = current_label\n",
    "\n",
    "    return last_indices\n",
    "\n",
    "\n",
    "def plot_colored_horizontal_lines(col_dict1, col_dict2, line_height=1, label_offset=0.5, x_ticks_interval=None):\n",
    "    \"\"\"\n",
    "    Plot two colored horizontal lines with labels to the left of them.\n",
    "\n",
    "    :param col_dict1: Dictionary for the first line with keys as the end index of the color and values as the colors\n",
    "    :param col_dict2: Dictionary for the second line with keys as the end index of the color and values as the colors\n",
    "    :param line_height: Height of the lines\n",
    "    :param label_offset: Offset to control the distance between lines and labels\n",
    "    :param x_ticks_interval: Interval for x-axis ticks (set to None for automatic ticks)\n",
    "\n",
    "    Example:\n",
    "        col_dict1 = {15: 'blue', 20: 'red', 200: 'pink'}\n",
    "        col_dict2 = {10: 'green', 30: 'purple', 90: 'orange', 120: \"green\"}\n",
    "        plot_colored_horizontal_lines(col_dict1, col_dict2, line_height=1, label_offset=0.5, x_ticks_interval=50)\n",
    "    \"\"\"\n",
    "    line_width = 10\n",
    "\n",
    "    # Calculate figure height based on line_height and x_ticks_interval\n",
    "    figure_height = line_height * 1.25 if x_ticks_interval else line_height\n",
    "\n",
    "    # Create a figure and a set of subplots\n",
    "    fig, ax = plt.subplots(figsize=(line_width, figure_height))\n",
    "\n",
    "    # Initial start position for the first line\n",
    "    start1 = 0\n",
    "    for end, color in sorted(col_dict1.items()):\n",
    "        ax.plot([start1, end], [0, 0], color=color, lw=line_width, solid_capstyle='butt')\n",
    "        start1 = end\n",
    "\n",
    "    # Initial start position for the second line\n",
    "    start2 = 0\n",
    "    for end, color in sorted(col_dict2.items()):\n",
    "        ax.plot([start2, end], [-line_height, -line_height], color=color, lw=line_width, solid_capstyle='butt')\n",
    "        start2 = end\n",
    "\n",
    "    # Set the limits for the x-axis and y-axis\n",
    "    max_x = max(max(col_dict1.keys()), max(col_dict2.keys()))\n",
    "    ax.set_xlim(0, max_x)\n",
    "    ax.set_ylim(-2 * line_height, line_height)\n",
    "\n",
    "    # Remove the y-axis\n",
    "    ax.yaxis.set_visible(False)\n",
    "\n",
    "    # Remove the spines of the plot\n",
    "    for spine in ax.spines.values():\n",
    "        spine.set_visible(False)\n",
    "\n",
    "    # Add labels to the left of the lines with appropriate offset\n",
    "    ax.text(-label_offset, 0, \"Pred:\", va='center', ha='right', fontsize=12, color='black')\n",
    "    ax.text(-label_offset, -line_height, \"GT:\", va='center', ha='right', fontsize=12, color='black')\n",
    "\n",
    "    # Set x-axis ticks every x_ticks_interval units if specified\n",
    "    if x_ticks_interval is not None:\n",
    "        ax.set_xticks(range(0, int(max_x) + 1, x_ticks_interval))\n",
    "        ax.tick_params(axis='x', rotation=45)  # Rotate x-axis ticks by 45 degrees\n",
    "\n",
    "    # Show the plot\n",
    "    plt.tight_layout()\n",
    "    plt.show()\n",
    "\n",
    "\n",
    "def plot_colored_horizontal_lines2(col_dict1, col_dict2, line_height=1, label_offset=0.5, x_ticks_interval=None):\n",
    "    \"\"\"\n",
    "    Plot two colored horizontal lines with labels to the left of them.\n",
    "\n",
    "    :param col_dict1: Dictionary for the first line with keys as the end index of the color and values as the colors\n",
    "    :param col_dict2: Dictionary for the second line with keys as the end index of the color and values as the colors\n",
    "    :param line_height: Height of the lines\n",
    "    :param label_offset: Offset to control the distance between lines and labels\n",
    "    :param x_ticks_interval: Interval for x-axis ticks (set to None for automatic ticks)\n",
    "\n",
    "    Example:\n",
    "        col_dict1 = {15: 'blue', 20: 'red', 200: 'pink'}\n",
    "        col_dict2 = {10: 'green', 30: 'purple', 90: 'orange', 120: \"green\"}\n",
    "        plot_colored_horizontal_lines(col_dict1, col_dict2, line_height=1, label_offset=0.5, x_ticks_interval=50)\n",
    "    \"\"\"\n",
    "    line_width = 10\n",
    "\n",
    "    # Create a figure and a set of subplots\n",
    "    fig, ax = plt.subplots(figsize=(line_width, line_height))\n",
    "\n",
    "    # Initial start position for the first line\n",
    "    start1 = 0\n",
    "    for end, color in sorted(col_dict1.items()):\n",
    "        ax.plot([start1, end], [0, 0], color=color, lw=line_width, solid_capstyle='butt')\n",
    "        start1 = end\n",
    "\n",
    "    # Initial start position for the second line\n",
    "    start2 = 0\n",
    "    for end, color in sorted(col_dict2.items()):\n",
    "        ax.plot([start2, end], [-line_height, -line_height], color=color, lw=line_width, solid_capstyle='butt')\n",
    "        start2 = end\n",
    "\n",
    "    # Set the limits for the x-axis and y-axis\n",
    "    max_x = max(max(col_dict1.keys()), max(col_dict2.keys()))\n",
    "    ax.set_xlim(0, max_x)\n",
    "    ax.set_ylim(-2 * line_height, line_height)\n",
    "\n",
    "    # Remove the y-axis\n",
    "    ax.yaxis.set_visible(False)\n",
    "\n",
    "    # Remove the spines of the plot\n",
    "    for spine in ax.spines.values():\n",
    "        spine.set_visible(False)\n",
    "\n",
    "    # Add labels to the left of the lines with appropriate offset\n",
    "    ax.text(-label_offset, 0, \"Pred:\", va='center', ha='right', fontsize=12, color='black')\n",
    "    ax.text(-label_offset, -line_height, \"GT:\", va='center', ha='right', fontsize=12, color='black')\n",
    "\n",
    "    # Set x-axis ticks every x_ticks_interval units if specified\n",
    "    if x_ticks_interval is not None:\n",
    "        ax.set_xticks(range(0, int(max_x) + 1, x_ticks_interval))\n",
    "        ax.tick_params(axis='x', rotation=45)\n",
    "\n",
    "    # Show the plot\n",
    "    plt.tight_layout()\n",
    "    plt.show()\n",
    "\n",
    "from typing import List, Tuple\n",
    "def comparison_dicts(gt_transitions: List[tuple], max_len) -> Tuple[dict]:\n",
    "    \"\"\"\n",
    "    Args:\n",
    "        gt_transitions: List of tuples of ground truth transition frames in form [(start1, end1), (start2, end2) ...]\n",
    "    \"\"\"\n",
    "\n",
    "    def transition_to_dict(trns: List[Tuple[int, int]]) -> dict:\n",
    "        output_dict = {}\n",
    "        for bound in trns:\n",
    "            output_dict[bound[0]] = \"red\"\n",
    "            output_dict[bound[1]] = \"green\"\n",
    "        return output_dict\n",
    "    \n",
    "    trans_dict_gt = transition_to_dict(gt_transitions)\n",
    "    trans_dict_gt[max_len] = \"red\"  # need to make remaining frames without contact red\n",
    "    return trans_dict_gt\n",
    "\n",
    "\n",
    "def get_last_indices_of_consecutive_labels2(df, transformation_dict):\n",
    "    last_indices = {}\n",
    "    last_label = None\n",
    "\n",
    "    for index, row in df.iterrows():\n",
    "        current_label = row['contact_label_pred']\n",
    "        # If the current label is different from the last one, update the dictionary\n",
    "        if current_label != last_label:\n",
    "            if last_label is not None:  # to skip the very first label\n",
    "                # Transform the label using the transformation_dict\n",
    "                transformed_label = transformation_dict.get(last_label, last_label)\n",
    "                last_indices[last_index] = transformed_label\n",
    "            last_label = current_label\n",
    "        last_index = index  # keep track of the last index\n",
    "    \n",
    "    # Add the last label and index after the loop\n",
    "    # Transform the label using the transformation_dict\n",
    "    transformed_label = transformation_dict.get(current_label, current_label)\n",
    "    last_indices[last_index] = transformed_label\n",
    "\n",
    "    return last_indices\n",
    "\n",
    "def condense_dataframe(df):\n",
    "    \"\"\"\n",
    "    deals with duplicate images which have multiple contact states\n",
    "    \n",
    "    Condenses a pandas DataFrame by ensuring each 'image' entry is unique and retains\n",
    "    the most relevant 'contact_label_pred' based on a set priority.\n",
    "\n",
    "    The function operates under the rule that if multiple entries exist for the same 'image',\n",
    "    it prioritizes keeping the entry with 'contact_label_pred' as \"Portable Object Contact\" over\n",
    "    \"Stationary Object Contact\", and \"Stationary Object Contact\" over \"No Contact\". This is\n",
    "    done by sorting the DataFrame according to the 'image' and a custom priority assigned to\n",
    "    'contact_label_pred', then removing duplicate 'image' entries while keeping the entry with the\n",
    "    highest-priority 'contact_label_pred'.\n",
    "    \"\"\"\n",
    "    # Define a custom order for 'contact_label_pred'\n",
    "    priority = {\n",
    "        \"Portable Object Contact\": 1,\n",
    "        \"Stationary Object Contact\": 2,\n",
    "        \"No Contact\": 3\n",
    "    }\n",
    "\n",
    "    # Sort the DataFrame based on 'image' and the custom priority of 'contact_label_pred'\n",
    "    df['priority'] = df['contact_label_pred'].map(priority)\n",
    "    df = df.sort_values(by=['image', 'priority'])\n",
    "\n",
    "    # Drop the 'priority' column as it's no longer needed after sorting\n",
    "    df.drop('priority', axis=1, inplace=True)\n",
    "\n",
    "    # Remove duplicates, keeping the first occurrence\n",
    "    df = df.drop_duplicates(subset='image', keep='first')\n",
    "\n",
    "    return df.iloc[df['image'].map(lambda x: int(x.split('_')[0])).argsort()].reset_index(drop=True)"
   ]
  },
  {
   "cell_type": "code",
   "execution_count": 3,
   "metadata": {},
   "outputs": [
    {
     "name": "stderr",
     "output_type": "stream",
     "text": [
      "Processing Images: 100%|██████████| 4278/4278 [03:15<00:00, 21.83it/s]\n"
     ]
    }
   ],
   "source": [
    "sr2_pred = main(save_imgs=False, img_dir='/home/nripstein/Documents/thesis data/thesis labels/sr labels/sr2/sr2_shrunk')"
   ]
  },
  {
   "cell_type": "code",
   "execution_count": 4,
   "metadata": {},
   "outputs": [],
   "source": [
    "# sr2_pred = sr2_pred.iloc[sr2_pred['image'].map(lambda x: int(x.split('_')[0])).argsort()].reset_index(drop=True)\n",
    "sr2_pred_cond = condense_dataframe(sr2_pred)"
   ]
  },
  {
   "cell_type": "code",
   "execution_count": 5,
   "metadata": {},
   "outputs": [
    {
     "data": {
      "image/png": "[encoded data removed]",
      "text/plain": [
       "<Figure size 1000x125 with 1 Axes>"
      ]
     },
     "metadata": {},
     "output_type": "display_data"
    }
   ],
   "source": [
    "transformation_dict = {\"Portable Object Contact\": \"green\", \"Portable Object\": \"green\", \"Stationary Object Contact\": \"red\", \"No Contact\": \"yellow\", \"Self Contact\": \"red\"}\n",
    "sr2_pred_dict = get_last_indices_of_consecutive_labels2(sr2_pred_cond, transformation_dict)\n",
    "\n",
    "sr2_gt = [(156, 491), (850, 1364), (1775, 2127), (2537, 3036), (3612, 3972)]\n",
    "gt_dict = comparison_dicts(sr2_gt, max_len=len(sr2_pred_cond))\n",
    "\n",
    "plot_colored_horizontal_lines(sr2_pred_dict, gt_dict, x_ticks_interval=250)\n"
   ]
  },
  {
   "cell_type": "code",
   "execution_count": 3,
   "metadata": {},
   "outputs": [
    {
     "name": "stderr",
     "output_type": "stream",
     "text": [
      "Processing Images: 100%|██████████| 3851/3851 [02:55<00:00, 21.88it/s]\n"
     ]
    }
   ],
   "source": [
    "sv2_results = main(save_imgs=False, img_dir='/home/nripstein/Documents/thesis data/thesis labels/sv labels/sv2_frames/sv2_shrunk', blue_refine=False)"
   ]
  },
  {
   "cell_type": "code",
   "execution_count": 4,
   "metadata": {},
   "outputs": [],
   "source": [
    "sv2_results_cond = condense_dataframe(sv2_results)"
   ]
  },
  {
   "cell_type": "code",
   "execution_count": 6,
   "metadata": {},
   "outputs": [
    {
     "data": {
      "image/png": "[encoded data removed]",
      "text/plain": [
       "<Figure size 1000x125 with 1 Axes>"
      ]
     },
     "metadata": {},
     "output_type": "display_data"
    }
   ],
   "source": [
    "transformation_dict = {\"Portable Object Contact\": \"green\", \"Portable Object\": \"green\", \"Stationary Object Contact\": \"red\", \"No Contact\": \"yellow\", \"Self Contact\": \"red\"}\n",
    "sr2_pred_dict = get_last_indices_of_consecutive_labels2(sv2_results_cond, transformation_dict)\n",
    "\n",
    "sv2_gt = [(194, 554), (912, 1270), (1643, 2023), (2434, 2816), (3187, 3591)]\n",
    "gt_dict = comparison_dicts(sv2_gt, len(sv2_results_cond))\n",
    "\n",
    "plot_colored_horizontal_lines(sr2_pred_dict, gt_dict, x_ticks_interval=250)"
   ]
  },
  {
   "cell_type": "code",
   "execution_count": 23,
   "metadata": {},
   "outputs": [
    {
     "data": {
      "text/plain": [
       "{194: 'red',\n",
       " 554: 'green',\n",
       " 912: 'red',\n",
       " 1270: 'green',\n",
       " 1643: 'red',\n",
       " 2023: 'green',\n",
       " 2434: 'red',\n",
       " 2816: 'green',\n",
       " 3187: 'red',\n",
       " 3591: 'green',\n",
       " 3851: 'red'}"
      ]
     },
     "execution_count": 23,
     "metadata": {},
     "output_type": "execute_result"
    }
   ],
   "source": [
    "gt_dict = comparison_dicts(sv2_gt, len(sv2_results_cond))\n",
    "gt_dict"
   ]
  },
  {
   "cell_type": "code",
   "execution_count": 8,
   "metadata": {},
   "outputs": [
    {
     "name": "stderr",
     "output_type": "stream",
     "text": [
      "Processing Images: 100%|██████████| 3851/3851 [02:56<00:00, 21.88it/s]\n"
     ]
    },
    {
     "data": {
      "image/png": "[encoded data removed]",
      "text/plain": [
       "<Figure size 1000x125 with 1 Axes>"
      ]
     },
     "metadata": {},
     "output_type": "display_data"
    }
   ],
   "source": [
    "sv2_results = main(save_imgs=False, img_dir='/home/nripstein/Documents/thesis data/thesis labels/sv labels/sv2_frames/sv2_shrunk', blue_refine=True)\n",
    "sv2_results_cond = condense_dataframe(sv2_results)\n",
    "sr2_pred_dict = get_last_indices_of_consecutive_labels2(sv2_results_cond, transformation_dict)\n",
    "\n",
    "sv2_gt = [(194, 554), (912, 1270), (1643, 2023), (2434, 2816), (3187, 3591)]\n",
    "gt_dict = comparison_dicts(sv2_gt, len(sv2_results_cond))\n",
    "\n",
    "plot_colored_horizontal_lines(sr2_pred_dict, gt_dict, x_ticks_interval=250)\n",
    "\n",
    "# try blue refine. Should decrease false positives"
   ]
  },
  {
   "cell_type": "code",
   "execution_count": 22,
   "metadata": {},
   "outputs": [],
   "source": [
    "sv2_results_cond.to_csv(\"/home/nripstein/Documents/thesis data/thesis labels/sv labels/sv2_frames/sv2_pred.csv\", index=False)"
   ]
  },
  {
   "cell_type": "code",
   "execution_count": 14,
   "metadata": {},
   "outputs": [
    {
     "name": "stdout",
     "output_type": "stream",
     "text": [
      "[(194, 554), (912, 1270), (1643, 2023), (2434, 2816), (3187, 3591)]\n"
     ]
    }
   ],
   "source": [
    "import csv\n",
    "\n",
    "def csv_to_tuples(filename):\n",
    "    data = []\n",
    "    with open(filename, 'r') as csvfile:\n",
    "        reader = csv.reader(csvfile)\n",
    "        next(reader)  # Skip header row if it exists\n",
    "        for row in reader:\n",
    "            # Skip the first column and convert the rest to integers\n",
    "            holding_transitions, not_holding_transitions = map(int, row[1:])\n",
    "            data.append((holding_transitions, not_holding_transitions))\n",
    "    return data\n",
    "\n",
    "# Example usage:\n",
    "filename = '/home/nripstein/Documents/thesis data/thesis labels/sv labels/sv2_frames/changepoints.csv'\n",
    "result = csv_to_tuples(filename)\n",
    "print(result)"
   ]
  },
  {
   "cell_type": "markdown",
   "metadata": {},
   "source": [
    "# sv1:"
   ]
  },
  {
   "cell_type": "code",
   "execution_count": 13,
   "metadata": {},
   "outputs": [
    {
     "name": "stderr",
     "output_type": "stream",
     "text": [
      "Processing Images: 100%|██████████| 15244/15244 [11:28<00:00, 22.15it/s]\n"
     ]
    },
    {
     "ename": "NameError",
     "evalue": "name 'csv_to_tuples' is not defined",
     "output_type": "error",
     "traceback": [
      "\u001b[0;31m---------------------------------------------------------------------------\u001b[0m",
      "\u001b[0;31mNameError\u001b[0m                                 Traceback (most recent call last)",
      "Cell \u001b[0;32mIn[13], line 7\u001b[0m\n\u001b[1;32m      4\u001b[0m sv1_results_cond \u001b[38;5;241m=\u001b[39m condense_dataframe(sv1_results)\n\u001b[1;32m      5\u001b[0m sv1_pred_dict \u001b[38;5;241m=\u001b[39m get_last_indices_of_consecutive_labels2(sv1_results_cond, transformation_dict)\n\u001b[0;32m----> 7\u001b[0m sv1_gt \u001b[38;5;241m=\u001b[39m \u001b[43mcsv_to_tuples\u001b[49m(sv1_dir \u001b[38;5;241m+\u001b[39m \u001b[38;5;124m\"\u001b[39m\u001b[38;5;124mchangepoints.csv\u001b[39m\u001b[38;5;124m\"\u001b[39m)\n\u001b[1;32m      8\u001b[0m gt_dict \u001b[38;5;241m=\u001b[39m comparison_dicts(sv1_gt, \u001b[38;5;28mlen\u001b[39m(sv2_results_cond))\n\u001b[1;32m     10\u001b[0m plot_colored_horizontal_lines(sv1_pred_dict, gt_dict, x_ticks_interval\u001b[38;5;241m=\u001b[39m\u001b[38;5;241m250\u001b[39m)\n",
      "\u001b[0;31mNameError\u001b[0m: name 'csv_to_tuples' is not defined"
     ]
    }
   ],
   "source": [
    "sv1_dir = \"/home/nripstein/Documents/thesis data/thesis labels/sv labels/sv1_frames/\"\n",
    "\n",
    "sv1_results = main(save_imgs=False, img_dir=sv1_dir + 'sv1_shrunk', blue_refine=True)\n",
    "sv1_results_cond = condense_dataframe(sv1_results)\n",
    "sv1_pred_dict = get_last_indices_of_consecutive_labels2(sv1_results_cond, transformation_dict)"
   ]
  },
  {
   "cell_type": "code",
   "execution_count": 18,
   "metadata": {},
   "outputs": [
    {
     "data": {
      "image/png": "[encoded data removed]",
      "text/plain": [
       "<Figure size 1000x100 with 1 Axes>"
      ]
     },
     "metadata": {},
     "output_type": "display_data"
    }
   ],
   "source": [
    "\n",
    "\n",
    "sv1_gt = csv_to_tuples(sv1_dir + \"changepoints.csv\")\n",
    "gt_dict = comparison_dicts(sv1_gt, len(sv1_results_cond))\n",
    "\n",
    "plot_colored_horizontal_lines(sv1_pred_dict, gt_dict)"
   ]
  },
  {
   "cell_type": "markdown",
   "metadata": {},
   "source": [
    "# Functionize all"
   ]
  },
  {
   "cell_type": "code",
   "execution_count": null,
   "metadata": {},
   "outputs": [],
   "source": [
    "transformation_dict = {\"Portable Object Contact\": \"green\", \"Portable Object\": \"green\", \"Stationary Object Contact\": \"red\", \"No Contact\": \"yellow\", \"Self Contact\": \"red\"}\n",
    "\n",
    "def pred(dir: str, shrunk_add: str):\n",
    "    if dir[-1] != \"/\":\n",
    "        raise ValueError(\"NOAH! DIR NEEDS TO END IN /\")\n",
    "\n",
    "    raw_preds = main(save_imgs=False, img_dir=dir + shrunk_add, blue_refine=True)\n",
    "    preds_cond = condense_dataframe(raw_preds)\n",
    "    sv1_pred_dict = get_last_indices_of_consecutive_labels2(preds_cond, transformation_dict)\n",
    "\n",
    "\n",
    "    sv1_gt = csv_to_tuples(sv1_dir + \"changepoints.csv\")\n",
    "    gt_dict = comparison_dicts(sv1_gt, len(preds_cond))\n",
    "\n",
    "    plot_colored_horizontal_lines(sv1_pred_dict, gt_dict)"
   ]
  },
  {
   "cell_type": "markdown",
   "metadata": {},
   "source": [
    "# test on sr1"
   ]
  },
  {
   "cell_type": "code",
   "execution_count": 19,
   "metadata": {},
   "outputs": [
    {
     "name": "stderr",
     "output_type": "stream",
     "text": [
      "[autoreload of model.roi_layers.roi_align failed: Traceback (most recent call last):\n",
      "  File \"/home/nripstein/miniconda3/envs/shan_et_al2/lib/python3.8/site-packages/IPython/extensions/autoreload.py\", line 273, in check\n",
      "    superreload(m, reload, self.old_objects)\n",
      "  File \"/home/nripstein/miniconda3/envs/shan_et_al2/lib/python3.8/site-packages/IPython/extensions/autoreload.py\", line 496, in superreload\n",
      "    update_generic(old_obj, new_obj)\n",
      "  File \"/home/nripstein/miniconda3/envs/shan_et_al2/lib/python3.8/site-packages/IPython/extensions/autoreload.py\", line 393, in update_generic\n",
      "    update(a, b)\n",
      "  File \"/home/nripstein/miniconda3/envs/shan_et_al2/lib/python3.8/site-packages/IPython/extensions/autoreload.py\", line 345, in update_class\n",
      "    if update_generic(old_obj, new_obj):\n",
      "  File \"/home/nripstein/miniconda3/envs/shan_et_al2/lib/python3.8/site-packages/IPython/extensions/autoreload.py\", line 393, in update_generic\n",
      "    update(a, b)\n",
      "  File \"/home/nripstein/miniconda3/envs/shan_et_al2/lib/python3.8/site-packages/IPython/extensions/autoreload.py\", line 345, in update_class\n",
      "    if update_generic(old_obj, new_obj):\n",
      "  File \"/home/nripstein/miniconda3/envs/shan_et_al2/lib/python3.8/site-packages/IPython/extensions/autoreload.py\", line 393, in update_generic\n",
      "    update(a, b)\n",
      "  File \"/home/nripstein/miniconda3/envs/shan_et_al2/lib/python3.8/site-packages/IPython/extensions/autoreload.py\", line 345, in update_class\n",
      "    if update_generic(old_obj, new_obj):\n",
      "  File \"/home/nripstein/miniconda3/envs/shan_et_al2/lib/python3.8/site-packages/IPython/extensions/autoreload.py\", line 393, in update_generic\n",
      "    update(a, b)\n",
      "  File \"/home/nripstein/miniconda3/envs/shan_et_al2/lib/python3.8/site-packages/IPython/extensions/autoreload.py\", line 345, in update_class\n",
      "    if update_generic(old_obj, new_obj):\n",
      "RecursionError: maximum recursion depth exceeded while calling a Python object\n",
      "]\n",
      "[autoreload of model.roi_layers.roi_pool failed: Traceback (most recent call last):\n",
      "  File \"/home/nripstein/miniconda3/envs/shan_et_al2/lib/python3.8/site-packages/IPython/extensions/autoreload.py\", line 273, in check\n",
      "    superreload(m, reload, self.old_objects)\n",
      "  File \"/home/nripstein/miniconda3/envs/shan_et_al2/lib/python3.8/site-packages/IPython/extensions/autoreload.py\", line 496, in superreload\n",
      "    update_generic(old_obj, new_obj)\n",
      "  File \"/home/nripstein/miniconda3/envs/shan_et_al2/lib/python3.8/site-packages/IPython/extensions/autoreload.py\", line 393, in update_generic\n",
      "    update(a, b)\n",
      "  File \"/home/nripstein/miniconda3/envs/shan_et_al2/lib/python3.8/site-packages/IPython/extensions/autoreload.py\", line 345, in update_class\n",
      "    if update_generic(old_obj, new_obj):\n",
      "  File \"/home/nripstein/miniconda3/envs/shan_et_al2/lib/python3.8/site-packages/IPython/extensions/autoreload.py\", line 393, in update_generic\n",
      "    update(a, b)\n",
      "  File \"/home/nripstein/miniconda3/envs/shan_et_al2/lib/python3.8/site-packages/IPython/extensions/autoreload.py\", line 345, in update_class\n",
      "    if update_generic(old_obj, new_obj):\n",
      "  File \"/home/nripstein/miniconda3/envs/shan_et_al2/lib/python3.8/site-packages/IPython/extensions/autoreload.py\", line 393, in update_generic\n",
      "    update(a, b)\n",
      "  File \"/home/nripstein/miniconda3/envs/shan_et_al2/lib/python3.8/site-packages/IPython/extensions/autoreload.py\", line 345, in update_class\n",
      "    if update_generic(old_obj, new_obj):\n",
      "  File \"/home/nripstein/miniconda3/envs/shan_et_al2/lib/python3.8/site-packages/IPython/extensions/autoreload.py\", line 393, in update_generic\n",
      "    update(a, b)\n",
      "  File \"/home/nripstein/miniconda3/envs/shan_et_al2/lib/python3.8/site-packages/IPython/extensions/autoreload.py\", line 345, in update_class\n",
      "    if update_generic(old_obj, new_obj):\n",
      "RecursionError: maximum recursion depth exceeded while calling a Python object\n",
      "]\n",
      "Processing Images: 100%|██████████| 15432/15432 [11:42<00:00, 21.98it/s]\n"
     ]
    },
    {
     "data": {
      "image/png": "[encoded data removed]",
      "text/plain": [
       "<Figure size 1000x100 with 1 Axes>"
      ]
     },
     "metadata": {},
     "output_type": "display_data"
    }
   ],
   "source": [
    "sv1_dir = \"/home/nripstein/Documents/thesis data/thesis labels/sr labels/sr1/\"\n",
    "\n",
    "sr1_results = main(save_imgs=False, img_dir=sv1_dir + 'sr1_shrunk', blue_refine=True)\n",
    "sr1_results_cond = condense_dataframe(sr1_results)\n",
    "sr1_pred_dict = get_last_indices_of_consecutive_labels2(sr1_results_cond, transformation_dict)\n",
    "\n",
    "sv1_gt = csv_to_tuples(sv1_dir + \"changepoints.csv\")\n",
    "gt_dict = comparison_dicts(sv1_gt, len(sr1_results_cond))\n",
    "\n",
    "plot_colored_horizontal_lines(sr1_pred_dict, gt_dict)"
   ]
  },
  {
   "cell_type": "code",
   "execution_count": 20,
   "metadata": {},
   "outputs": [
    {
     "name": "stderr",
     "output_type": "stream",
     "text": [
      "Processing Images: 100%|██████████| 15432/15432 [19:23<00:00, 13.27it/s]\n"
     ]
    },
    {
     "data": {
      "image/png": "[encoded data removed]",
      "text/plain": [
       "<Figure size 1000x100 with 1 Axes>"
      ]
     },
     "metadata": {},
     "output_type": "display_data"
    }
   ],
   "source": [
    "sv1_dir = \"/home/nripstein/Documents/thesis data/thesis labels/sr labels/sr1/\"\n",
    "\n",
    "sr1_results = main(save_imgs=True, img_dir=sv1_dir + 'sr1_shrunk', blue_refine=True)\n",
    "sr1_results_cond = condense_dataframe(sr1_results)\n",
    "sr1_pred_dict = get_last_indices_of_consecutive_labels2(sr1_results_cond, transformation_dict)\n",
    "\n",
    "sv1_gt = csv_to_tuples(sv1_dir + \"changepoints.csv\")\n",
    "gt_dict = comparison_dicts(sv1_gt, len(sr1_results_cond))\n",
    "\n",
    "plot_colored_horizontal_lines(sr1_pred_dict, gt_dict)"
   ]
  }
 ],
 "metadata": {
  "kernelspec": {
   "display_name": "shan_et_al2",
   "language": "python",
   "name": "python3"
  },
  "language_info": {
   "codemirror_mode": {
    "name": "ipython",
    "version": 3
   },
   "file_extension": ".py",
   "mimetype": "text/x-python",
   "name": "python",
   "nbconvert_exporter": "python",
   "pygments_lexer": "ipython3",
   "version": "3.8.18"
  }
 },
 "nbformat": 4,
 "nbformat_minor": 2
}
