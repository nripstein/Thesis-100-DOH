{
 "cells": [
  {
   "cell_type": "code",
   "execution_count": 1,
   "metadata": {},
   "outputs": [
    {
     "name": "stderr",
     "output_type": "stream",
     "text": [
      "/home/nripstein/miniconda3/envs/shan_et_al2/lib/python3.8/site-packages/tqdm/auto.py:21: TqdmWarning: IProgress not found. Please update jupyter and ipywidgets. See https://ipywidgets.readthedocs.io/en/stable/user_install.html\n",
      "  from .autonotebook import tqdm as notebook_tqdm\n"
     ]
    }
   ],
   "source": [
    "from my_demo_fn import main\n",
    "import numpy as np\n",
    "import matplotlib.pyplot as plt\n",
    "import pandas as pd\n",
    "from tqdm import tqdm\n",
    "from typing import List, Tuple\n",
    "\n",
    "%load_ext autoreload\n",
    "%autoreload 2"
   ]
  },
  {
   "cell_type": "code",
   "execution_count": 2,
   "metadata": {},
   "outputs": [],
   "source": [
    "def get_last_indices_of_consecutive_labels(df):\n",
    "    last_indices = {}\n",
    "    last_label = None\n",
    "\n",
    "    for index, row in df.iterrows():\n",
    "        current_label = row['contact_label']\n",
    "        # If the current label is different from the last one, update the dictionary\n",
    "        if current_label != last_label:\n",
    "            if last_label is not None:  # to skip the very first label\n",
    "                last_indices[last_index] = last_label\n",
    "            last_label = current_label\n",
    "        last_index = index  # keep track of the last index\n",
    "    \n",
    "    # Add the last label and index after the loop\n",
    "    last_indices[last_index] = current_label\n",
    "\n",
    "    return last_indices\n",
    "\n",
    "\n",
    "def plot_colored_horizontal_lines(col_dict1, col_dict2, line_height=1, label_offset=0.5, x_ticks_interval=None):\n",
    "    \"\"\"\n",
    "    Plot two colored horizontal lines with labels to the left of them.\n",
    "\n",
    "    :param col_dict1: Dictionary for the first line with keys as the end index of the color and values as the colors\n",
    "    :param col_dict2: Dictionary for the second line with keys as the end index of the color and values as the colors\n",
    "    :param line_height: Height of the lines\n",
    "    :param label_offset: Offset to control the distance between lines and labels\n",
    "    :param x_ticks_interval: Interval for x-axis ticks (set to None for automatic ticks)\n",
    "\n",
    "    Example:\n",
    "        col_dict1 = {15: 'blue', 20: 'red', 200: 'pink'}\n",
    "        col_dict2 = {10: 'green', 30: 'purple', 90: 'orange', 120: \"green\"}\n",
    "        plot_colored_horizontal_lines(col_dict1, col_dict2, line_height=1, label_offset=0.5, x_ticks_interval=50)\n",
    "    \"\"\"\n",
    "    line_width = 10\n",
    "\n",
    "    # Calculate figure height based on line_height and x_ticks_interval\n",
    "    figure_height = line_height * 1.25 if x_ticks_interval else line_height\n",
    "\n",
    "    # Create a figure and a set of subplots\n",
    "    fig, ax = plt.subplots(figsize=(line_width, figure_height))\n",
    "\n",
    "    # Initial start position for the first line\n",
    "    start1 = 0\n",
    "    for end, color in sorted(col_dict1.items()):\n",
    "        ax.plot([start1, end], [0, 0], color=color, lw=line_width, solid_capstyle='butt')\n",
    "        start1 = end\n",
    "\n",
    "    # Initial start position for the second line\n",
    "    start2 = 0\n",
    "    for end, color in sorted(col_dict2.items()):\n",
    "        ax.plot([start2, end], [-line_height, -line_height], color=color, lw=line_width, solid_capstyle='butt')\n",
    "        start2 = end\n",
    "\n",
    "    # Set the limits for the x-axis and y-axis\n",
    "    max_x = max(max(col_dict1.keys()), max(col_dict2.keys()))\n",
    "    ax.set_xlim(0, max_x)\n",
    "    ax.set_ylim(-2 * line_height, line_height)\n",
    "\n",
    "    # Remove the y-axis\n",
    "    ax.yaxis.set_visible(False)\n",
    "\n",
    "    # Remove the spines of the plot\n",
    "    for spine in ax.spines.values():\n",
    "        spine.set_visible(False)\n",
    "\n",
    "    # Add labels to the left of the lines with appropriate offset\n",
    "    ax.text(-label_offset, 0, \"Pred:\", va='center', ha='right', fontsize=12, color='black')\n",
    "    ax.text(-label_offset, -line_height, \"GT:\", va='center', ha='right', fontsize=12, color='black')\n",
    "\n",
    "    # Set x-axis ticks every x_ticks_interval units if specified\n",
    "    if x_ticks_interval is not None:\n",
    "        ax.set_xticks(range(0, int(max_x) + 1, x_ticks_interval))\n",
    "        ax.tick_params(axis='x', rotation=45)  # Rotate x-axis ticks by 45 degrees\n",
    "\n",
    "    # Show the plot\n",
    "    plt.tight_layout()\n",
    "    plt.show()\n",
    "\n",
    "\n",
    "def plot_colored_horizontal_lines2(col_dict1, col_dict2, line_height=1, label_offset=0.5, x_ticks_interval=None):\n",
    "    \"\"\"\n",
    "    Plot two colored horizontal lines with labels to the left of them.\n",
    "\n",
    "    :param col_dict1: Dictionary for the first line with keys as the end index of the color and values as the colors\n",
    "    :param col_dict2: Dictionary for the second line with keys as the end index of the color and values as the colors\n",
    "    :param line_height: Height of the lines\n",
    "    :param label_offset: Offset to control the distance between lines and labels\n",
    "    :param x_ticks_interval: Interval for x-axis ticks (set to None for automatic ticks)\n",
    "\n",
    "    Example:\n",
    "        col_dict1 = {15: 'blue', 20: 'red', 200: 'pink'}\n",
    "        col_dict2 = {10: 'green', 30: 'purple', 90: 'orange', 120: \"green\"}\n",
    "        plot_colored_horizontal_lines(col_dict1, col_dict2, line_height=1, label_offset=0.5, x_ticks_interval=50)\n",
    "    \"\"\"\n",
    "    line_width = 10\n",
    "\n",
    "    # Create a figure and a set of subplots\n",
    "    fig, ax = plt.subplots(figsize=(line_width, line_height))\n",
    "\n",
    "    # Initial start position for the first line\n",
    "    start1 = 0\n",
    "    for end, color in sorted(col_dict1.items()):\n",
    "        ax.plot([start1, end], [0, 0], color=color, lw=line_width, solid_capstyle='butt')\n",
    "        start1 = end\n",
    "\n",
    "    # Initial start position for the second line\n",
    "    start2 = 0\n",
    "    for end, color in sorted(col_dict2.items()):\n",
    "        ax.plot([start2, end], [-line_height, -line_height], color=color, lw=line_width, solid_capstyle='butt')\n",
    "        start2 = end\n",
    "\n",
    "    # Set the limits for the x-axis and y-axis\n",
    "    max_x = max(max(col_dict1.keys()), max(col_dict2.keys()))\n",
    "    ax.set_xlim(0, max_x)\n",
    "    ax.set_ylim(-2 * line_height, line_height)\n",
    "\n",
    "    # Remove the y-axis\n",
    "    ax.yaxis.set_visible(False)\n",
    "\n",
    "    # Remove the spines of the plot\n",
    "    for spine in ax.spines.values():\n",
    "        spine.set_visible(False)\n",
    "\n",
    "    # Add labels to the left of the lines with appropriate offset\n",
    "    ax.text(-label_offset, 0, \"Pred:\", va='center', ha='right', fontsize=12, color='black')\n",
    "    ax.text(-label_offset, -line_height, \"GT:\", va='center', ha='right', fontsize=12, color='black')\n",
    "\n",
    "    # Set x-axis ticks every x_ticks_interval units if specified\n",
    "    if x_ticks_interval is not None:\n",
    "        ax.set_xticks(range(0, int(max_x) + 1, x_ticks_interval))\n",
    "        ax.tick_params(axis='x', rotation=45)\n",
    "\n",
    "    # Show the plot\n",
    "    plt.tight_layout()\n",
    "    plt.show()\n",
    "\n",
    "def comparison_dicts(gt_transitions: List[tuple], max_len) -> Tuple[dict]:\n",
    "    \"\"\"\n",
    "    Args:\n",
    "        gt_transitions: List of tuples of ground truth transition frames in form [(start1, end1), (start2, end2) ...]\n",
    "    \"\"\"\n",
    "\n",
    "    def transition_to_dict(trns: List[Tuple[int, int]]) -> dict:\n",
    "        output_dict = {}\n",
    "        for bound in trns:\n",
    "            output_dict[bound[0]] = \"red\"\n",
    "            output_dict[bound[1]] = \"green\"\n",
    "        return output_dict\n",
    "    \n",
    "    trans_dict_gt = transition_to_dict(gt_transitions)\n",
    "    trans_dict_gt[max_len] = \"red\"  # need to make remaining frames without contact red\n",
    "    return trans_dict_gt\n",
    "\n",
    "\n",
    "def get_last_indices_of_consecutive_labels2(df, transformation_dict):\n",
    "    last_indices = {}\n",
    "    last_label = None\n",
    "\n",
    "    for index, row in df.iterrows():\n",
    "        current_label = row['contact_label_pred']\n",
    "        # If the current label is different from the last one, update the dictionary\n",
    "        if current_label != last_label:\n",
    "            if last_label is not None:  # to skip the very first label\n",
    "                # Transform the label using the transformation_dict\n",
    "                transformed_label = transformation_dict.get(last_label, last_label)\n",
    "                last_indices[last_index] = transformed_label\n",
    "            last_label = current_label\n",
    "        last_index = index  # keep track of the last index\n",
    "    \n",
    "    # Add the last label and index after the loop\n",
    "    # Transform the label using the transformation_dict\n",
    "    transformed_label = transformation_dict.get(current_label, current_label)\n",
    "    last_indices[last_index] = transformed_label\n",
    "\n",
    "    return last_indices\n",
    "\n",
    "def condense_dataframe(df):\n",
    "    \"\"\"\n",
    "    deals with duplicate images which have multiple contact states\n",
    "    \n",
    "    Condenses a pandas DataFrame by ensuring each 'image' entry is unique and retains\n",
    "    the most relevant 'contact_label_pred' based on a set priority.\n",
    "\n",
    "    The function operates under the rule that if multiple entries exist for the same 'image',\n",
    "    it prioritizes keeping the entry with 'contact_label_pred' as \"Portable Object Contact\" over\n",
    "    \"Stationary Object Contact\", and \"Stationary Object Contact\" over \"No Contact\". This is\n",
    "    done by sorting the DataFrame according to the 'image' and a custom priority assigned to\n",
    "    'contact_label_pred', then removing duplicate 'image' entries while keeping the entry with the\n",
    "    highest-priority 'contact_label_pred'.\n",
    "    \"\"\"\n",
    "    # Define a custom order for 'contact_label_pred'\n",
    "    priority = {\n",
    "        \"Portable Object\": 1,\n",
    "        \"Portable Object Contact\": 1,\n",
    "        \"Stationary Object Contact\": 2,\n",
    "        \"No Contact\": 3\n",
    "    }\n",
    "\n",
    "    # Sort the DataFrame based on 'image' and the custom priority of 'contact_label_pred'\n",
    "\n",
    "    df['priority'] = df['contact_label_pred'].map(priority)\n",
    "\n",
    "    df = df.sort_values(by=['frame_id', 'priority'])\n",
    "\n",
    "    # Drop the 'priority' column as it's no longer needed after sorting\n",
    "    df.drop('priority', axis=1, inplace=True)\n",
    "\n",
    "    # Remove duplicates, keeping the first occurrence\n",
    "    df = df.drop_duplicates(subset='frame_id', keep='first')\n",
    "\n",
    "    return df.iloc[df['frame_id'].map(lambda x: int(x.split('_')[0])).argsort()].reset_index(drop=True)\n",
    "\n",
    "def condense_dataframe_hacky_temp(df):\n",
    "    \"\"\"\n",
    "    deals with duplicate images which have multiple contact states\n",
    "    \n",
    "    Condenses a pandas DataFrame by ensuring each 'image' entry is unique and retains\n",
    "    the most relevant 'contact_label_pred' based on a set priority.\n",
    "\n",
    "    The function operates under the rule that if multiple entries exist for the same 'image',\n",
    "    it prioritizes keeping the entry with 'contact_label_pred' as \"Portable Object Contact\" over\n",
    "    \"Stationary Object Contact\", and \"Stationary Object Contact\" over \"No Contact\". This is\n",
    "    done by sorting the DataFrame according to the 'image' and a custom priority assigned to\n",
    "    'contact_label_pred', then removing duplicate 'image' entries while keeping the entry with the\n",
    "    highest-priority 'contact_label_pred'.\n",
    "    \"\"\"\n",
    "    # Define a custom order for 'contact_label_pred'\n",
    "    priority = {\n",
    "        \"Portable Object\": 1,\n",
    "        \"Portable Object Contact\": 1,\n",
    "        \"Stationary Object Contact\": 2,\n",
    "        \"No Contact\": 3\n",
    "    }\n",
    "\n",
    "    # Sort the DataFrame based on 'image' and the custom priority of 'contact_label_pred'\n",
    "    # TEMP UGLY FIX:\n",
    "    print(\"here1\")\n",
    "    if \"contact_label_pred\" not in df.columns:\n",
    "        df = df.rename(columns={'contact_label': 'contact_label_pred'})\n",
    "    df['priority'] = df['contact_label_pred'].map(priority)\n",
    "\n",
    "    print(\"here2\")\n",
    "    frame_id_name = \"image\" if \"frame_id\" not in df.columns else \"frame_id\"\n",
    "    df = df.sort_values(by=[frame_id_name, 'priority'])\n",
    "\n",
    "    # Drop the 'priority' column as it's no longer needed after sorting\n",
    "    df.drop('priority', axis=1, inplace=True)\n",
    "\n",
    "    # Remove duplicates, keeping the first occurrence\n",
    "    df = df.drop_duplicates(subset=frame_id_name, keep='first')\n",
    "\n",
    "    return df.iloc[df[frame_id_name].map(lambda x: int(x.split('_')[0])).argsort()].reset_index(drop=True)\n",
    "\n",
    "def condense_dataframe_new(df):\n",
    "    \"\"\"\n",
    "    deals with duplicate images which have multiple contact states\n",
    "    \n",
    "    Condenses a pandas DataFrame by ensuring each 'image' entry is unique and retains\n",
    "    the most relevant 'contact_label' based on a set priority.\n",
    "\n",
    "    The function operates under the rule that if multiple entries exist for the same 'image',\n",
    "    it prioritizes keeping the entry with 'contact_label' as \"Portable Object Contact\" over\n",
    "    \"Stationary Object Contact\", and \"Stationary Object Contact\" over \"No Contact\". This is\n",
    "    done by sorting the DataFrame according to the 'image' and a custom priority assigned to\n",
    "    'contact_label', then removing duplicate 'image' entries while keeping the entry with the\n",
    "    highest-priority 'contact_label'.\n",
    "    \"\"\"\n",
    "    # Define a custom order for 'contact_label'\n",
    "    priority = {\n",
    "        \"Portable Object Contact\": 1,\n",
    "        \"Stationary Object Contact\": 2,\n",
    "        \"No Contact\": 3\n",
    "    }\n",
    "\n",
    "    # Sort the DataFrame based on 'image' and the custom priority of 'contact_label'\n",
    "    df['priority'] = df['contact_label_pred'].map(priority)\n",
    "    df = df.sort_values(by=['frame_id', 'priority'])\n",
    "\n",
    "    # Drop the 'priority' column as it's no longer needed after sorting\n",
    "    df.drop('priority', axis=1, inplace=True)\n",
    "\n",
    "    # Remove duplicates, keeping the first occurrence\n",
    "    df = df.drop_duplicates(subset='frame_id', keep='first')\n",
    "\n",
    "    return df.iloc[df['frame_id'].map(lambda x: int(x.split('_')[0])).argsort()].reset_index(drop=True)\n",
    "\n",
    "def get_last_indices_of_consecutive_labels2_new(df, transformation_dict):\n",
    "    last_indices = {}\n",
    "    last_label = None\n",
    "\n",
    "    for index, row in df.iterrows():\n",
    "        current_label = row['contact_label_pred']\n",
    "        # If the current label is different from the last one, update the dictionary\n",
    "        if current_label != last_label:\n",
    "            if last_label is not None:  # to skip the very first label\n",
    "                # Transform the label using the transformation_dict\n",
    "                transformed_label = transformation_dict.get(last_label, last_label)\n",
    "                last_indices[last_index] = transformed_label\n",
    "            last_label = current_label\n",
    "        last_index = index  # keep track of the last index\n",
    "    \n",
    "    # Add the last label and index after the loop\n",
    "    # Transform the label using the transformation_dict\n",
    "    transformed_label = transformation_dict.get(current_label, current_label)\n",
    "    last_indices[last_index] = transformed_label\n",
    "\n",
    "    return last_indices\n",
    "\n",
    "transformation_dict = {\"Portable Object Contact\": \"green\", \"Portable Object\": \"green\", \"Stationary Object Contact\": \"red\", \"No Contact\": \"yellow\", \"Self Contact\": \"red\"}"
   ]
  },
  {
   "cell_type": "code",
   "execution_count": 3,
   "metadata": {},
   "outputs": [
    {
     "name": "stderr",
     "output_type": "stream",
     "text": [
      "Processing Images:  60%|█████▉    | 2564/4278 [01:57<01:18, 21.77it/s]"
     ]
    },
    {
     "ename": "KeyboardInterrupt",
     "evalue": "",
     "output_type": "error",
     "traceback": [
      "\u001b[0;31m---------------------------------------------------------------------------\u001b[0m",
      "\u001b[0;31mKeyboardInterrupt\u001b[0m                         Traceback (most recent call last)",
      "Cell \u001b[0;32mIn[3], line 1\u001b[0m\n\u001b[0;32m----> 1\u001b[0m sr2_pred \u001b[38;5;241m=\u001b[39m \u001b[43mmain\u001b[49m\u001b[43m(\u001b[49m\u001b[43msave_imgs\u001b[49m\u001b[38;5;241;43m=\u001b[39;49m\u001b[38;5;28;43;01mFalse\u001b[39;49;00m\u001b[43m,\u001b[49m\u001b[43m \u001b[49m\u001b[43mimg_dir\u001b[49m\u001b[38;5;241;43m=\u001b[39;49m\u001b[38;5;124;43m'\u001b[39;49m\u001b[38;5;124;43m/home/nripstein/Documents/thesis data/thesis labels/sr labels/sr2/sr2_shrunk\u001b[39;49m\u001b[38;5;124;43m'\u001b[39;49m\u001b[43m)\u001b[49m\n",
      "File \u001b[0;32m~/code/thesis git clones/hand_object_detector/my_demo_fn.py:836\u001b[0m, in \u001b[0;36mmain\u001b[0;34m(verbose, save_imgs, img_dir, blue_refine)\u001b[0m\n\u001b[1;32m    834\u001b[0m \u001b[38;5;28;01melse\u001b[39;00m:\n\u001b[1;32m    835\u001b[0m     \u001b[38;5;28;01mif\u001b[39;00m args\u001b[38;5;241m.\u001b[39mcuda \u001b[38;5;241m>\u001b[39m \u001b[38;5;241m0\u001b[39m:\n\u001b[0;32m--> 836\u001b[0m         box_deltas \u001b[38;5;241m=\u001b[39m box_deltas\u001b[38;5;241m.\u001b[39mview(\u001b[38;5;241m-\u001b[39m\u001b[38;5;241m1\u001b[39m, \u001b[38;5;241m4\u001b[39m) \u001b[38;5;241m*\u001b[39m \u001b[43mtorch\u001b[49m\u001b[38;5;241;43m.\u001b[39;49m\u001b[43mFloatTensor\u001b[49m\u001b[43m(\u001b[49m\u001b[43mcfg\u001b[49m\u001b[38;5;241;43m.\u001b[39;49m\u001b[43mTRAIN\u001b[49m\u001b[38;5;241;43m.\u001b[39;49m\u001b[43mBBOX_NORMALIZE_STDS\u001b[49m\u001b[43m)\u001b[49m\u001b[38;5;241;43m.\u001b[39;49m\u001b[43mcuda\u001b[49m\u001b[43m(\u001b[49m\n\u001b[1;32m    837\u001b[0m \u001b[43m        \u001b[49m\u001b[43m)\u001b[49m \u001b[38;5;241m+\u001b[39m torch\u001b[38;5;241m.\u001b[39mFloatTensor(cfg\u001b[38;5;241m.\u001b[39mTRAIN\u001b[38;5;241m.\u001b[39mBBOX_NORMALIZE_MEANS)\u001b[38;5;241m.\u001b[39mcuda()\n\u001b[1;32m    838\u001b[0m     \u001b[38;5;28;01melse\u001b[39;00m:\n\u001b[1;32m    839\u001b[0m         box_deltas \u001b[38;5;241m=\u001b[39m box_deltas\u001b[38;5;241m.\u001b[39mview(\u001b[38;5;241m-\u001b[39m\u001b[38;5;241m1\u001b[39m, \u001b[38;5;241m4\u001b[39m) \u001b[38;5;241m*\u001b[39m torch\u001b[38;5;241m.\u001b[39mFloatTensor(\n\u001b[1;32m    840\u001b[0m             cfg\u001b[38;5;241m.\u001b[39mTRAIN\u001b[38;5;241m.\u001b[39mBBOX_NORMALIZE_STDS) \u001b[38;5;241m+\u001b[39m torch\u001b[38;5;241m.\u001b[39mFloatTensor(cfg\u001b[38;5;241m.\u001b[39mTRAIN\u001b[38;5;241m.\u001b[39mBBOX_NORMALIZE_MEANS)\n",
      "\u001b[0;31mKeyboardInterrupt\u001b[0m: "
     ]
    }
   ],
   "source": [
    "sr2_pred = main(save_imgs=False, img_dir='/home/nripstein/Documents/thesis data/thesis labels/sr labels/sr2/sr2_shrunk')"
   ]
  },
  {
   "cell_type": "code",
   "execution_count": 29,
   "metadata": {},
   "outputs": [],
   "source": [
    "# sr2_pred = sr2_pred.iloc[sr2_pred['image'].map(lambda x: int(x.split('_')[0])).argsort()].reset_index(drop=True)\n",
    "sr2_pred_cond = condense_dataframe(sr2_pred)\n",
    "sr2_pred_cond.to_csv(\"/home/nripstein/Documents/thesis data/thesis labels/sr labels/sr2/sr2_pred_con1.csv\", index=False)"
   ]
  },
  {
   "cell_type": "code",
   "execution_count": 5,
   "metadata": {},
   "outputs": [
    {
     "data": {
      "image/png": "[encoded data removed]",
      "text/plain": [
       "<Figure size 1000x125 with 1 Axes>"
      ]
     },
     "metadata": {},
     "output_type": "display_data"
    }
   ],
   "source": [
    "transformation_dict = {\"Portable Object Contact\": \"green\", \"Portable Object\": \"green\", \"Stationary Object Contact\": \"red\", \"No Contact\": \"yellow\", \"Self Contact\": \"red\"}\n",
    "sr2_pred_dict = get_last_indices_of_consecutive_labels2(sr2_pred_cond, transformation_dict)\n",
    "\n",
    "sr2_gt = [(156, 491), (850, 1364), (1775, 2127), (2537, 3036), (3612, 3972)]\n",
    "gt_dict = comparison_dicts(sr2_gt, max_len=len(sr2_pred_cond))\n",
    "\n",
    "plot_colored_horizontal_lines(sr2_pred_dict, gt_dict, x_ticks_interval=250)\n"
   ]
  },
  {
   "cell_type": "markdown",
   "metadata": {},
   "source": [
    "# WAIT WHAT START"
   ]
  },
  {
   "cell_type": "code",
   "execution_count": null,
   "metadata": {},
   "outputs": [
    {
     "data": {
      "image/png": "[encoded data removed]",
      "text/plain": [
       "<Figure size 1000x125 with 1 Axes>"
      ]
     },
     "metadata": {},
     "output_type": "display_data"
    }
   ],
   "source": [
    "def condense_dataframe2(df):\n",
    "    \"\"\"\n",
    "    deals with duplicate images which have multiple contact states\n",
    "    \n",
    "    Condenses a pandas DataFrame by ensuring each 'image' entry is unique and retains\n",
    "    the most relevant 'contact_label_pred' based on a set priority.\n",
    "\n",
    "    The function operates under the rule that if multiple entries exist for the same 'image',\n",
    "    it prioritizes keeping the entry with 'contact_label_pred' as \"Portable Object Contact\" over\n",
    "    \"Stationary Object Contact\", and \"Stationary Object Contact\" over \"No Contact\". This is\n",
    "    done by sorting the DataFrame according to the 'image' and a custom priority assigned to\n",
    "    'contact_label_pred', then removing duplicate 'image' entries while keeping the entry with the\n",
    "    highest-priority 'contact_label_pred'.\n",
    "    \"\"\"\n",
    "    # Define a custom order for 'contact_label_pred'\n",
    "    priority = {\n",
    "        \"Portable Object\": 3,\n",
    "        # \"Portable Object Contact\": 2,\n",
    "        \"Stationary Object Contact\": 1,\n",
    "        \"No Contact\": 2\n",
    "    }\n",
    "\n",
    "    # Sort the DataFrame based on 'image' and the custom priority of 'contact_label_pred'\n",
    "    df['priority'] = df['contact_label_pred'].map(priority)\n",
    "    df = df.sort_values(by=['frame_id', 'priority'])\n",
    "\n",
    "    # Drop the 'priority' column as it's no longer needed after sorting\n",
    "    df.drop('priority', axis=1, inplace=True)\n",
    "\n",
    "    # Remove duplicates, keeping the first occurrence\n",
    "    df = df.drop_duplicates(subset='frame_id', keep='first')\n",
    "\n",
    "    return df.iloc[df['frame_id'].map(lambda x: int(x.split('_')[0])).argsort()].reset_index(drop=True)\n",
    "\n",
    "sr2_pred_cond = condense_dataframe(sr2_pred)\n",
    "transformation_dict = {\"Portable Object Contact\": \"green\", \"Portable Object\": \"green\", \"Stationary Object Contact\": \"red\", \"No Contact\": \"yellow\", \"Self Contact\": \"red\"}\n",
    "sr2_pred_dict = get_last_indices_of_consecutive_labels2(sr2_pred_cond, transformation_dict)\n",
    "\n",
    "sr2_gt = [(156, 491), (850, 1364), (1775, 2127), (2537, 3036), (3612, 3972)]\n",
    "gt_dict = comparison_dicts(sr2_gt, max_len=len(sr2_pred_cond))\n",
    "\n",
    "plot_colored_horizontal_lines(sr2_pred_dict, gt_dict, x_ticks_interval=250)"
   ]
  },
  {
   "cell_type": "code",
   "execution_count": 33,
   "metadata": {},
   "outputs": [
    {
     "data": {
      "text/html": [
       "<div>\n",
       "<style scoped>\n",
       "    .dataframe tbody tr th:only-of-type {\n",
       "        vertical-align: middle;\n",
       "    }\n",
       "\n",
       "    .dataframe tbody tr th {\n",
       "        vertical-align: top;\n",
       "    }\n",
       "\n",
       "    .dataframe thead th {\n",
       "        text-align: right;\n",
       "    }\n",
       "</style>\n",
       "<table border=\"1\" class=\"dataframe\">\n",
       "  <thead>\n",
       "    <tr style=\"text-align: right;\">\n",
       "      <th></th>\n",
       "      <th>frame_id</th>\n",
       "      <th>contact_label_pred</th>\n",
       "      <th>probability</th>\n",
       "      <th>priority</th>\n",
       "    </tr>\n",
       "  </thead>\n",
       "  <tbody>\n",
       "    <tr>\n",
       "      <th>1061</th>\n",
       "      <td>519_sh2.jpg</td>\n",
       "      <td>Stationary Object Contact</td>\n",
       "      <td>99</td>\n",
       "      <td>1.0</td>\n",
       "    </tr>\n",
       "    <tr>\n",
       "      <th>1062</th>\n",
       "      <td>519_sh2.jpg</td>\n",
       "      <td>Portable Object</td>\n",
       "      <td>99</td>\n",
       "      <td>3.0</td>\n",
       "    </tr>\n",
       "  </tbody>\n",
       "</table>\n",
       "</div>"
      ],
      "text/plain": [
       "         frame_id         contact_label_pred  probability  priority\n",
       "1061  519_sh2.jpg  Stationary Object Contact           99       1.0\n",
       "1062  519_sh2.jpg            Portable Object           99       3.0"
      ]
     },
     "execution_count": 33,
     "metadata": {},
     "output_type": "execute_result"
    }
   ],
   "source": [
    "tmp = sr2_pred.iloc[sr2_pred['frame_id'].map(lambda x: int(x.split('_')[0])).argsort()].reset_index(drop=True)\n",
    "tmp[tmp[\"frame_id\"] == \"519_sh2.jpg\"]"
   ]
  },
  {
   "cell_type": "code",
   "execution_count": 36,
   "metadata": {},
   "outputs": [
    {
     "name": "stdout",
     "output_type": "stream",
     "text": [
      "load checkpoint models/res101_handobj_100K/pascal_voc/faster_rcnn_1_8_132028.pth\n",
      "loaded model successfully!\n",
      "image dir = images\n",
      "save dir = images_det\n",
      "Loaded 1 images.\n"
     ]
    },
    {
     "name": "stderr",
     "output_type": "stream",
     "text": [
      "Processing Images:   0%|          | 0/1 [00:00<?, ?it/s]"
     ]
    },
    {
     "name": "stdout",
     "output_type": "stream",
     "text": [
      "519_sh2.jpg: Left hand: F 1.00\n",
      "[167, 165, 316, 316]\n",
      "519_sh2.jpg: Left hand: P 1.00\n",
      "[375, 186, 474, 313]\n",
      "im_detect: 1/1 | Detect time: 0.037s NMS time: 0.002s   \r"
     ]
    },
    {
     "name": "stderr",
     "output_type": "stream",
     "text": [
      "Processing Images: 100%|██████████| 1/1 [00:00<00:00, 13.35it/s]\n"
     ]
    },
    {
     "data": {
      "text/html": [
       "<div>\n",
       "<style scoped>\n",
       "    .dataframe tbody tr th:only-of-type {\n",
       "        vertical-align: middle;\n",
       "    }\n",
       "\n",
       "    .dataframe tbody tr th {\n",
       "        vertical-align: top;\n",
       "    }\n",
       "\n",
       "    .dataframe thead th {\n",
       "        text-align: right;\n",
       "    }\n",
       "</style>\n",
       "<table border=\"1\" class=\"dataframe\">\n",
       "  <thead>\n",
       "    <tr style=\"text-align: right;\">\n",
       "      <th></th>\n",
       "      <th>frame_id</th>\n",
       "      <th>contact_label_pred</th>\n",
       "      <th>probability</th>\n",
       "    </tr>\n",
       "  </thead>\n",
       "  <tbody>\n",
       "    <tr>\n",
       "      <th>0</th>\n",
       "      <td>519_sh2.jpg</td>\n",
       "      <td>Stationary Object Contact</td>\n",
       "      <td>99</td>\n",
       "    </tr>\n",
       "    <tr>\n",
       "      <th>1</th>\n",
       "      <td>519_sh2.jpg</td>\n",
       "      <td>Portable Object</td>\n",
       "      <td>99</td>\n",
       "    </tr>\n",
       "  </tbody>\n",
       "</table>\n",
       "</div>"
      ],
      "text/plain": [
       "      frame_id         contact_label_pred  probability\n",
       "0  519_sh2.jpg  Stationary Object Contact           99\n",
       "1  519_sh2.jpg            Portable Object           99"
      ]
     },
     "execution_count": 36,
     "metadata": {},
     "output_type": "execute_result"
    }
   ],
   "source": [
    "main(save_imgs=True, verbose=True)"
   ]
  },
  {
   "cell_type": "markdown",
   "metadata": {},
   "source": [
    "# old main vs current"
   ]
  },
  {
   "cell_type": "code",
   "execution_count": 13,
   "metadata": {},
   "outputs": [
    {
     "name": "stderr",
     "output_type": "stream",
     "text": [
      "Processing Images: 100%|██████████| 4278/4278 [03:13<00:00, 22.08it/s]\n"
     ]
    },
    {
     "ename": "ValueError",
     "evalue": "invalid literal for int() with base 10: 'Portable Object'",
     "output_type": "error",
     "traceback": [
      "\u001b[0;31m---------------------------------------------------------------------------\u001b[0m",
      "\u001b[0;31mValueError\u001b[0m                                Traceback (most recent call last)",
      "Cell \u001b[0;32mIn[13], line 2\u001b[0m\n\u001b[1;32m      1\u001b[0m sr2_pred \u001b[38;5;241m=\u001b[39m main(save_imgs\u001b[38;5;241m=\u001b[39m\u001b[38;5;28;01mFalse\u001b[39;00m, img_dir\u001b[38;5;241m=\u001b[39m\u001b[38;5;124m'\u001b[39m\u001b[38;5;124m/home/nripstein/Documents/thesis data/thesis labels/sr labels/sr2/sr2_shrunk\u001b[39m\u001b[38;5;124m'\u001b[39m)\n\u001b[0;32m----> 2\u001b[0m sr2_pred\u001b[38;5;241m.\u001b[39miloc[\u001b[43msr2_pred\u001b[49m\u001b[43m[\u001b[49m\u001b[38;5;124;43m\"\u001b[39;49m\u001b[38;5;124;43mcontact_label\u001b[39;49m\u001b[38;5;124;43m\"\u001b[39;49m\u001b[43m]\u001b[49m\u001b[38;5;241;43m.\u001b[39;49m\u001b[43mmap\u001b[49m\u001b[43m(\u001b[49m\u001b[38;5;28;43;01mlambda\u001b[39;49;00m\u001b[43m \u001b[49m\u001b[43mx\u001b[49m\u001b[43m:\u001b[49m\u001b[43m \u001b[49m\u001b[38;5;28;43mint\u001b[39;49m\u001b[43m(\u001b[49m\u001b[43mx\u001b[49m\u001b[38;5;241;43m.\u001b[39;49m\u001b[43msplit\u001b[49m\u001b[43m(\u001b[49m\u001b[38;5;124;43m'\u001b[39;49m\u001b[38;5;124;43m_\u001b[39;49m\u001b[38;5;124;43m'\u001b[39;49m\u001b[43m)\u001b[49m\u001b[43m[\u001b[49m\u001b[38;5;241;43m0\u001b[39;49m\u001b[43m]\u001b[49m\u001b[43m)\u001b[49m\u001b[43m)\u001b[49m\u001b[38;5;241m.\u001b[39margsort()]\u001b[38;5;241m.\u001b[39mreset_index(drop\u001b[38;5;241m=\u001b[39m\u001b[38;5;28;01mTrue\u001b[39;00m)\u001b[38;5;241m.\u001b[39mto_csv(\u001b[38;5;124m\"\u001b[39m\u001b[38;5;124m/home/nripstein/Documents/thesis data/thesis labels/sr labels/sr2/main_old_full.csv\u001b[39m\u001b[38;5;124m\"\u001b[39m)\n",
      "File \u001b[0;32m~/miniconda3/envs/shan_et_al2/lib/python3.8/site-packages/pandas/core/series.py:4397\u001b[0m, in \u001b[0;36mSeries.map\u001b[0;34m(self, arg, na_action)\u001b[0m\n\u001b[1;32m   4318\u001b[0m \u001b[38;5;28;01mdef\u001b[39;00m \u001b[38;5;21mmap\u001b[39m(\n\u001b[1;32m   4319\u001b[0m     \u001b[38;5;28mself\u001b[39m,\n\u001b[1;32m   4320\u001b[0m     arg: Callable \u001b[38;5;241m|\u001b[39m Mapping \u001b[38;5;241m|\u001b[39m Series,\n\u001b[1;32m   4321\u001b[0m     na_action: Literal[\u001b[38;5;124m\"\u001b[39m\u001b[38;5;124mignore\u001b[39m\u001b[38;5;124m\"\u001b[39m] \u001b[38;5;241m|\u001b[39m \u001b[38;5;28;01mNone\u001b[39;00m \u001b[38;5;241m=\u001b[39m \u001b[38;5;28;01mNone\u001b[39;00m,\n\u001b[1;32m   4322\u001b[0m ) \u001b[38;5;241m-\u001b[39m\u001b[38;5;241m>\u001b[39m Series:\n\u001b[1;32m   4323\u001b[0m \u001b[38;5;250m    \u001b[39m\u001b[38;5;124;03m\"\"\"\u001b[39;00m\n\u001b[1;32m   4324\u001b[0m \u001b[38;5;124;03m    Map values of Series according to an input mapping or function.\u001b[39;00m\n\u001b[1;32m   4325\u001b[0m \n\u001b[0;32m   (...)\u001b[0m\n\u001b[1;32m   4395\u001b[0m \u001b[38;5;124;03m    dtype: object\u001b[39;00m\n\u001b[1;32m   4396\u001b[0m \u001b[38;5;124;03m    \"\"\"\u001b[39;00m\n\u001b[0;32m-> 4397\u001b[0m     new_values \u001b[38;5;241m=\u001b[39m \u001b[38;5;28;43mself\u001b[39;49m\u001b[38;5;241;43m.\u001b[39;49m\u001b[43m_map_values\u001b[49m\u001b[43m(\u001b[49m\u001b[43marg\u001b[49m\u001b[43m,\u001b[49m\u001b[43m \u001b[49m\u001b[43mna_action\u001b[49m\u001b[38;5;241;43m=\u001b[39;49m\u001b[43mna_action\u001b[49m\u001b[43m)\u001b[49m\n\u001b[1;32m   4398\u001b[0m     \u001b[38;5;28;01mreturn\u001b[39;00m \u001b[38;5;28mself\u001b[39m\u001b[38;5;241m.\u001b[39m_constructor(new_values, index\u001b[38;5;241m=\u001b[39m\u001b[38;5;28mself\u001b[39m\u001b[38;5;241m.\u001b[39mindex, copy\u001b[38;5;241m=\u001b[39m\u001b[38;5;28;01mFalse\u001b[39;00m)\u001b[38;5;241m.\u001b[39m__finalize__(\n\u001b[1;32m   4399\u001b[0m         \u001b[38;5;28mself\u001b[39m, method\u001b[38;5;241m=\u001b[39m\u001b[38;5;124m\"\u001b[39m\u001b[38;5;124mmap\u001b[39m\u001b[38;5;124m\"\u001b[39m\n\u001b[1;32m   4400\u001b[0m     )\n",
      "File \u001b[0;32m~/miniconda3/envs/shan_et_al2/lib/python3.8/site-packages/pandas/core/base.py:924\u001b[0m, in \u001b[0;36mIndexOpsMixin._map_values\u001b[0;34m(self, mapper, na_action)\u001b[0m\n\u001b[1;32m    921\u001b[0m         \u001b[38;5;28;01mraise\u001b[39;00m \u001b[38;5;167;01mValueError\u001b[39;00m(msg)\n\u001b[1;32m    923\u001b[0m \u001b[38;5;66;03m# mapper is a function\u001b[39;00m\n\u001b[0;32m--> 924\u001b[0m new_values \u001b[38;5;241m=\u001b[39m \u001b[43mmap_f\u001b[49m\u001b[43m(\u001b[49m\u001b[43mvalues\u001b[49m\u001b[43m,\u001b[49m\u001b[43m \u001b[49m\u001b[43mmapper\u001b[49m\u001b[43m)\u001b[49m\n\u001b[1;32m    926\u001b[0m \u001b[38;5;28;01mreturn\u001b[39;00m new_values\n",
      "File \u001b[0;32m~/miniconda3/envs/shan_et_al2/lib/python3.8/site-packages/pandas/_libs/lib.pyx:2834\u001b[0m, in \u001b[0;36mpandas._libs.lib.map_infer\u001b[0;34m()\u001b[0m\n",
      "Cell \u001b[0;32mIn[13], line 2\u001b[0m, in \u001b[0;36m<lambda>\u001b[0;34m(x)\u001b[0m\n\u001b[1;32m      1\u001b[0m sr2_pred \u001b[38;5;241m=\u001b[39m main(save_imgs\u001b[38;5;241m=\u001b[39m\u001b[38;5;28;01mFalse\u001b[39;00m, img_dir\u001b[38;5;241m=\u001b[39m\u001b[38;5;124m'\u001b[39m\u001b[38;5;124m/home/nripstein/Documents/thesis data/thesis labels/sr labels/sr2/sr2_shrunk\u001b[39m\u001b[38;5;124m'\u001b[39m)\n\u001b[0;32m----> 2\u001b[0m sr2_pred\u001b[38;5;241m.\u001b[39miloc[sr2_pred[\u001b[38;5;124m\"\u001b[39m\u001b[38;5;124mcontact_label\u001b[39m\u001b[38;5;124m\"\u001b[39m]\u001b[38;5;241m.\u001b[39mmap(\u001b[38;5;28;01mlambda\u001b[39;00m x: \u001b[38;5;28;43mint\u001b[39;49m\u001b[43m(\u001b[49m\u001b[43mx\u001b[49m\u001b[38;5;241;43m.\u001b[39;49m\u001b[43msplit\u001b[49m\u001b[43m(\u001b[49m\u001b[38;5;124;43m'\u001b[39;49m\u001b[38;5;124;43m_\u001b[39;49m\u001b[38;5;124;43m'\u001b[39;49m\u001b[43m)\u001b[49m\u001b[43m[\u001b[49m\u001b[38;5;241;43m0\u001b[39;49m\u001b[43m]\u001b[49m\u001b[43m)\u001b[49m)\u001b[38;5;241m.\u001b[39margsort()]\u001b[38;5;241m.\u001b[39mreset_index(drop\u001b[38;5;241m=\u001b[39m\u001b[38;5;28;01mTrue\u001b[39;00m)\u001b[38;5;241m.\u001b[39mto_csv(\u001b[38;5;124m\"\u001b[39m\u001b[38;5;124m/home/nripstein/Documents/thesis data/thesis labels/sr labels/sr2/main_old_full.csv\u001b[39m\u001b[38;5;124m\"\u001b[39m)\n",
      "\u001b[0;31mValueError\u001b[0m: invalid literal for int() with base 10: 'Portable Object'"
     ]
    }
   ],
   "source": [
    "sr2_pred = main(save_imgs=False, img_dir='/home/nripstein/Documents/thesis data/thesis labels/sr labels/sr2/sr2_shrunk')\n"
   ]
  },
  {
   "cell_type": "code",
   "execution_count": 19,
   "metadata": {},
   "outputs": [
    {
     "data": {
      "text/html": [
       "<div>\n",
       "<style scoped>\n",
       "    .dataframe tbody tr th:only-of-type {\n",
       "        vertical-align: middle;\n",
       "    }\n",
       "\n",
       "    .dataframe tbody tr th {\n",
       "        vertical-align: top;\n",
       "    }\n",
       "\n",
       "    .dataframe thead th {\n",
       "        text-align: right;\n",
       "    }\n",
       "</style>\n",
       "<table border=\"1\" class=\"dataframe\">\n",
       "  <thead>\n",
       "    <tr style=\"text-align: right;\">\n",
       "      <th></th>\n",
       "      <th>image</th>\n",
       "      <th>contact_label</th>\n",
       "      <th>probability</th>\n",
       "    </tr>\n",
       "  </thead>\n",
       "  <tbody>\n",
       "    <tr>\n",
       "      <th>0</th>\n",
       "      <td>368_sh2.jpg</td>\n",
       "      <td>Portable Object</td>\n",
       "      <td>99</td>\n",
       "    </tr>\n",
       "    <tr>\n",
       "      <th>1</th>\n",
       "      <td>368_sh2.jpg</td>\n",
       "      <td>Portable Object</td>\n",
       "      <td>98</td>\n",
       "    </tr>\n",
       "    <tr>\n",
       "      <th>2</th>\n",
       "      <td>3919_sh2.jpg</td>\n",
       "      <td>Portable Object</td>\n",
       "      <td>99</td>\n",
       "    </tr>\n",
       "    <tr>\n",
       "      <th>3</th>\n",
       "      <td>3919_sh2.jpg</td>\n",
       "      <td>Portable Object</td>\n",
       "      <td>99</td>\n",
       "    </tr>\n",
       "    <tr>\n",
       "      <th>4</th>\n",
       "      <td>1441_sh2.jpg</td>\n",
       "      <td>Stationary Object Contact</td>\n",
       "      <td>99</td>\n",
       "    </tr>\n",
       "    <tr>\n",
       "      <th>...</th>\n",
       "      <td>...</td>\n",
       "      <td>...</td>\n",
       "      <td>...</td>\n",
       "    </tr>\n",
       "    <tr>\n",
       "      <th>8849</th>\n",
       "      <td>727_sh2.jpg</td>\n",
       "      <td>No Contact</td>\n",
       "      <td>99</td>\n",
       "    </tr>\n",
       "    <tr>\n",
       "      <th>8850</th>\n",
       "      <td>1021_sh2.jpg</td>\n",
       "      <td>Portable Object</td>\n",
       "      <td>99</td>\n",
       "    </tr>\n",
       "    <tr>\n",
       "      <th>8851</th>\n",
       "      <td>1021_sh2.jpg</td>\n",
       "      <td>Portable Object</td>\n",
       "      <td>99</td>\n",
       "    </tr>\n",
       "    <tr>\n",
       "      <th>8852</th>\n",
       "      <td>32_sh2.jpg</td>\n",
       "      <td>Portable Object</td>\n",
       "      <td>99</td>\n",
       "    </tr>\n",
       "    <tr>\n",
       "      <th>8853</th>\n",
       "      <td>32_sh2.jpg</td>\n",
       "      <td>Stationary Object Contact</td>\n",
       "      <td>99</td>\n",
       "    </tr>\n",
       "  </tbody>\n",
       "</table>\n",
       "<p>8854 rows × 3 columns</p>\n",
       "</div>"
      ],
      "text/plain": [
       "             image              contact_label  probability\n",
       "0      368_sh2.jpg            Portable Object           99\n",
       "1      368_sh2.jpg            Portable Object           98\n",
       "2     3919_sh2.jpg            Portable Object           99\n",
       "3     3919_sh2.jpg            Portable Object           99\n",
       "4     1441_sh2.jpg  Stationary Object Contact           99\n",
       "...            ...                        ...          ...\n",
       "8849   727_sh2.jpg                 No Contact           99\n",
       "8850  1021_sh2.jpg            Portable Object           99\n",
       "8851  1021_sh2.jpg            Portable Object           99\n",
       "8852    32_sh2.jpg            Portable Object           99\n",
       "8853    32_sh2.jpg  Stationary Object Contact           99\n",
       "\n",
       "[8854 rows x 3 columns]"
      ]
     },
     "metadata": {},
     "output_type": "display_data"
    }
   ],
   "source": [
    "display(sr2_pred)"
   ]
  },
  {
   "cell_type": "code",
   "execution_count": 20,
   "metadata": {},
   "outputs": [
    {
     "data": {
      "text/html": [
       "<div>\n",
       "<style scoped>\n",
       "    .dataframe tbody tr th:only-of-type {\n",
       "        vertical-align: middle;\n",
       "    }\n",
       "\n",
       "    .dataframe tbody tr th {\n",
       "        vertical-align: top;\n",
       "    }\n",
       "\n",
       "    .dataframe thead th {\n",
       "        text-align: right;\n",
       "    }\n",
       "</style>\n",
       "<table border=\"1\" class=\"dataframe\">\n",
       "  <thead>\n",
       "    <tr style=\"text-align: right;\">\n",
       "      <th></th>\n",
       "      <th>image</th>\n",
       "      <th>contact_label</th>\n",
       "      <th>probability</th>\n",
       "    </tr>\n",
       "  </thead>\n",
       "  <tbody>\n",
       "    <tr>\n",
       "      <th>0</th>\n",
       "      <td>0_sh2.jpg</td>\n",
       "      <td>Stationary Object Contact</td>\n",
       "      <td>99</td>\n",
       "    </tr>\n",
       "    <tr>\n",
       "      <th>1</th>\n",
       "      <td>0_sh2.jpg</td>\n",
       "      <td>Portable Object</td>\n",
       "      <td>99</td>\n",
       "    </tr>\n",
       "    <tr>\n",
       "      <th>2</th>\n",
       "      <td>1_sh2.jpg</td>\n",
       "      <td>Portable Object</td>\n",
       "      <td>99</td>\n",
       "    </tr>\n",
       "    <tr>\n",
       "      <th>3</th>\n",
       "      <td>1_sh2.jpg</td>\n",
       "      <td>Stationary Object Contact</td>\n",
       "      <td>99</td>\n",
       "    </tr>\n",
       "    <tr>\n",
       "      <th>4</th>\n",
       "      <td>2_sh2.jpg</td>\n",
       "      <td>Stationary Object Contact</td>\n",
       "      <td>99</td>\n",
       "    </tr>\n",
       "    <tr>\n",
       "      <th>...</th>\n",
       "      <td>...</td>\n",
       "      <td>...</td>\n",
       "      <td>...</td>\n",
       "    </tr>\n",
       "    <tr>\n",
       "      <th>8849</th>\n",
       "      <td>4275_sh2.jpg</td>\n",
       "      <td>Stationary Object Contact</td>\n",
       "      <td>99</td>\n",
       "    </tr>\n",
       "    <tr>\n",
       "      <th>8850</th>\n",
       "      <td>4276_sh2.jpg</td>\n",
       "      <td>Stationary Object Contact</td>\n",
       "      <td>99</td>\n",
       "    </tr>\n",
       "    <tr>\n",
       "      <th>8851</th>\n",
       "      <td>4276_sh2.jpg</td>\n",
       "      <td>Portable Object</td>\n",
       "      <td>99</td>\n",
       "    </tr>\n",
       "    <tr>\n",
       "      <th>8852</th>\n",
       "      <td>4277_sh2.jpg</td>\n",
       "      <td>Stationary Object Contact</td>\n",
       "      <td>99</td>\n",
       "    </tr>\n",
       "    <tr>\n",
       "      <th>8853</th>\n",
       "      <td>4277_sh2.jpg</td>\n",
       "      <td>Portable Object</td>\n",
       "      <td>99</td>\n",
       "    </tr>\n",
       "  </tbody>\n",
       "</table>\n",
       "<p>8854 rows × 3 columns</p>\n",
       "</div>"
      ],
      "text/plain": [
       "             image              contact_label  probability\n",
       "0        0_sh2.jpg  Stationary Object Contact           99\n",
       "1        0_sh2.jpg            Portable Object           99\n",
       "2        1_sh2.jpg            Portable Object           99\n",
       "3        1_sh2.jpg  Stationary Object Contact           99\n",
       "4        2_sh2.jpg  Stationary Object Contact           99\n",
       "...            ...                        ...          ...\n",
       "8849  4275_sh2.jpg  Stationary Object Contact           99\n",
       "8850  4276_sh2.jpg  Stationary Object Contact           99\n",
       "8851  4276_sh2.jpg            Portable Object           99\n",
       "8852  4277_sh2.jpg  Stationary Object Contact           99\n",
       "8853  4277_sh2.jpg            Portable Object           99\n",
       "\n",
       "[8854 rows x 3 columns]"
      ]
     },
     "metadata": {},
     "output_type": "display_data"
    }
   ],
   "source": [
    "sr2_pred_to_save = sr2_pred.iloc[sr2_pred[\"image\"].map(lambda x: int(x.split('_')[0])).argsort()].reset_index(drop=True)\n",
    "display(sr2_pred_to_save)\n",
    "sr2_pred_to_save.to_csv(\"/home/nripstein/Documents/thesis data/thesis labels/sr labels/sr2/main_old_full.csv\")"
   ]
  },
  {
   "cell_type": "code",
   "execution_count": 21,
   "metadata": {},
   "outputs": [
    {
     "name": "stdout",
     "output_type": "stream",
     "text": [
      "here1\n",
      "here2\n"
     ]
    },
    {
     "data": {
      "image/png": "[encoded data removed]",
      "text/plain": [
       "<Figure size 1000x125 with 1 Axes>"
      ]
     },
     "metadata": {},
     "output_type": "display_data"
    }
   ],
   "source": [
    "\n",
    "sr2_pred_cond = condense_dataframe_hacky_temp(sr2_pred)\n",
    "transformation_dict = {\"Portable Object Contact\": \"green\", \"Portable Object\": \"green\", \"Stationary Object Contact\": \"red\", \"No Contact\": \"yellow\", \"Self Contact\": \"red\"}\n",
    "sr2_pred_dict = get_last_indices_of_consecutive_labels2(sr2_pred_cond, transformation_dict)\n",
    "\n",
    "sr2_gt = [(156, 491), (850, 1364), (1775, 2127), (2537, 3036), (3612, 3972)]\n",
    "gt_dict = comparison_dicts(sr2_gt, max_len=len(sr2_pred_cond))\n",
    "\n",
    "plot_colored_horizontal_lines(sr2_pred_dict, gt_dict, x_ticks_interval=250)"
   ]
  },
  {
   "cell_type": "code",
   "execution_count": 4,
   "metadata": {},
   "outputs": [
    {
     "name": "stderr",
     "output_type": "stream",
     "text": [
      "Processing Images: 100%|██████████| 4278/4278 [02:58<00:00, 23.95it/s]\n"
     ]
    }
   ],
   "source": [
    "from my_demo_fn import main_buggy\n",
    "sr2_pred2 = main_buggy(save_imgs=False, img_dir='/home/nripstein/Documents/thesis data/thesis labels/sr labels/sr2/sr2_shrunk')\n"
   ]
  },
  {
   "cell_type": "code",
   "execution_count": 26,
   "metadata": {},
   "outputs": [],
   "source": [
    "sr2_pred2_to_save = sr2_pred2.iloc[sr2_pred2[\"frame_id\"].map(lambda x: int(x.split('_')[0])).argsort()].reset_index(drop=True)\n",
    "# sr2_pred2_to_save.to_csv(\"/home/nripstein/Documents/thesis data/thesis labels/sr labels/sr2/main_new_full.csv\")"
   ]
  },
  {
   "cell_type": "code",
   "execution_count": 32,
   "metadata": {},
   "outputs": [
    {
     "data": {
      "text/html": [
       "<div>\n",
       "<style scoped>\n",
       "    .dataframe tbody tr th:only-of-type {\n",
       "        vertical-align: middle;\n",
       "    }\n",
       "\n",
       "    .dataframe tbody tr th {\n",
       "        vertical-align: top;\n",
       "    }\n",
       "\n",
       "    .dataframe thead th {\n",
       "        text-align: right;\n",
       "    }\n",
       "</style>\n",
       "<table border=\"1\" class=\"dataframe\">\n",
       "  <thead>\n",
       "    <tr style=\"text-align: right;\">\n",
       "      <th></th>\n",
       "      <th>frame_id</th>\n",
       "      <th>contact_label_pred</th>\n",
       "      <th>probability</th>\n",
       "    </tr>\n",
       "  </thead>\n",
       "  <tbody>\n",
       "    <tr>\n",
       "      <th>0</th>\n",
       "      <td>0_sh2.jpg</td>\n",
       "      <td>Stationary Object Contact</td>\n",
       "      <td>99</td>\n",
       "    </tr>\n",
       "    <tr>\n",
       "      <th>1</th>\n",
       "      <td>0_sh2.jpg</td>\n",
       "      <td>Portable Object</td>\n",
       "      <td>99</td>\n",
       "    </tr>\n",
       "    <tr>\n",
       "      <th>2</th>\n",
       "      <td>1_sh2.jpg</td>\n",
       "      <td>Portable Object</td>\n",
       "      <td>99</td>\n",
       "    </tr>\n",
       "    <tr>\n",
       "      <th>3</th>\n",
       "      <td>1_sh2.jpg</td>\n",
       "      <td>Stationary Object Contact</td>\n",
       "      <td>99</td>\n",
       "    </tr>\n",
       "    <tr>\n",
       "      <th>4</th>\n",
       "      <td>2_sh2.jpg</td>\n",
       "      <td>Stationary Object Contact</td>\n",
       "      <td>99</td>\n",
       "    </tr>\n",
       "    <tr>\n",
       "      <th>...</th>\n",
       "      <td>...</td>\n",
       "      <td>...</td>\n",
       "      <td>...</td>\n",
       "    </tr>\n",
       "    <tr>\n",
       "      <th>8849</th>\n",
       "      <td>4275_sh2.jpg</td>\n",
       "      <td>Stationary Object Contact</td>\n",
       "      <td>99</td>\n",
       "    </tr>\n",
       "    <tr>\n",
       "      <th>8850</th>\n",
       "      <td>4276_sh2.jpg</td>\n",
       "      <td>Stationary Object Contact</td>\n",
       "      <td>99</td>\n",
       "    </tr>\n",
       "    <tr>\n",
       "      <th>8851</th>\n",
       "      <td>4276_sh2.jpg</td>\n",
       "      <td>Portable Object</td>\n",
       "      <td>99</td>\n",
       "    </tr>\n",
       "    <tr>\n",
       "      <th>8852</th>\n",
       "      <td>4277_sh2.jpg</td>\n",
       "      <td>Stationary Object Contact</td>\n",
       "      <td>99</td>\n",
       "    </tr>\n",
       "    <tr>\n",
       "      <th>8853</th>\n",
       "      <td>4277_sh2.jpg</td>\n",
       "      <td>Portable Object</td>\n",
       "      <td>99</td>\n",
       "    </tr>\n",
       "  </tbody>\n",
       "</table>\n",
       "<p>8854 rows × 3 columns</p>\n",
       "</div>"
      ],
      "text/plain": [
       "          frame_id         contact_label_pred  probability\n",
       "0        0_sh2.jpg  Stationary Object Contact           99\n",
       "1        0_sh2.jpg            Portable Object           99\n",
       "2        1_sh2.jpg            Portable Object           99\n",
       "3        1_sh2.jpg  Stationary Object Contact           99\n",
       "4        2_sh2.jpg  Stationary Object Contact           99\n",
       "...            ...                        ...          ...\n",
       "8849  4275_sh2.jpg  Stationary Object Contact           99\n",
       "8850  4276_sh2.jpg  Stationary Object Contact           99\n",
       "8851  4276_sh2.jpg            Portable Object           99\n",
       "8852  4277_sh2.jpg  Stationary Object Contact           99\n",
       "8853  4277_sh2.jpg            Portable Object           99\n",
       "\n",
       "[8854 rows x 3 columns]"
      ]
     },
     "metadata": {},
     "output_type": "display_data"
    },
    {
     "data": {
      "text/html": [
       "<div>\n",
       "<style scoped>\n",
       "    .dataframe tbody tr th:only-of-type {\n",
       "        vertical-align: middle;\n",
       "    }\n",
       "\n",
       "    .dataframe tbody tr th {\n",
       "        vertical-align: top;\n",
       "    }\n",
       "\n",
       "    .dataframe thead th {\n",
       "        text-align: right;\n",
       "    }\n",
       "</style>\n",
       "<table border=\"1\" class=\"dataframe\">\n",
       "  <thead>\n",
       "    <tr style=\"text-align: right;\">\n",
       "      <th></th>\n",
       "      <th>frame_id</th>\n",
       "      <th>contact_label_pred</th>\n",
       "      <th>probability</th>\n",
       "    </tr>\n",
       "  </thead>\n",
       "  <tbody>\n",
       "    <tr>\n",
       "      <th>0</th>\n",
       "      <td>0_sh2.jpg</td>\n",
       "      <td>Stationary Object Contact</td>\n",
       "      <td>99</td>\n",
       "    </tr>\n",
       "    <tr>\n",
       "      <th>1</th>\n",
       "      <td>0_sh2.jpg</td>\n",
       "      <td>Portable Object</td>\n",
       "      <td>99</td>\n",
       "    </tr>\n",
       "    <tr>\n",
       "      <th>2</th>\n",
       "      <td>1_sh2.jpg</td>\n",
       "      <td>Portable Object</td>\n",
       "      <td>99</td>\n",
       "    </tr>\n",
       "    <tr>\n",
       "      <th>3</th>\n",
       "      <td>1_sh2.jpg</td>\n",
       "      <td>Stationary Object Contact</td>\n",
       "      <td>99</td>\n",
       "    </tr>\n",
       "    <tr>\n",
       "      <th>4</th>\n",
       "      <td>2_sh2.jpg</td>\n",
       "      <td>Stationary Object Contact</td>\n",
       "      <td>99</td>\n",
       "    </tr>\n",
       "    <tr>\n",
       "      <th>...</th>\n",
       "      <td>...</td>\n",
       "      <td>...</td>\n",
       "      <td>...</td>\n",
       "    </tr>\n",
       "    <tr>\n",
       "      <th>8849</th>\n",
       "      <td>4275_sh2.jpg</td>\n",
       "      <td>Stationary Object Contact</td>\n",
       "      <td>99</td>\n",
       "    </tr>\n",
       "    <tr>\n",
       "      <th>8850</th>\n",
       "      <td>4276_sh2.jpg</td>\n",
       "      <td>Stationary Object Contact</td>\n",
       "      <td>99</td>\n",
       "    </tr>\n",
       "    <tr>\n",
       "      <th>8851</th>\n",
       "      <td>4276_sh2.jpg</td>\n",
       "      <td>Portable Object</td>\n",
       "      <td>99</td>\n",
       "    </tr>\n",
       "    <tr>\n",
       "      <th>8852</th>\n",
       "      <td>4277_sh2.jpg</td>\n",
       "      <td>Stationary Object Contact</td>\n",
       "      <td>99</td>\n",
       "    </tr>\n",
       "    <tr>\n",
       "      <th>8853</th>\n",
       "      <td>4277_sh2.jpg</td>\n",
       "      <td>Portable Object</td>\n",
       "      <td>99</td>\n",
       "    </tr>\n",
       "  </tbody>\n",
       "</table>\n",
       "<p>8854 rows × 3 columns</p>\n",
       "</div>"
      ],
      "text/plain": [
       "          frame_id         contact_label_pred  probability\n",
       "0        0_sh2.jpg  Stationary Object Contact           99\n",
       "1        0_sh2.jpg            Portable Object           99\n",
       "2        1_sh2.jpg            Portable Object           99\n",
       "3        1_sh2.jpg  Stationary Object Contact           99\n",
       "4        2_sh2.jpg  Stationary Object Contact           99\n",
       "...            ...                        ...          ...\n",
       "8849  4275_sh2.jpg  Stationary Object Contact           99\n",
       "8850  4276_sh2.jpg  Stationary Object Contact           99\n",
       "8851  4276_sh2.jpg            Portable Object           99\n",
       "8852  4277_sh2.jpg  Stationary Object Contact           99\n",
       "8853  4277_sh2.jpg            Portable Object           99\n",
       "\n",
       "[8854 rows x 3 columns]"
      ]
     },
     "metadata": {},
     "output_type": "display_data"
    },
    {
     "data": {
      "text/plain": [
       "False"
      ]
     },
     "execution_count": 32,
     "metadata": {},
     "output_type": "execute_result"
    }
   ],
   "source": [
    "display(sr2_pred_to_save.rename(columns={'image': 'frame_id', \"contact_label\": \"contact_label_pred\"}))\n",
    "display(sr2_pred2_to_save)\n",
    "\n",
    "sr2_pred_to_save.rename(columns={'image': 'frame_id', \"contact_label\": \"contact_label_pred\"}).equals(sr2_pred2_to_save)"
   ]
  },
  {
   "cell_type": "code",
   "execution_count": 38,
   "metadata": {},
   "outputs": [
    {
     "name": "stdout",
     "output_type": "stream",
     "text": [
      "Differences found at the following 164 locations:\n",
      "True\n",
      "Differing rows:\n",
      "246   contact_label_pred    Portable Object\n",
      "252   contact_label_pred    Portable Object\n",
      "255   contact_label_pred    Portable Object\n",
      "257   contact_label_pred    Portable Object\n",
      "261   contact_label_pred    Portable Object\n",
      "                                 ...       \n",
      "8340  contact_label_pred    Portable Object\n",
      "8342  contact_label_pred    Portable Object\n",
      "8345  contact_label_pred    Portable Object\n",
      "8350  contact_label_pred    Portable Object\n",
      "8364  contact_label_pred    Portable Object\n",
      "Length: 164, dtype: object\n",
      "Differing columns:\n",
      "Index(['contact_label_pred'], dtype='object')\n"
     ]
    }
   ],
   "source": [
    "df2 = sr2_pred2_to_save.drop(\"probability\", axis=1)\n",
    "df1 = sr2_pred_to_save.rename(columns={'image': 'frame_id', \"contact_label\": \"contact_label_pred\"}).drop(\"probability\", axis=1)\n",
    "# Assuming df1 and df2 are your DataFrames\n",
    "# Checking if the DataFrames are equal\n",
    "if not df1.equals(df2):\n",
    "    # Finding where the differences are\n",
    "    diff_locations = (df1 != df2).any(axis=None)\n",
    "    print(f\"Differences found at the following {len(df1[df1 != df2].stack())} locations:\")\n",
    "    print(diff_locations)\n",
    "\n",
    "    # Filtering and printing differing rows\n",
    "    differing_rows = df1[df1 != df2].stack()\n",
    "    print(\"Differing rows:\")\n",
    "    print(differing_rows)\n",
    "\n",
    "    # Filtering and printing differing columns\n",
    "    differing_columns = df1.columns[df1.ne(df2).any()]\n",
    "    print(\"Differing columns:\")\n",
    "    print(differing_columns)\n"
   ]
  },
  {
   "cell_type": "code",
   "execution_count": 27,
   "metadata": {},
   "outputs": [
    {
     "ename": "ValueError",
     "evalue": "invalid literal for int() with base 10: 'Portable Object'",
     "output_type": "error",
     "traceback": [
      "\u001b[0;31m---------------------------------------------------------------------------\u001b[0m",
      "\u001b[0;31mValueError\u001b[0m                                Traceback (most recent call last)",
      "Cell \u001b[0;32mIn[27], line 1\u001b[0m\n\u001b[0;32m----> 1\u001b[0m sr2_pred2\u001b[38;5;241m.\u001b[39miloc[\u001b[43msr2_pred2\u001b[49m\u001b[43m[\u001b[49m\u001b[38;5;124;43m\"\u001b[39;49m\u001b[38;5;124;43mcontact_label_pred\u001b[39;49m\u001b[38;5;124;43m\"\u001b[39;49m\u001b[43m]\u001b[49m\u001b[38;5;241;43m.\u001b[39;49m\u001b[43mmap\u001b[49m\u001b[43m(\u001b[49m\u001b[38;5;28;43;01mlambda\u001b[39;49;00m\u001b[43m \u001b[49m\u001b[43mx\u001b[49m\u001b[43m:\u001b[49m\u001b[43m \u001b[49m\u001b[38;5;28;43mint\u001b[39;49m\u001b[43m(\u001b[49m\u001b[43mx\u001b[49m\u001b[38;5;241;43m.\u001b[39;49m\u001b[43msplit\u001b[49m\u001b[43m(\u001b[49m\u001b[38;5;124;43m'\u001b[39;49m\u001b[38;5;124;43m_\u001b[39;49m\u001b[38;5;124;43m'\u001b[39;49m\u001b[43m)\u001b[49m\u001b[43m[\u001b[49m\u001b[38;5;241;43m0\u001b[39;49m\u001b[43m]\u001b[49m\u001b[43m)\u001b[49m\u001b[43m)\u001b[49m\u001b[38;5;241m.\u001b[39margsort()]\u001b[38;5;241m.\u001b[39mreset_index(drop\u001b[38;5;241m=\u001b[39m\u001b[38;5;28;01mTrue\u001b[39;00m)\n",
      "File \u001b[0;32m~/miniconda3/envs/shan_et_al2/lib/python3.8/site-packages/pandas/core/series.py:4397\u001b[0m, in \u001b[0;36mSeries.map\u001b[0;34m(self, arg, na_action)\u001b[0m\n\u001b[1;32m   4318\u001b[0m \u001b[38;5;28;01mdef\u001b[39;00m \u001b[38;5;21mmap\u001b[39m(\n\u001b[1;32m   4319\u001b[0m     \u001b[38;5;28mself\u001b[39m,\n\u001b[1;32m   4320\u001b[0m     arg: Callable \u001b[38;5;241m|\u001b[39m Mapping \u001b[38;5;241m|\u001b[39m Series,\n\u001b[1;32m   4321\u001b[0m     na_action: Literal[\u001b[38;5;124m\"\u001b[39m\u001b[38;5;124mignore\u001b[39m\u001b[38;5;124m\"\u001b[39m] \u001b[38;5;241m|\u001b[39m \u001b[38;5;28;01mNone\u001b[39;00m \u001b[38;5;241m=\u001b[39m \u001b[38;5;28;01mNone\u001b[39;00m,\n\u001b[1;32m   4322\u001b[0m ) \u001b[38;5;241m-\u001b[39m\u001b[38;5;241m>\u001b[39m Series:\n\u001b[1;32m   4323\u001b[0m \u001b[38;5;250m    \u001b[39m\u001b[38;5;124;03m\"\"\"\u001b[39;00m\n\u001b[1;32m   4324\u001b[0m \u001b[38;5;124;03m    Map values of Series according to an input mapping or function.\u001b[39;00m\n\u001b[1;32m   4325\u001b[0m \n\u001b[0;32m   (...)\u001b[0m\n\u001b[1;32m   4395\u001b[0m \u001b[38;5;124;03m    dtype: object\u001b[39;00m\n\u001b[1;32m   4396\u001b[0m \u001b[38;5;124;03m    \"\"\"\u001b[39;00m\n\u001b[0;32m-> 4397\u001b[0m     new_values \u001b[38;5;241m=\u001b[39m \u001b[38;5;28;43mself\u001b[39;49m\u001b[38;5;241;43m.\u001b[39;49m\u001b[43m_map_values\u001b[49m\u001b[43m(\u001b[49m\u001b[43marg\u001b[49m\u001b[43m,\u001b[49m\u001b[43m \u001b[49m\u001b[43mna_action\u001b[49m\u001b[38;5;241;43m=\u001b[39;49m\u001b[43mna_action\u001b[49m\u001b[43m)\u001b[49m\n\u001b[1;32m   4398\u001b[0m     \u001b[38;5;28;01mreturn\u001b[39;00m \u001b[38;5;28mself\u001b[39m\u001b[38;5;241m.\u001b[39m_constructor(new_values, index\u001b[38;5;241m=\u001b[39m\u001b[38;5;28mself\u001b[39m\u001b[38;5;241m.\u001b[39mindex, copy\u001b[38;5;241m=\u001b[39m\u001b[38;5;28;01mFalse\u001b[39;00m)\u001b[38;5;241m.\u001b[39m__finalize__(\n\u001b[1;32m   4399\u001b[0m         \u001b[38;5;28mself\u001b[39m, method\u001b[38;5;241m=\u001b[39m\u001b[38;5;124m\"\u001b[39m\u001b[38;5;124mmap\u001b[39m\u001b[38;5;124m\"\u001b[39m\n\u001b[1;32m   4400\u001b[0m     )\n",
      "File \u001b[0;32m~/miniconda3/envs/shan_et_al2/lib/python3.8/site-packages/pandas/core/base.py:924\u001b[0m, in \u001b[0;36mIndexOpsMixin._map_values\u001b[0;34m(self, mapper, na_action)\u001b[0m\n\u001b[1;32m    921\u001b[0m         \u001b[38;5;28;01mraise\u001b[39;00m \u001b[38;5;167;01mValueError\u001b[39;00m(msg)\n\u001b[1;32m    923\u001b[0m \u001b[38;5;66;03m# mapper is a function\u001b[39;00m\n\u001b[0;32m--> 924\u001b[0m new_values \u001b[38;5;241m=\u001b[39m \u001b[43mmap_f\u001b[49m\u001b[43m(\u001b[49m\u001b[43mvalues\u001b[49m\u001b[43m,\u001b[49m\u001b[43m \u001b[49m\u001b[43mmapper\u001b[49m\u001b[43m)\u001b[49m\n\u001b[1;32m    926\u001b[0m \u001b[38;5;28;01mreturn\u001b[39;00m new_values\n",
      "File \u001b[0;32m~/miniconda3/envs/shan_et_al2/lib/python3.8/site-packages/pandas/_libs/lib.pyx:2834\u001b[0m, in \u001b[0;36mpandas._libs.lib.map_infer\u001b[0;34m()\u001b[0m\n",
      "Cell \u001b[0;32mIn[27], line 1\u001b[0m, in \u001b[0;36m<lambda>\u001b[0;34m(x)\u001b[0m\n\u001b[0;32m----> 1\u001b[0m sr2_pred2\u001b[38;5;241m.\u001b[39miloc[sr2_pred2[\u001b[38;5;124m\"\u001b[39m\u001b[38;5;124mcontact_label_pred\u001b[39m\u001b[38;5;124m\"\u001b[39m]\u001b[38;5;241m.\u001b[39mmap(\u001b[38;5;28;01mlambda\u001b[39;00m x: \u001b[38;5;28;43mint\u001b[39;49m\u001b[43m(\u001b[49m\u001b[43mx\u001b[49m\u001b[38;5;241;43m.\u001b[39;49m\u001b[43msplit\u001b[49m\u001b[43m(\u001b[49m\u001b[38;5;124;43m'\u001b[39;49m\u001b[38;5;124;43m_\u001b[39;49m\u001b[38;5;124;43m'\u001b[39;49m\u001b[43m)\u001b[49m\u001b[43m[\u001b[49m\u001b[38;5;241;43m0\u001b[39;49m\u001b[43m]\u001b[49m\u001b[43m)\u001b[49m)\u001b[38;5;241m.\u001b[39margsort()]\u001b[38;5;241m.\u001b[39mreset_index(drop\u001b[38;5;241m=\u001b[39m\u001b[38;5;28;01mTrue\u001b[39;00m)\n",
      "\u001b[0;31mValueError\u001b[0m: invalid literal for int() with base 10: 'Portable Object'"
     ]
    }
   ],
   "source": [
    "sr2_pred2.iloc[sr2_pred2[\"contact_label_pred\"].map(lambda x: int(x.split('_')[0])).argsort()].reset_index(drop=True)"
   ]
  },
  {
   "cell_type": "code",
   "execution_count": 5,
   "metadata": {},
   "outputs": [
    {
     "name": "stdout",
     "output_type": "stream",
     "text": [
      "condensed\n"
     ]
    },
    {
     "data": {
      "image/png": "[encoded data removed]",
      "text/plain": [
       "<Figure size 1000x125 with 1 Axes>"
      ]
     },
     "metadata": {},
     "output_type": "display_data"
    }
   ],
   "source": [
    "\n",
    "sr2_pred_cond2 = condense_dataframe_new(sr2_pred2)\n",
    "print(\"condensed\")\n",
    "# sr2_pred_cond = pd.read_csv(\"/home/nripstein/Documents/thesis data/thesis labels/sr labels/sr2/sv2_pred_weekold.csv\")\n",
    "# sr2_pred_cond.to_csv(\"/home/nripstein/Documents/thesis data/thesis labels/sr labels/sr2/sv2_pred_errors.csv\")\n",
    "\n",
    "transformation_dict = {\"Portable Object Contact\": \"green\", \"Portable Object\": \"green\", \"Stationary Object Contact\": \"red\", \"No Contact\": \"yellow\", \"Self Contact\": \"red\"}\n",
    "sr2_pred_dict = get_last_indices_of_consecutive_labels2_new(sr2_pred_cond2, transformation_dict)\n",
    "\n",
    "sr2_gt = [(156, 491), (850, 1364), (1775, 2127), (2537, 3036), (3612, 3972)]\n",
    "gt_dict = comparison_dicts(sr2_gt, max_len=len(sr2_pred_cond2))\n",
    "\n",
    "plot_colored_horizontal_lines(sr2_pred_dict, gt_dict, x_ticks_interval=250)"
   ]
  },
  {
   "cell_type": "markdown",
   "metadata": {},
   "source": [
    "# WAIT WHAT END"
   ]
  },
  {
   "cell_type": "code",
   "execution_count": 8,
   "metadata": {},
   "outputs": [
    {
     "name": "stderr",
     "output_type": "stream",
     "text": [
      "Processing Images: 100%|██████████| 3851/3851 [02:37<00:00, 24.45it/s]\n"
     ]
    }
   ],
   "source": [
    "sv2_results = main(save_imgs=False,\n",
    "                   img_dir='/home/nripstein/Documents/thesis data/thesis labels/sv labels/sv2_frames/sv2_shrunk', blue_refine=False)"
   ]
  },
  {
   "cell_type": "code",
   "execution_count": 10,
   "metadata": {},
   "outputs": [],
   "source": [
    "sv2_results_cond = condense_dataframe_new(sv2_results)"
   ]
  },
  {
   "cell_type": "code",
   "execution_count": 11,
   "metadata": {},
   "outputs": [
    {
     "data": {
      "image/png": "[encoded data removed]",
      "text/plain": [
       "<Figure size 1000x125 with 1 Axes>"
      ]
     },
     "metadata": {},
     "output_type": "display_data"
    }
   ],
   "source": [
    "transformation_dict = {\"Portable Object Contact\": \"green\", \"Portable Object\": \"green\", \"Stationary Object Contact\": \"red\", \"No Contact\": \"yellow\", \"Self Contact\": \"red\"}\n",
    "sr2_pred_dict = get_last_indices_of_consecutive_labels2_new(sv2_results_cond, transformation_dict)\n",
    "\n",
    "sv2_gt = [(194, 554), (912, 1270), (1643, 2023), (2434, 2816), (3187, 3591)]\n",
    "gt_dict = comparison_dicts(sv2_gt, len(sv2_results_cond))\n",
    "\n",
    "plot_colored_horizontal_lines(sr2_pred_dict, gt_dict, x_ticks_interval=250)"
   ]
  },
  {
   "cell_type": "code",
   "execution_count": 23,
   "metadata": {},
   "outputs": [
    {
     "data": {
      "text/plain": [
       "{194: 'red',\n",
       " 554: 'green',\n",
       " 912: 'red',\n",
       " 1270: 'green',\n",
       " 1643: 'red',\n",
       " 2023: 'green',\n",
       " 2434: 'red',\n",
       " 2816: 'green',\n",
       " 3187: 'red',\n",
       " 3591: 'green',\n",
       " 3851: 'red'}"
      ]
     },
     "execution_count": 23,
     "metadata": {},
     "output_type": "execute_result"
    }
   ],
   "source": [
    "gt_dict = comparison_dicts(sv2_gt, len(sv2_results_cond))\n",
    "gt_dict"
   ]
  },
  {
   "cell_type": "code",
   "execution_count": 8,
   "metadata": {},
   "outputs": [
    {
     "name": "stderr",
     "output_type": "stream",
     "text": [
      "Processing Images: 100%|██████████| 3851/3851 [02:56<00:00, 21.88it/s]\n"
     ]
    },
    {
     "data": {
      "image/png": "[encoded data removed]",
      "text/plain": [
       "<Figure size 1000x125 with 1 Axes>"
      ]
     },
     "metadata": {},
     "output_type": "display_data"
    }
   ],
   "source": [
    "sv2_results = main(save_imgs=False, img_dir='/home/nripstein/Documents/thesis data/thesis labels/sv labels/sv2_frames/sv2_shrunk', blue_refine=True)\n",
    "sv2_results_cond = condense_dataframe(sv2_results)\n",
    "sr2_pred_dict = get_last_indices_of_consecutive_labels2(sv2_results_cond, transformation_dict)\n",
    "\n",
    "sv2_gt = [(194, 554), (912, 1270), (1643, 2023), (2434, 2816), (3187, 3591)]\n",
    "gt_dict = comparison_dicts(sv2_gt, len(sv2_results_cond))\n",
    "\n",
    "plot_colored_horizontal_lines(sr2_pred_dict, gt_dict, x_ticks_interval=250)\n",
    "\n",
    "# try blue refine. Should decrease false positives"
   ]
  },
  {
   "cell_type": "code",
   "execution_count": 22,
   "metadata": {},
   "outputs": [],
   "source": [
    "sv2_results_cond.to_csv(\"/home/nripstein/Documents/thesis data/thesis labels/sv labels/sv2_frames/sv2_pred.csv\", index=False)"
   ]
  },
  {
   "cell_type": "code",
   "execution_count": 6,
   "metadata": {},
   "outputs": [
    {
     "name": "stdout",
     "output_type": "stream",
     "text": [
      "[(194, 554), (912, 1270), (1643, 2023), (2434, 2816), (3187, 3591)]\n"
     ]
    }
   ],
   "source": [
    "import csv\n",
    "\n",
    "def csv_to_tuples(filename):\n",
    "    data = []\n",
    "    with open(filename, 'r') as csvfile:\n",
    "        reader = csv.reader(csvfile)\n",
    "        next(reader)  # Skip header row if it exists\n",
    "        for row in reader:\n",
    "            # Skip the first column and convert the rest to integers\n",
    "            holding_transitions, not_holding_transitions = map(int, row[1:])\n",
    "            data.append((holding_transitions, not_holding_transitions))\n",
    "    return data\n",
    "\n",
    "# Example usage:\n",
    "filename = '/home/nripstein/Documents/thesis data/thesis labels/sv labels/sv2_frames/changepoints.csv'\n",
    "result = csv_to_tuples(filename)\n",
    "print(result)"
   ]
  },
  {
   "cell_type": "markdown",
   "metadata": {},
   "source": [
    "# sv1:"
   ]
  },
  {
   "cell_type": "code",
   "execution_count": 8,
   "metadata": {},
   "outputs": [
    {
     "name": "stderr",
     "output_type": "stream",
     "text": [
      "Processing Images: 100%|██████████| 15244/15244 [12:18<00:00, 20.65it/s]\n"
     ]
    },
    {
     "ename": "KeyError",
     "evalue": "'image_id'",
     "output_type": "error",
     "traceback": [
      "\u001b[0;31m---------------------------------------------------------------------------\u001b[0m",
      "\u001b[0;31mKeyError\u001b[0m                                  Traceback (most recent call last)",
      "\u001b[0;32m/tmp/ipykernel_24397/1973348732.py\u001b[0m in \u001b[0;36m?\u001b[0;34m()\u001b[0m\n\u001b[0;32m----> 4\u001b[0;31m \u001b[0msv1_dir\u001b[0m \u001b[0;34m=\u001b[0m \u001b[0;34m\"/home/nripstein/Documents/thesis data/thesis labels/sv labels/sv1_frames/\"\u001b[0m\u001b[0;34m\u001b[0m\u001b[0;34m\u001b[0m\u001b[0m\n\u001b[0m\u001b[1;32m      5\u001b[0m \u001b[0;34m\u001b[0m\u001b[0m\n\u001b[1;32m      6\u001b[0m \u001b[0msv1_results\u001b[0m \u001b[0;34m=\u001b[0m \u001b[0mmain\u001b[0m\u001b[0;34m(\u001b[0m\u001b[0msave_imgs\u001b[0m\u001b[0;34m=\u001b[0m\u001b[0;32mFalse\u001b[0m\u001b[0;34m,\u001b[0m \u001b[0mimg_dir\u001b[0m\u001b[0;34m=\u001b[0m\u001b[0msv1_dir\u001b[0m \u001b[0;34m+\u001b[0m \u001b[0;34m'sv1_shrunk'\u001b[0m\u001b[0;34m,\u001b[0m \u001b[0mblue_refine\u001b[0m\u001b[0;34m=\u001b[0m\u001b[0;32mTrue\u001b[0m\u001b[0;34m)\u001b[0m\u001b[0;34m\u001b[0m\u001b[0;34m\u001b[0m\u001b[0m\n\u001b[1;32m      7\u001b[0m \u001b[0msv1_results_cond\u001b[0m \u001b[0;34m=\u001b[0m \u001b[0mcondense_dataframe\u001b[0m\u001b[0;34m(\u001b[0m\u001b[0msv1_results\u001b[0m\u001b[0;34m)\u001b[0m\u001b[0;34m\u001b[0m\u001b[0;34m\u001b[0m\u001b[0m\n",
      "\u001b[0;32m/tmp/ipykernel_24397/3379512541.py\u001b[0m in \u001b[0;36m?\u001b[0;34m(df)\u001b[0m\n\u001b[1;32m    197\u001b[0m     }\n\u001b[1;32m    198\u001b[0m \u001b[0;34m\u001b[0m\u001b[0m\n\u001b[1;32m    199\u001b[0m     \u001b[0;31m# Sort the DataFrame based on 'image' and the custom priority of 'contact_label_pred'\u001b[0m\u001b[0;34m\u001b[0m\u001b[0;34m\u001b[0m\u001b[0;34m\u001b[0m\u001b[0m\n\u001b[1;32m    200\u001b[0m     \u001b[0mdf\u001b[0m\u001b[0;34m[\u001b[0m\u001b[0;34m'priority'\u001b[0m\u001b[0;34m]\u001b[0m \u001b[0;34m=\u001b[0m \u001b[0mdf\u001b[0m\u001b[0;34m[\u001b[0m\u001b[0;34m'contact_label_pred'\u001b[0m\u001b[0;34m]\u001b[0m\u001b[0;34m.\u001b[0m\u001b[0mmap\u001b[0m\u001b[0;34m(\u001b[0m\u001b[0mpriority\u001b[0m\u001b[0;34m)\u001b[0m\u001b[0;34m\u001b[0m\u001b[0;34m\u001b[0m\u001b[0m\n\u001b[0;32m--> 201\u001b[0;31m     \u001b[0mdf\u001b[0m \u001b[0;34m=\u001b[0m \u001b[0mdf\u001b[0m\u001b[0;34m.\u001b[0m\u001b[0msort_values\u001b[0m\u001b[0;34m(\u001b[0m\u001b[0mby\u001b[0m\u001b[0;34m=\u001b[0m\u001b[0;34m[\u001b[0m\u001b[0;34m'image_id'\u001b[0m\u001b[0;34m,\u001b[0m \u001b[0;34m'priority'\u001b[0m\u001b[0;34m]\u001b[0m\u001b[0;34m)\u001b[0m\u001b[0;34m\u001b[0m\u001b[0;34m\u001b[0m\u001b[0m\n\u001b[0m\u001b[1;32m    202\u001b[0m \u001b[0;34m\u001b[0m\u001b[0m\n\u001b[1;32m    203\u001b[0m     \u001b[0;31m# Drop the 'priority' column as it's no longer needed after sorting\u001b[0m\u001b[0;34m\u001b[0m\u001b[0;34m\u001b[0m\u001b[0;34m\u001b[0m\u001b[0m\n\u001b[1;32m    204\u001b[0m     \u001b[0mdf\u001b[0m\u001b[0;34m.\u001b[0m\u001b[0mdrop\u001b[0m\u001b[0;34m(\u001b[0m\u001b[0;34m'priority'\u001b[0m\u001b[0;34m,\u001b[0m \u001b[0maxis\u001b[0m\u001b[0;34m=\u001b[0m\u001b[0;36m1\u001b[0m\u001b[0;34m,\u001b[0m \u001b[0minplace\u001b[0m\u001b[0;34m=\u001b[0m\u001b[0;32mTrue\u001b[0m\u001b[0;34m)\u001b[0m\u001b[0;34m\u001b[0m\u001b[0;34m\u001b[0m\u001b[0m\n",
      "\u001b[0;32m~/miniconda3/envs/shan_et_al2/lib/python3.8/site-packages/pandas/core/frame.py\u001b[0m in \u001b[0;36m?\u001b[0;34m(self, by, axis, ascending, inplace, kind, na_position, ignore_index, key)\u001b[0m\n\u001b[1;32m   6736\u001b[0m                 \u001b[0;34mf\"Length of ascending ({len(ascending)})\"\u001b[0m  \u001b[0;31m# type: ignore[arg-type]\u001b[0m\u001b[0;34m\u001b[0m\u001b[0;34m\u001b[0m\u001b[0m\n\u001b[1;32m   6737\u001b[0m                 \u001b[0;34mf\" != length of by ({len(by)})\"\u001b[0m\u001b[0;34m\u001b[0m\u001b[0;34m\u001b[0m\u001b[0m\n\u001b[1;32m   6738\u001b[0m             )\n\u001b[1;32m   6739\u001b[0m         \u001b[0;32mif\u001b[0m \u001b[0mlen\u001b[0m\u001b[0;34m(\u001b[0m\u001b[0mby\u001b[0m\u001b[0;34m)\u001b[0m \u001b[0;34m>\u001b[0m \u001b[0;36m1\u001b[0m\u001b[0;34m:\u001b[0m\u001b[0;34m\u001b[0m\u001b[0;34m\u001b[0m\u001b[0m\n\u001b[0;32m-> 6740\u001b[0;31m             \u001b[0mkeys\u001b[0m \u001b[0;34m=\u001b[0m \u001b[0;34m[\u001b[0m\u001b[0mself\u001b[0m\u001b[0;34m.\u001b[0m\u001b[0m_get_label_or_level_values\u001b[0m\u001b[0;34m(\u001b[0m\u001b[0mx\u001b[0m\u001b[0;34m,\u001b[0m \u001b[0maxis\u001b[0m\u001b[0;34m=\u001b[0m\u001b[0maxis\u001b[0m\u001b[0;34m)\u001b[0m \u001b[0;32mfor\u001b[0m \u001b[0mx\u001b[0m \u001b[0;32min\u001b[0m \u001b[0mby\u001b[0m\u001b[0;34m]\u001b[0m\u001b[0;34m\u001b[0m\u001b[0;34m\u001b[0m\u001b[0m\n\u001b[0m\u001b[1;32m   6741\u001b[0m \u001b[0;34m\u001b[0m\u001b[0m\n\u001b[1;32m   6742\u001b[0m             \u001b[0;31m# need to rewrap columns in Series to apply key function\u001b[0m\u001b[0;34m\u001b[0m\u001b[0;34m\u001b[0m\u001b[0;34m\u001b[0m\u001b[0m\n\u001b[1;32m   6743\u001b[0m             \u001b[0;32mif\u001b[0m \u001b[0mkey\u001b[0m \u001b[0;32mis\u001b[0m \u001b[0;32mnot\u001b[0m \u001b[0;32mNone\u001b[0m\u001b[0;34m:\u001b[0m\u001b[0;34m\u001b[0m\u001b[0;34m\u001b[0m\u001b[0m\n",
      "\u001b[0;32m~/miniconda3/envs/shan_et_al2/lib/python3.8/site-packages/pandas/core/frame.py\u001b[0m in \u001b[0;36m?\u001b[0;34m(.0)\u001b[0m\n\u001b[0;32m-> 6740\u001b[0;31m     def sort_values(\n\u001b[0m\u001b[1;32m   6741\u001b[0m         \u001b[0mself\u001b[0m\u001b[0;34m,\u001b[0m\u001b[0;34m\u001b[0m\u001b[0;34m\u001b[0m\u001b[0m\n\u001b[1;32m   6742\u001b[0m         \u001b[0mby\u001b[0m\u001b[0;34m:\u001b[0m \u001b[0mIndexLabel\u001b[0m\u001b[0;34m,\u001b[0m\u001b[0;34m\u001b[0m\u001b[0;34m\u001b[0m\u001b[0m\n\u001b[1;32m   6743\u001b[0m         \u001b[0;34m*\u001b[0m\u001b[0;34m,\u001b[0m\u001b[0;34m\u001b[0m\u001b[0;34m\u001b[0m\u001b[0m\n",
      "\u001b[0;32m~/miniconda3/envs/shan_et_al2/lib/python3.8/site-packages/pandas/core/generic.py\u001b[0m in \u001b[0;36m?\u001b[0;34m(self, key, axis)\u001b[0m\n\u001b[1;32m   1774\u001b[0m             \u001b[0mvalues\u001b[0m \u001b[0;34m=\u001b[0m \u001b[0mself\u001b[0m\u001b[0;34m.\u001b[0m\u001b[0mxs\u001b[0m\u001b[0;34m(\u001b[0m\u001b[0mkey\u001b[0m\u001b[0;34m,\u001b[0m \u001b[0maxis\u001b[0m\u001b[0;34m=\u001b[0m\u001b[0mother_axes\u001b[0m\u001b[0;34m[\u001b[0m\u001b[0;36m0\u001b[0m\u001b[0;34m]\u001b[0m\u001b[0;34m)\u001b[0m\u001b[0;34m.\u001b[0m\u001b[0m_values\u001b[0m\u001b[0;34m\u001b[0m\u001b[0;34m\u001b[0m\u001b[0m\n\u001b[1;32m   1775\u001b[0m         \u001b[0;32melif\u001b[0m \u001b[0mself\u001b[0m\u001b[0;34m.\u001b[0m\u001b[0m_is_level_reference\u001b[0m\u001b[0;34m(\u001b[0m\u001b[0mkey\u001b[0m\u001b[0;34m,\u001b[0m \u001b[0maxis\u001b[0m\u001b[0;34m=\u001b[0m\u001b[0maxis\u001b[0m\u001b[0;34m)\u001b[0m\u001b[0;34m:\u001b[0m\u001b[0;34m\u001b[0m\u001b[0;34m\u001b[0m\u001b[0m\n\u001b[1;32m   1776\u001b[0m             \u001b[0mvalues\u001b[0m \u001b[0;34m=\u001b[0m \u001b[0mself\u001b[0m\u001b[0;34m.\u001b[0m\u001b[0maxes\u001b[0m\u001b[0;34m[\u001b[0m\u001b[0maxis\u001b[0m\u001b[0;34m]\u001b[0m\u001b[0;34m.\u001b[0m\u001b[0mget_level_values\u001b[0m\u001b[0;34m(\u001b[0m\u001b[0mkey\u001b[0m\u001b[0;34m)\u001b[0m\u001b[0;34m.\u001b[0m\u001b[0m_values\u001b[0m\u001b[0;34m\u001b[0m\u001b[0;34m\u001b[0m\u001b[0m\n\u001b[1;32m   1777\u001b[0m         \u001b[0;32melse\u001b[0m\u001b[0;34m:\u001b[0m\u001b[0;34m\u001b[0m\u001b[0;34m\u001b[0m\u001b[0m\n\u001b[0;32m-> 1778\u001b[0;31m             \u001b[0;32mraise\u001b[0m \u001b[0mKeyError\u001b[0m\u001b[0;34m(\u001b[0m\u001b[0mkey\u001b[0m\u001b[0;34m)\u001b[0m\u001b[0;34m\u001b[0m\u001b[0;34m\u001b[0m\u001b[0m\n\u001b[0m\u001b[1;32m   1779\u001b[0m \u001b[0;34m\u001b[0m\u001b[0m\n\u001b[1;32m   1780\u001b[0m         \u001b[0;31m# Check for duplicates\u001b[0m\u001b[0;34m\u001b[0m\u001b[0;34m\u001b[0m\u001b[0;34m\u001b[0m\u001b[0m\n\u001b[1;32m   1781\u001b[0m         \u001b[0;32mif\u001b[0m \u001b[0mvalues\u001b[0m\u001b[0;34m.\u001b[0m\u001b[0mndim\u001b[0m \u001b[0;34m>\u001b[0m \u001b[0;36m1\u001b[0m\u001b[0;34m:\u001b[0m\u001b[0;34m\u001b[0m\u001b[0;34m\u001b[0m\u001b[0m\n",
      "\u001b[0;31mKeyError\u001b[0m: 'image_id'"
     ]
    }
   ],
   "source": [
    "sv1_dir = \"/home/nripstein/Documents/thesis data/thesis labels/sv labels/sv1_frames/\"\n",
    "\n",
    "sv1_results = main(save_imgs=False, img_dir=sv1_dir + 'sv1_shrunk', blue_refine=True)\n"
   ]
  },
  {
   "cell_type": "code",
   "execution_count": 18,
   "metadata": {},
   "outputs": [],
   "source": [
    "transformation_dict = {\"Portable Object Contact\": \"green\", \"Portable Object\": \"green\", \"Stationary Object Contact\": \"red\", \"No Contact\": \"yellow\", \"Self Contact\": \"red\"}\n",
    "sv1_results_cond = condense_dataframe(sv1_results)\n",
    "sv1_pred_dict = get_last_indices_of_consecutive_labels2(sv1_results_cond, transformation_dict)\n",
    "sv1_results_cond.to_csv(\"/home/nripstein/Documents/thesis data/thesis labels/sv labels/sv1_frames/sv1_pred.csv\", index=False)"
   ]
  },
  {
   "cell_type": "code",
   "execution_count": 15,
   "metadata": {},
   "outputs": [
    {
     "data": {
      "image/png": "[encoded data removed]",
      "text/plain": [
       "<Figure size 1000x100 with 1 Axes>"
      ]
     },
     "metadata": {},
     "output_type": "display_data"
    }
   ],
   "source": [
    "sv1_gt = csv_to_tuples(sv1_dir + \"changepoints.csv\")\n",
    "gt_dict = comparison_dicts(sv1_gt, len(sv1_results_cond))\n",
    "\n",
    "plot_colored_horizontal_lines(sv1_pred_dict, gt_dict)"
   ]
  },
  {
   "cell_type": "markdown",
   "metadata": {},
   "source": [
    "# Functionize all"
   ]
  },
  {
   "cell_type": "code",
   "execution_count": 26,
   "metadata": {},
   "outputs": [],
   "source": [
    "transformation_dict = {\"Portable Object Contact\": \"green\", \"Portable Object\": \"green\", \"Stationary Object Contact\": \"red\", \"No Contact\": \"yellow\", \"Self Contact\": \"red\"}\n",
    "\n",
    "def pred_imgs(dir: str, shrunk_add: str):\n",
    "    if dir[-1] != \"/\":\n",
    "        raise ValueError(\"NOAH! DIR NEEDS TO END IN '/'\")\n",
    "\n",
    "    raw_preds = main(save_imgs=False, img_dir=dir + shrunk_add, blue_refine=True)\n",
    "    preds_cond = condense_dataframe(raw_preds)\n",
    "    preds_cond.to_csv(dir + \"pred.csv\", index=False)\n",
    "    pred_dict = get_last_indices_of_consecutive_labels2(preds_cond, transformation_dict)\n",
    "\n",
    "\n",
    "    gt = csv_to_tuples(dir + \"changepoints.csv\")\n",
    "    gt_dict = comparison_dicts(gt, len(preds_cond))\n",
    "\n",
    "    plot_colored_horizontal_lines(pred_dict, gt_dict)"
   ]
  },
  {
   "cell_type": "code",
   "execution_count": 27,
   "metadata": {},
   "outputs": [
    {
     "name": "stderr",
     "output_type": "stream",
     "text": [
      "Processing Images: 100%|██████████| 14337/14337 [11:22<00:00, 21.02it/s]\n"
     ]
    },
    {
     "data": {
      "image/png": "[encoded data removed]",
      "text/plain": [
       "<Figure size 1000x100 with 1 Axes>"
      ]
     },
     "metadata": {},
     "output_type": "display_data"
    }
   ],
   "source": [
    "# directories = [\n",
    "#     # '/home/nripstein/Documents/thesis data/thesis labels/sr labels/sr1/',\n",
    "#     '/home/nripstein/Documents/thesis data/thesis labels/sr labels/sr2/',\n",
    "# ]\n",
    "\n",
    "# shrunks = [\n",
    "#     # \"sr1_shrunk\",\n",
    "#     \"sr2_shrunk\",\n",
    "# ]\n",
    "\n",
    "directories = [\n",
    "    # '/home/nripstein/Documents/thesis data/thesis labels/sr labels/sr1/',\n",
    "    '/home/nripstein/Documents/thesis data/thesis labels/nr labels/all_nr/',\n",
    "]\n",
    "\n",
    "shrunks = [\n",
    "    # \"sr1_shrunk\",\n",
    "    \"nr_shrunk\",\n",
    "]\n",
    "\n",
    "\n",
    "for dir, shrunk in zip(directories, shrunks):\n",
    "    pred_imgs(dir, shrunk)"
   ]
  },
  {
   "cell_type": "markdown",
   "metadata": {},
   "source": [
    "# test on sr1"
   ]
  },
  {
   "cell_type": "code",
   "execution_count": 19,
   "metadata": {},
   "outputs": [
    {
     "name": "stderr",
     "output_type": "stream",
     "text": [
      "[autoreload of model.roi_layers.roi_align failed: Traceback (most recent call last):\n",
      "  File \"/home/nripstein/miniconda3/envs/shan_et_al2/lib/python3.8/site-packages/IPython/extensions/autoreload.py\", line 273, in check\n",
      "    superreload(m, reload, self.old_objects)\n",
      "  File \"/home/nripstein/miniconda3/envs/shan_et_al2/lib/python3.8/site-packages/IPython/extensions/autoreload.py\", line 496, in superreload\n",
      "    update_generic(old_obj, new_obj)\n",
      "  File \"/home/nripstein/miniconda3/envs/shan_et_al2/lib/python3.8/site-packages/IPython/extensions/autoreload.py\", line 393, in update_generic\n",
      "    update(a, b)\n",
      "  File \"/home/nripstein/miniconda3/envs/shan_et_al2/lib/python3.8/site-packages/IPython/extensions/autoreload.py\", line 345, in update_class\n",
      "    if update_generic(old_obj, new_obj):\n",
      "  File \"/home/nripstein/miniconda3/envs/shan_et_al2/lib/python3.8/site-packages/IPython/extensions/autoreload.py\", line 393, in update_generic\n",
      "    update(a, b)\n",
      "  File \"/home/nripstein/miniconda3/envs/shan_et_al2/lib/python3.8/site-packages/IPython/extensions/autoreload.py\", line 345, in update_class\n",
      "    if update_generic(old_obj, new_obj):\n",
      "  File \"/home/nripstein/miniconda3/envs/shan_et_al2/lib/python3.8/site-packages/IPython/extensions/autoreload.py\", line 393, in update_generic\n",
      "    update(a, b)\n",
      "  File \"/home/nripstein/miniconda3/envs/shan_et_al2/lib/python3.8/site-packages/IPython/extensions/autoreload.py\", line 345, in update_class\n",
      "    if update_generic(old_obj, new_obj):\n",
      "  File \"/home/nripstein/miniconda3/envs/shan_et_al2/lib/python3.8/site-packages/IPython/extensions/autoreload.py\", line 393, in update_generic\n",
      "    update(a, b)\n",
      "  File \"/home/nripstein/miniconda3/envs/shan_et_al2/lib/python3.8/site-packages/IPython/extensions/autoreload.py\", line 345, in update_class\n",
      "    if update_generic(old_obj, new_obj):\n",
      "RecursionError: maximum recursion depth exceeded while calling a Python object\n",
      "]\n",
      "[autoreload of model.roi_layers.roi_pool failed: Traceback (most recent call last):\n",
      "  File \"/home/nripstein/miniconda3/envs/shan_et_al2/lib/python3.8/site-packages/IPython/extensions/autoreload.py\", line 273, in check\n",
      "    superreload(m, reload, self.old_objects)\n",
      "  File \"/home/nripstein/miniconda3/envs/shan_et_al2/lib/python3.8/site-packages/IPython/extensions/autoreload.py\", line 496, in superreload\n",
      "    update_generic(old_obj, new_obj)\n",
      "  File \"/home/nripstein/miniconda3/envs/shan_et_al2/lib/python3.8/site-packages/IPython/extensions/autoreload.py\", line 393, in update_generic\n",
      "    update(a, b)\n",
      "  File \"/home/nripstein/miniconda3/envs/shan_et_al2/lib/python3.8/site-packages/IPython/extensions/autoreload.py\", line 345, in update_class\n",
      "    if update_generic(old_obj, new_obj):\n",
      "  File \"/home/nripstein/miniconda3/envs/shan_et_al2/lib/python3.8/site-packages/IPython/extensions/autoreload.py\", line 393, in update_generic\n",
      "    update(a, b)\n",
      "  File \"/home/nripstein/miniconda3/envs/shan_et_al2/lib/python3.8/site-packages/IPython/extensions/autoreload.py\", line 345, in update_class\n",
      "    if update_generic(old_obj, new_obj):\n",
      "  File \"/home/nripstein/miniconda3/envs/shan_et_al2/lib/python3.8/site-packages/IPython/extensions/autoreload.py\", line 393, in update_generic\n",
      "    update(a, b)\n",
      "  File \"/home/nripstein/miniconda3/envs/shan_et_al2/lib/python3.8/site-packages/IPython/extensions/autoreload.py\", line 345, in update_class\n",
      "    if update_generic(old_obj, new_obj):\n",
      "  File \"/home/nripstein/miniconda3/envs/shan_et_al2/lib/python3.8/site-packages/IPython/extensions/autoreload.py\", line 393, in update_generic\n",
      "    update(a, b)\n",
      "  File \"/home/nripstein/miniconda3/envs/shan_et_al2/lib/python3.8/site-packages/IPython/extensions/autoreload.py\", line 345, in update_class\n",
      "    if update_generic(old_obj, new_obj):\n",
      "RecursionError: maximum recursion depth exceeded while calling a Python object\n",
      "]\n",
      "Processing Images: 100%|██████████| 15432/15432 [11:42<00:00, 21.98it/s]\n"
     ]
    },
    {
     "data": {
      "image/png": "[encoded data removed]",
      "text/plain": [
       "<Figure size 1000x100 with 1 Axes>"
      ]
     },
     "metadata": {},
     "output_type": "display_data"
    }
   ],
   "source": [
    "sv1_dir = \"/home/nripstein/Documents/thesis data/thesis labels/sr labels/sr1/\"\n",
    "\n",
    "sr1_results = main(save_imgs=False, img_dir=sv1_dir + 'sr1_shrunk', blue_refine=True)\n",
    "sr1_results_cond = condense_dataframe(sr1_results)\n",
    "sr1_pred_dict = get_last_indices_of_consecutive_labels2(sr1_results_cond, transformation_dict)\n",
    "\n",
    "sv1_gt = csv_to_tuples(sv1_dir + \"changepoints.csv\")\n",
    "gt_dict = comparison_dicts(sv1_gt, len(sr1_results_cond))\n",
    "\n",
    "plot_colored_horizontal_lines(sr1_pred_dict, gt_dict)"
   ]
  },
  {
   "cell_type": "code",
   "execution_count": 20,
   "metadata": {},
   "outputs": [
    {
     "name": "stderr",
     "output_type": "stream",
     "text": [
      "Processing Images: 100%|██████████| 15432/15432 [19:23<00:00, 13.27it/s]\n"
     ]
    },
    {
     "data": {
      "image/png": "[encoded data removed]",
      "text/plain": [
       "<Figure size 1000x100 with 1 Axes>"
      ]
     },
     "metadata": {},
     "output_type": "display_data"
    }
   ],
   "source": [
    "sr1_dir = \"/home/nripstein/Documents/thesis data/thesis labels/sr labels/sr1/\"\n",
    "\n",
    "sr1_results = main(save_imgs=True, img_dir=sr1_dir + 'sr1_shrunk', blue_refine=True)\n",
    "sr1_results_cond = condense_dataframe(sr1_results)\n",
    "sr1_pred_dict = get_last_indices_of_consecutive_labels2(sr1_results_cond, transformation_dict)\n",
    "\n",
    "sv1_gt = csv_to_tuples(sr1_dir + \"changepoints.csv\")\n",
    "gt_dict = comparison_dicts(sv1_gt, len(sr1_results_cond))\n",
    "\n",
    "plot_colored_horizontal_lines(sr1_pred_dict, gt_dict)"
   ]
  },
  {
   "cell_type": "code",
   "execution_count": 3,
   "metadata": {},
   "outputs": [
    {
     "name": "stderr",
     "output_type": "stream",
     "text": [
      "Extracting frames from GOPR4366c.mp4:   0%|          | 0/1740 [00:00<?, ?it/s]"
     ]
    },
    {
     "name": "stderr",
     "output_type": "stream",
     "text": [
      "Extracting frames from GOPR4366c.mp4: 100%|██████████| 1740/1740 [00:06<00:00, 279.97it/s]\n",
      "Processing Images:  59%|█████▉    | 1030/1740 [01:11<00:46, 15.18it/s]"
     ]
    }
   ],
   "source": [
    "GOPR4366_dir = '/home/nripstein/Documents/thesis data/lab participants/p6/'\n",
    "\n",
    "GOPR4366_results = main(save_imgs=False, img_dir=GOPR4366_dir + 'GOPR4366c.mp4', blue_refine=True)\n"
   ]
  },
  {
   "cell_type": "code",
   "execution_count": null,
   "metadata": {},
   "outputs": [
    {
     "data": {
      "text/html": [
       "<div>\n",
       "<style scoped>\n",
       "    .dataframe tbody tr th:only-of-type {\n",
       "        vertical-align: middle;\n",
       "    }\n",
       "\n",
       "    .dataframe tbody tr th {\n",
       "        vertical-align: top;\n",
       "    }\n",
       "\n",
       "    .dataframe thead th {\n",
       "        text-align: right;\n",
       "    }\n",
       "</style>\n",
       "<table border=\"1\" class=\"dataframe\">\n",
       "  <thead>\n",
       "    <tr style=\"text-align: right;\">\n",
       "      <th></th>\n",
       "      <th>frame_id</th>\n",
       "      <th>contact_label_pred</th>\n",
       "      <th>probability</th>\n",
       "      <th>bbox</th>\n",
       "      <th>type</th>\n",
       "      <th>which</th>\n",
       "    </tr>\n",
       "  </thead>\n",
       "  <tbody>\n",
       "    <tr>\n",
       "      <th>0</th>\n",
       "      <td>113_GOPR4366c.png</td>\n",
       "      <td>Stationary Object Contact</td>\n",
       "      <td>99</td>\n",
       "      <td>[106, 165, 258, 331]</td>\n",
       "      <td>hand</td>\n",
       "      <td>Left</td>\n",
       "    </tr>\n",
       "    <tr>\n",
       "      <th>1</th>\n",
       "      <td>113_GOPR4366c.png</td>\n",
       "      <td>Stationary Object Contact</td>\n",
       "      <td>99</td>\n",
       "      <td>[279, 181, 394, 330]</td>\n",
       "      <td>hand</td>\n",
       "      <td>Right</td>\n",
       "    </tr>\n",
       "    <tr>\n",
       "      <th>2</th>\n",
       "      <td>113_GOPR4366c.png</td>\n",
       "      <td>False</td>\n",
       "      <td>79</td>\n",
       "      <td>[0, 0, 469, 390]</td>\n",
       "      <td>obj</td>\n",
       "      <td>False</td>\n",
       "    </tr>\n",
       "    <tr>\n",
       "      <th>3</th>\n",
       "      <td>1507_GOPR4366c.png</td>\n",
       "      <td>Portable Object</td>\n",
       "      <td>99</td>\n",
       "      <td>[263, 174, 367, 330]</td>\n",
       "      <td>hand</td>\n",
       "      <td>Right</td>\n",
       "    </tr>\n",
       "    <tr>\n",
       "      <th>4</th>\n",
       "      <td>1507_GOPR4366c.png</td>\n",
       "      <td>Portable Object</td>\n",
       "      <td>99</td>\n",
       "      <td>[113, 186, 276, 343]</td>\n",
       "      <td>hand</td>\n",
       "      <td>Left</td>\n",
       "    </tr>\n",
       "    <tr>\n",
       "      <th>...</th>\n",
       "      <td>...</td>\n",
       "      <td>...</td>\n",
       "      <td>...</td>\n",
       "      <td>...</td>\n",
       "      <td>...</td>\n",
       "      <td>...</td>\n",
       "    </tr>\n",
       "    <tr>\n",
       "      <th>5637</th>\n",
       "      <td>624_GOPR4366c.png</td>\n",
       "      <td>Stationary Object Contact</td>\n",
       "      <td>99</td>\n",
       "      <td>[165, 3, 301, 132]</td>\n",
       "      <td>hand</td>\n",
       "      <td>Right</td>\n",
       "    </tr>\n",
       "    <tr>\n",
       "      <th>5638</th>\n",
       "      <td>624_GOPR4366c.png</td>\n",
       "      <td>False</td>\n",
       "      <td>93</td>\n",
       "      <td>[18, 0, 466, 406]</td>\n",
       "      <td>obj</td>\n",
       "      <td>False</td>\n",
       "    </tr>\n",
       "    <tr>\n",
       "      <th>5639</th>\n",
       "      <td>1165_GOPR4366c.png</td>\n",
       "      <td>Portable Object</td>\n",
       "      <td>99</td>\n",
       "      <td>[104, 115, 271, 336]</td>\n",
       "      <td>hand</td>\n",
       "      <td>Left</td>\n",
       "    </tr>\n",
       "    <tr>\n",
       "      <th>5640</th>\n",
       "      <td>1165_GOPR4366c.png</td>\n",
       "      <td>Portable Object</td>\n",
       "      <td>99</td>\n",
       "      <td>[252, 153, 363, 315]</td>\n",
       "      <td>hand</td>\n",
       "      <td>Right</td>\n",
       "    </tr>\n",
       "    <tr>\n",
       "      <th>5641</th>\n",
       "      <td>1165_GOPR4366c.png</td>\n",
       "      <td>False</td>\n",
       "      <td>96</td>\n",
       "      <td>[230, 152, 292, 222]</td>\n",
       "      <td>obj</td>\n",
       "      <td>False</td>\n",
       "    </tr>\n",
       "  </tbody>\n",
       "</table>\n",
       "<p>5642 rows × 6 columns</p>\n",
       "</div>"
      ],
      "text/plain": [
       "                frame_id         contact_label_pred  probability  \\\n",
       "0      113_GOPR4366c.png  Stationary Object Contact           99   \n",
       "1      113_GOPR4366c.png  Stationary Object Contact           99   \n",
       "2      113_GOPR4366c.png                      False           79   \n",
       "3     1507_GOPR4366c.png            Portable Object           99   \n",
       "4     1507_GOPR4366c.png            Portable Object           99   \n",
       "...                  ...                        ...          ...   \n",
       "5637   624_GOPR4366c.png  Stationary Object Contact           99   \n",
       "5638   624_GOPR4366c.png                      False           93   \n",
       "5639  1165_GOPR4366c.png            Portable Object           99   \n",
       "5640  1165_GOPR4366c.png            Portable Object           99   \n",
       "5641  1165_GOPR4366c.png                      False           96   \n",
       "\n",
       "                      bbox  type  which  \n",
       "0     [106, 165, 258, 331]  hand   Left  \n",
       "1     [279, 181, 394, 330]  hand  Right  \n",
       "2         [0, 0, 469, 390]   obj  False  \n",
       "3     [263, 174, 367, 330]  hand  Right  \n",
       "4     [113, 186, 276, 343]  hand   Left  \n",
       "...                    ...   ...    ...  \n",
       "5637    [165, 3, 301, 132]  hand  Right  \n",
       "5638     [18, 0, 466, 406]   obj  False  \n",
       "5639  [104, 115, 271, 336]  hand   Left  \n",
       "5640  [252, 153, 363, 315]  hand  Right  \n",
       "5641  [230, 152, 292, 222]   obj  False  \n",
       "\n",
       "[5642 rows x 6 columns]"
      ]
     },
     "metadata": {},
     "output_type": "display_data"
    }
   ],
   "source": [
    "display(GOPR4366_results)"
   ]
  },
  {
   "cell_type": "code",
   "execution_count": 7,
   "metadata": {},
   "outputs": [
    {
     "data": {
      "image/png": "[encoded data removed]",
      "text/plain": [
       "<Figure size 1000x100 with 1 Axes>"
      ]
     },
     "metadata": {},
     "output_type": "display_data"
    }
   ],
   "source": [
    "GOPR4366_results_cond = condense_dataframe(GOPR4366_results)\n",
    "GOPR4366_pred_dict = get_last_indices_of_consecutive_labels2(GOPR4366_results_cond, transformation_dict)\n",
    "\n",
    "GOPR4366_results_cond.to_csv(GOPR4366_dir + \"GOPR4366_pred.csv\", index=False)\n",
    "plot_colored_horizontal_lines(GOPR4366_pred_dict, GOPR4366_pred_dict)"
   ]
  },
  {
   "cell_type": "code",
   "execution_count": 8,
   "metadata": {},
   "outputs": [
    {
     "data": {
      "image/png": "[encoded data removed]",
      "text/plain": [
       "<Figure size 1000x100 with 1 Axes>"
      ]
     },
     "metadata": {},
     "output_type": "display_data"
    }
   ],
   "source": [
    "GOPR4366_results_cond = condense_dataframe_new(GOPR4366_results)\n",
    "GOPR4366_pred_dict = get_last_indices_of_consecutive_labels2_new(GOPR4366_results_cond, transformation_dict)\n",
    "\n",
    "GOPR4366_results_cond.to_csv(GOPR4366_dir + \"GOPR4366_pred.csv\", index=False)\n",
    "plot_colored_horizontal_lines(GOPR4366_pred_dict, GOPR4366_pred_dict)"
   ]
  }
 ],
 "metadata": {
  "kernelspec": {
   "display_name": "shan_et_al2",
   "language": "python",
   "name": "python3"
  },
  "language_info": {
   "codemirror_mode": {
    "name": "ipython",
    "version": 3
   },
   "file_extension": ".py",
   "mimetype": "text/x-python",
   "name": "python",
   "nbconvert_exporter": "python",
   "pygments_lexer": "ipython3",
   "version": "3.8.18"
  }
 },
 "nbformat": 4,
 "nbformat_minor": 2
}
